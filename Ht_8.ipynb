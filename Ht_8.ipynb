{
 "cells": [
  {
   "cell_type": "markdown",
   "id": "e2d9fdd0",
   "metadata": {},
   "source": [
    "### Домашнее задание по теме 8"
   ]
  },
  {
   "cell_type": "markdown",
   "id": "0966d83e",
   "metadata": {},
   "source": [
    "### Задание 1"
   ]
  },
  {
   "cell_type": "code",
   "execution_count": 115,
   "id": "92843930",
   "metadata": {},
   "outputs": [],
   "source": [
    "import re"
   ]
  },
  {
   "cell_type": "code",
   "execution_count": 236,
   "id": "920dcfb0",
   "metadata": {},
   "outputs": [],
   "source": [
    "def validation_car_id(car_id):\n",
    "    \"\"\"\n",
    "    функция проверяющая валидность автомобильного номера \n",
    "    и возвращающая при валидности номер и регион\n",
    "    \n",
    "    \"\"\"\n",
    "    region_number=[]\n",
    "    number_car=[]\n",
    "    validation_id_car= re.findall(r'\\b[АВЕКМНОРСТУХ]\\d{3}[АВЕКМНОРСТУХ]{2}\\d{3}\\b|\\b[АВЕКМНОРСТУХ]\\d{3}[АВЕКМНОРСТУХ]{2}\\d{2}\\b',\n",
    "    car_id, flags=re.IGNORECASE) #проверка на валидность номера \n",
    "    if len(validation_id_car)>0:\n",
    "        number_car=re.findall(r'\\b[АВЕКМНОРСТУХ]\\d{3}[АВЕКМНОРСТУХ]{2}',car_id,flags=re.IGNORECASE) # выделение номера\n",
    "        region_number=re.findall(r'\\b[АВЕКМНОРСТУХ]\\d{3}[АВЕКМНОРСТУХ]{2}(\\d{2,3})\\b',car_id,       # выделение региона\n",
    "        flags=re.IGNORECASE)\n",
    "        print(f'car_id ={car_id}')\n",
    "        print(f'Результат: Номер {number_car[0]} валиден. Регион: {region_number[0]}')\n",
    "    else:\n",
    "        print(f'car_id = {car_id}')\n",
    "        print('Результат: Номер не валиден')\n",
    "        \n",
    "    \n",
    "   "
   ]
  },
  {
   "cell_type": "code",
   "execution_count": 237,
   "id": "d5d5c9c0",
   "metadata": {},
   "outputs": [
    {
     "name": "stdout",
     "output_type": "stream",
     "text": [
      "car_id =Х644ХУ96\n",
      "Результат: Номер Х644ХУ валиден. Регион: 96\n"
     ]
    }
   ],
   "source": [
    "validation_car_id('Х644ХУ96')"
   ]
  },
  {
   "cell_type": "code",
   "execution_count": 238,
   "id": "66d7cfdc",
   "metadata": {},
   "outputs": [
    {
     "name": "stdout",
     "output_type": "stream",
     "text": [
      "car_id =Х644ХУ196\n",
      "Результат: Номер Х644ХУ валиден. Регион: 196\n"
     ]
    }
   ],
   "source": [
    "validation_car_id('Х644ХУ196')"
   ]
  },
  {
   "cell_type": "code",
   "execution_count": 239,
   "id": "98647470",
   "metadata": {},
   "outputs": [
    {
     "name": "stdout",
     "output_type": "stream",
     "text": [
      "car_id = ХУ22ВВ193\n",
      "Результат: Номер не валиден\n"
     ]
    }
   ],
   "source": [
    "validation_car_id('ХУ22ВВ193')"
   ]
  }
 ],
 "metadata": {
  "kernelspec": {
   "display_name": "Python 3 (ipykernel)",
   "language": "python",
   "name": "python3"
  },
  "language_info": {
   "codemirror_mode": {
    "name": "ipython",
    "version": 3
   },
   "file_extension": ".py",
   "mimetype": "text/x-python",
   "name": "python",
   "nbconvert_exporter": "python",
   "pygments_lexer": "ipython3",
   "version": "3.9.12"
  }
 },
 "nbformat": 4,
 "nbformat_minor": 5
}
