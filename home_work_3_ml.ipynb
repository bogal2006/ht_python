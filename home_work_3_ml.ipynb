{
 "cells": [
  {
   "cell_type": "code",
   "execution_count": 105,
   "id": "da78dc3e",
   "metadata": {},
   "outputs": [],
   "source": [
    "import pandas as pd\n",
    "import seaborn as sns\n",
    "import matplotlib"
   ]
  },
  {
   "cell_type": "code",
   "execution_count": 48,
   "id": "68b14a0a",
   "metadata": {},
   "outputs": [],
   "source": [
    "import numpy as np"
   ]
  },
  {
   "cell_type": "code",
   "execution_count": 125,
   "id": "9779a447",
   "metadata": {},
   "outputs": [],
   "source": [
    "df=pd.read_csv('winequality-red.csv',sep=';')"
   ]
  },
  {
   "cell_type": "code",
   "execution_count": 126,
   "id": "19b3377c",
   "metadata": {},
   "outputs": [
    {
     "data": {
      "text/html": [
       "<div>\n",
       "<style scoped>\n",
       "    .dataframe tbody tr th:only-of-type {\n",
       "        vertical-align: middle;\n",
       "    }\n",
       "\n",
       "    .dataframe tbody tr th {\n",
       "        vertical-align: top;\n",
       "    }\n",
       "\n",
       "    .dataframe thead th {\n",
       "        text-align: right;\n",
       "    }\n",
       "</style>\n",
       "<table border=\"1\" class=\"dataframe\">\n",
       "  <thead>\n",
       "    <tr style=\"text-align: right;\">\n",
       "      <th></th>\n",
       "      <th>fixed acidity</th>\n",
       "      <th>volatile acidity</th>\n",
       "      <th>citric acid</th>\n",
       "      <th>residual sugar</th>\n",
       "      <th>chlorides</th>\n",
       "      <th>free sulfur dioxide</th>\n",
       "      <th>total sulfur dioxide</th>\n",
       "      <th>density</th>\n",
       "      <th>pH</th>\n",
       "      <th>sulphates</th>\n",
       "      <th>alcohol</th>\n",
       "      <th>quality</th>\n",
       "    </tr>\n",
       "  </thead>\n",
       "  <tbody>\n",
       "    <tr>\n",
       "      <th>0</th>\n",
       "      <td>7.4</td>\n",
       "      <td>0.70</td>\n",
       "      <td>0.00</td>\n",
       "      <td>1.9</td>\n",
       "      <td>0.076</td>\n",
       "      <td>11.0</td>\n",
       "      <td>34.0</td>\n",
       "      <td>0.9978</td>\n",
       "      <td>3.51</td>\n",
       "      <td>0.56</td>\n",
       "      <td>9.4</td>\n",
       "      <td>5</td>\n",
       "    </tr>\n",
       "    <tr>\n",
       "      <th>1</th>\n",
       "      <td>7.8</td>\n",
       "      <td>0.88</td>\n",
       "      <td>0.00</td>\n",
       "      <td>2.6</td>\n",
       "      <td>0.098</td>\n",
       "      <td>25.0</td>\n",
       "      <td>67.0</td>\n",
       "      <td>0.9968</td>\n",
       "      <td>3.20</td>\n",
       "      <td>0.68</td>\n",
       "      <td>9.8</td>\n",
       "      <td>5</td>\n",
       "    </tr>\n",
       "    <tr>\n",
       "      <th>2</th>\n",
       "      <td>7.8</td>\n",
       "      <td>0.76</td>\n",
       "      <td>0.04</td>\n",
       "      <td>2.3</td>\n",
       "      <td>0.092</td>\n",
       "      <td>15.0</td>\n",
       "      <td>54.0</td>\n",
       "      <td>0.9970</td>\n",
       "      <td>3.26</td>\n",
       "      <td>0.65</td>\n",
       "      <td>9.8</td>\n",
       "      <td>5</td>\n",
       "    </tr>\n",
       "    <tr>\n",
       "      <th>3</th>\n",
       "      <td>11.2</td>\n",
       "      <td>0.28</td>\n",
       "      <td>0.56</td>\n",
       "      <td>1.9</td>\n",
       "      <td>0.075</td>\n",
       "      <td>17.0</td>\n",
       "      <td>60.0</td>\n",
       "      <td>0.9980</td>\n",
       "      <td>3.16</td>\n",
       "      <td>0.58</td>\n",
       "      <td>9.8</td>\n",
       "      <td>6</td>\n",
       "    </tr>\n",
       "    <tr>\n",
       "      <th>4</th>\n",
       "      <td>7.4</td>\n",
       "      <td>0.70</td>\n",
       "      <td>0.00</td>\n",
       "      <td>1.9</td>\n",
       "      <td>0.076</td>\n",
       "      <td>11.0</td>\n",
       "      <td>34.0</td>\n",
       "      <td>0.9978</td>\n",
       "      <td>3.51</td>\n",
       "      <td>0.56</td>\n",
       "      <td>9.4</td>\n",
       "      <td>5</td>\n",
       "    </tr>\n",
       "  </tbody>\n",
       "</table>\n",
       "</div>"
      ],
      "text/plain": [
       "   fixed acidity  volatile acidity  citric acid  residual sugar  chlorides  \\\n",
       "0            7.4              0.70         0.00             1.9      0.076   \n",
       "1            7.8              0.88         0.00             2.6      0.098   \n",
       "2            7.8              0.76         0.04             2.3      0.092   \n",
       "3           11.2              0.28         0.56             1.9      0.075   \n",
       "4            7.4              0.70         0.00             1.9      0.076   \n",
       "\n",
       "   free sulfur dioxide  total sulfur dioxide  density    pH  sulphates  \\\n",
       "0                 11.0                  34.0   0.9978  3.51       0.56   \n",
       "1                 25.0                  67.0   0.9968  3.20       0.68   \n",
       "2                 15.0                  54.0   0.9970  3.26       0.65   \n",
       "3                 17.0                  60.0   0.9980  3.16       0.58   \n",
       "4                 11.0                  34.0   0.9978  3.51       0.56   \n",
       "\n",
       "   alcohol  quality  \n",
       "0      9.4        5  \n",
       "1      9.8        5  \n",
       "2      9.8        5  \n",
       "3      9.8        6  \n",
       "4      9.4        5  "
      ]
     },
     "execution_count": 126,
     "metadata": {},
     "output_type": "execute_result"
    }
   ],
   "source": [
    "df.head()"
   ]
  },
  {
   "cell_type": "code",
   "execution_count": 127,
   "id": "5790b7e5",
   "metadata": {},
   "outputs": [
    {
     "data": {
      "text/plain": [
       "(1599, 12)"
      ]
     },
     "execution_count": 127,
     "metadata": {},
     "output_type": "execute_result"
    }
   ],
   "source": [
    "df.shape"
   ]
  },
  {
   "cell_type": "code",
   "execution_count": 128,
   "id": "849e66de",
   "metadata": {},
   "outputs": [
    {
     "data": {
      "text/plain": [
       "5    681\n",
       "6    638\n",
       "7    199\n",
       "4     53\n",
       "8     18\n",
       "3     10\n",
       "Name: quality, dtype: int64"
      ]
     },
     "execution_count": 128,
     "metadata": {},
     "output_type": "execute_result"
    }
   ],
   "source": [
    "df['quality'].value_counts()"
   ]
  },
  {
   "cell_type": "code",
   "execution_count": 129,
   "id": "1cff2761",
   "metadata": {},
   "outputs": [
    {
     "name": "stdout",
     "output_type": "stream",
     "text": [
      "<class 'pandas.core.frame.DataFrame'>\n",
      "RangeIndex: 1599 entries, 0 to 1598\n",
      "Data columns (total 12 columns):\n",
      " #   Column                Non-Null Count  Dtype  \n",
      "---  ------                --------------  -----  \n",
      " 0   fixed acidity         1599 non-null   float64\n",
      " 1   volatile acidity      1599 non-null   float64\n",
      " 2   citric acid           1599 non-null   float64\n",
      " 3   residual sugar        1599 non-null   float64\n",
      " 4   chlorides             1599 non-null   float64\n",
      " 5   free sulfur dioxide   1599 non-null   float64\n",
      " 6   total sulfur dioxide  1599 non-null   float64\n",
      " 7   density               1599 non-null   float64\n",
      " 8   pH                    1599 non-null   float64\n",
      " 9   sulphates             1599 non-null   float64\n",
      " 10  alcohol               1599 non-null   float64\n",
      " 11  quality               1599 non-null   int64  \n",
      "dtypes: float64(11), int64(1)\n",
      "memory usage: 150.0 KB\n"
     ]
    }
   ],
   "source": [
    "df.info()"
   ]
  },
  {
   "cell_type": "code",
   "execution_count": 130,
   "id": "6cb47040",
   "metadata": {},
   "outputs": [],
   "source": [
    "df.loc[df['quality']>5,['label']]=1 "
   ]
  },
  {
   "cell_type": "code",
   "execution_count": 131,
   "id": "70519550",
   "metadata": {},
   "outputs": [],
   "source": [
    "df.loc[df['quality']<6,['label']]=0"
   ]
  },
  {
   "cell_type": "code",
   "execution_count": 43,
   "id": "bceae074",
   "metadata": {},
   "outputs": [
    {
     "data": {
      "text/html": [
       "<div>\n",
       "<style scoped>\n",
       "    .dataframe tbody tr th:only-of-type {\n",
       "        vertical-align: middle;\n",
       "    }\n",
       "\n",
       "    .dataframe tbody tr th {\n",
       "        vertical-align: top;\n",
       "    }\n",
       "\n",
       "    .dataframe thead th {\n",
       "        text-align: right;\n",
       "    }\n",
       "</style>\n",
       "<table border=\"1\" class=\"dataframe\">\n",
       "  <thead>\n",
       "    <tr style=\"text-align: right;\">\n",
       "      <th></th>\n",
       "      <th>fixed acidity</th>\n",
       "      <th>volatile acidity</th>\n",
       "      <th>citric acid</th>\n",
       "      <th>residual sugar</th>\n",
       "      <th>chlorides</th>\n",
       "      <th>free sulfur dioxide</th>\n",
       "      <th>total sulfur dioxide</th>\n",
       "      <th>density</th>\n",
       "      <th>pH</th>\n",
       "      <th>sulphates</th>\n",
       "      <th>alcohol</th>\n",
       "      <th>quality</th>\n",
       "      <th>label</th>\n",
       "    </tr>\n",
       "  </thead>\n",
       "  <tbody>\n",
       "    <tr>\n",
       "      <th>1594</th>\n",
       "      <td>6.2</td>\n",
       "      <td>0.600</td>\n",
       "      <td>0.08</td>\n",
       "      <td>2.0</td>\n",
       "      <td>0.090</td>\n",
       "      <td>32.0</td>\n",
       "      <td>44.0</td>\n",
       "      <td>0.99490</td>\n",
       "      <td>3.45</td>\n",
       "      <td>0.58</td>\n",
       "      <td>10.5</td>\n",
       "      <td>5</td>\n",
       "      <td>0.0</td>\n",
       "    </tr>\n",
       "    <tr>\n",
       "      <th>1595</th>\n",
       "      <td>5.9</td>\n",
       "      <td>0.550</td>\n",
       "      <td>0.10</td>\n",
       "      <td>2.2</td>\n",
       "      <td>0.062</td>\n",
       "      <td>39.0</td>\n",
       "      <td>51.0</td>\n",
       "      <td>0.99512</td>\n",
       "      <td>3.52</td>\n",
       "      <td>0.76</td>\n",
       "      <td>11.2</td>\n",
       "      <td>6</td>\n",
       "      <td>1.0</td>\n",
       "    </tr>\n",
       "    <tr>\n",
       "      <th>1596</th>\n",
       "      <td>6.3</td>\n",
       "      <td>0.510</td>\n",
       "      <td>0.13</td>\n",
       "      <td>2.3</td>\n",
       "      <td>0.076</td>\n",
       "      <td>29.0</td>\n",
       "      <td>40.0</td>\n",
       "      <td>0.99574</td>\n",
       "      <td>3.42</td>\n",
       "      <td>0.75</td>\n",
       "      <td>11.0</td>\n",
       "      <td>6</td>\n",
       "      <td>1.0</td>\n",
       "    </tr>\n",
       "    <tr>\n",
       "      <th>1597</th>\n",
       "      <td>5.9</td>\n",
       "      <td>0.645</td>\n",
       "      <td>0.12</td>\n",
       "      <td>2.0</td>\n",
       "      <td>0.075</td>\n",
       "      <td>32.0</td>\n",
       "      <td>44.0</td>\n",
       "      <td>0.99547</td>\n",
       "      <td>3.57</td>\n",
       "      <td>0.71</td>\n",
       "      <td>10.2</td>\n",
       "      <td>5</td>\n",
       "      <td>0.0</td>\n",
       "    </tr>\n",
       "    <tr>\n",
       "      <th>1598</th>\n",
       "      <td>6.0</td>\n",
       "      <td>0.310</td>\n",
       "      <td>0.47</td>\n",
       "      <td>3.6</td>\n",
       "      <td>0.067</td>\n",
       "      <td>18.0</td>\n",
       "      <td>42.0</td>\n",
       "      <td>0.99549</td>\n",
       "      <td>3.39</td>\n",
       "      <td>0.66</td>\n",
       "      <td>11.0</td>\n",
       "      <td>6</td>\n",
       "      <td>1.0</td>\n",
       "    </tr>\n",
       "  </tbody>\n",
       "</table>\n",
       "</div>"
      ],
      "text/plain": [
       "      fixed acidity  volatile acidity  citric acid  residual sugar  chlorides  \\\n",
       "1594            6.2             0.600         0.08             2.0      0.090   \n",
       "1595            5.9             0.550         0.10             2.2      0.062   \n",
       "1596            6.3             0.510         0.13             2.3      0.076   \n",
       "1597            5.9             0.645         0.12             2.0      0.075   \n",
       "1598            6.0             0.310         0.47             3.6      0.067   \n",
       "\n",
       "      free sulfur dioxide  total sulfur dioxide  density    pH  sulphates  \\\n",
       "1594                 32.0                  44.0  0.99490  3.45       0.58   \n",
       "1595                 39.0                  51.0  0.99512  3.52       0.76   \n",
       "1596                 29.0                  40.0  0.99574  3.42       0.75   \n",
       "1597                 32.0                  44.0  0.99547  3.57       0.71   \n",
       "1598                 18.0                  42.0  0.99549  3.39       0.66   \n",
       "\n",
       "      alcohol  quality  label  \n",
       "1594     10.5        5    0.0  \n",
       "1595     11.2        6    1.0  \n",
       "1596     11.0        6    1.0  \n",
       "1597     10.2        5    0.0  \n",
       "1598     11.0        6    1.0  "
      ]
     },
     "execution_count": 43,
     "metadata": {},
     "output_type": "execute_result"
    }
   ],
   "source": [
    "df.tail()"
   ]
  },
  {
   "cell_type": "code",
   "execution_count": 132,
   "id": "0cdb729b",
   "metadata": {},
   "outputs": [
    {
     "name": "stdout",
     "output_type": "stream",
     "text": [
      "<class 'pandas.core.frame.DataFrame'>\n",
      "RangeIndex: 1599 entries, 0 to 1598\n",
      "Data columns (total 13 columns):\n",
      " #   Column                Non-Null Count  Dtype  \n",
      "---  ------                --------------  -----  \n",
      " 0   fixed acidity         1599 non-null   float64\n",
      " 1   volatile acidity      1599 non-null   float64\n",
      " 2   citric acid           1599 non-null   float64\n",
      " 3   residual sugar        1599 non-null   float64\n",
      " 4   chlorides             1599 non-null   float64\n",
      " 5   free sulfur dioxide   1599 non-null   float64\n",
      " 6   total sulfur dioxide  1599 non-null   float64\n",
      " 7   density               1599 non-null   float64\n",
      " 8   pH                    1599 non-null   float64\n",
      " 9   sulphates             1599 non-null   float64\n",
      " 10  alcohol               1599 non-null   float64\n",
      " 11  quality               1599 non-null   int64  \n",
      " 12  label                 1599 non-null   float64\n",
      "dtypes: float64(12), int64(1)\n",
      "memory usage: 162.5 KB\n"
     ]
    }
   ],
   "source": [
    "df.info()"
   ]
  },
  {
   "cell_type": "code",
   "execution_count": 133,
   "id": "d4ed2527",
   "metadata": {},
   "outputs": [],
   "source": [
    "df['label']=df['label'].astype('int')"
   ]
  },
  {
   "cell_type": "code",
   "execution_count": 134,
   "id": "eb4fc1cf",
   "metadata": {},
   "outputs": [
    {
     "data": {
      "text/html": [
       "<div>\n",
       "<style scoped>\n",
       "    .dataframe tbody tr th:only-of-type {\n",
       "        vertical-align: middle;\n",
       "    }\n",
       "\n",
       "    .dataframe tbody tr th {\n",
       "        vertical-align: top;\n",
       "    }\n",
       "\n",
       "    .dataframe thead th {\n",
       "        text-align: right;\n",
       "    }\n",
       "</style>\n",
       "<table border=\"1\" class=\"dataframe\">\n",
       "  <thead>\n",
       "    <tr style=\"text-align: right;\">\n",
       "      <th></th>\n",
       "      <th>fixed acidity</th>\n",
       "      <th>volatile acidity</th>\n",
       "      <th>citric acid</th>\n",
       "      <th>residual sugar</th>\n",
       "      <th>chlorides</th>\n",
       "      <th>free sulfur dioxide</th>\n",
       "      <th>total sulfur dioxide</th>\n",
       "      <th>density</th>\n",
       "      <th>pH</th>\n",
       "      <th>sulphates</th>\n",
       "      <th>alcohol</th>\n",
       "      <th>quality</th>\n",
       "      <th>label</th>\n",
       "    </tr>\n",
       "  </thead>\n",
       "  <tbody>\n",
       "    <tr>\n",
       "      <th>0</th>\n",
       "      <td>7.4</td>\n",
       "      <td>0.70</td>\n",
       "      <td>0.00</td>\n",
       "      <td>1.9</td>\n",
       "      <td>0.076</td>\n",
       "      <td>11.0</td>\n",
       "      <td>34.0</td>\n",
       "      <td>0.9978</td>\n",
       "      <td>3.51</td>\n",
       "      <td>0.56</td>\n",
       "      <td>9.4</td>\n",
       "      <td>5</td>\n",
       "      <td>0</td>\n",
       "    </tr>\n",
       "    <tr>\n",
       "      <th>1</th>\n",
       "      <td>7.8</td>\n",
       "      <td>0.88</td>\n",
       "      <td>0.00</td>\n",
       "      <td>2.6</td>\n",
       "      <td>0.098</td>\n",
       "      <td>25.0</td>\n",
       "      <td>67.0</td>\n",
       "      <td>0.9968</td>\n",
       "      <td>3.20</td>\n",
       "      <td>0.68</td>\n",
       "      <td>9.8</td>\n",
       "      <td>5</td>\n",
       "      <td>0</td>\n",
       "    </tr>\n",
       "    <tr>\n",
       "      <th>2</th>\n",
       "      <td>7.8</td>\n",
       "      <td>0.76</td>\n",
       "      <td>0.04</td>\n",
       "      <td>2.3</td>\n",
       "      <td>0.092</td>\n",
       "      <td>15.0</td>\n",
       "      <td>54.0</td>\n",
       "      <td>0.9970</td>\n",
       "      <td>3.26</td>\n",
       "      <td>0.65</td>\n",
       "      <td>9.8</td>\n",
       "      <td>5</td>\n",
       "      <td>0</td>\n",
       "    </tr>\n",
       "    <tr>\n",
       "      <th>3</th>\n",
       "      <td>11.2</td>\n",
       "      <td>0.28</td>\n",
       "      <td>0.56</td>\n",
       "      <td>1.9</td>\n",
       "      <td>0.075</td>\n",
       "      <td>17.0</td>\n",
       "      <td>60.0</td>\n",
       "      <td>0.9980</td>\n",
       "      <td>3.16</td>\n",
       "      <td>0.58</td>\n",
       "      <td>9.8</td>\n",
       "      <td>6</td>\n",
       "      <td>1</td>\n",
       "    </tr>\n",
       "    <tr>\n",
       "      <th>4</th>\n",
       "      <td>7.4</td>\n",
       "      <td>0.70</td>\n",
       "      <td>0.00</td>\n",
       "      <td>1.9</td>\n",
       "      <td>0.076</td>\n",
       "      <td>11.0</td>\n",
       "      <td>34.0</td>\n",
       "      <td>0.9978</td>\n",
       "      <td>3.51</td>\n",
       "      <td>0.56</td>\n",
       "      <td>9.4</td>\n",
       "      <td>5</td>\n",
       "      <td>0</td>\n",
       "    </tr>\n",
       "  </tbody>\n",
       "</table>\n",
       "</div>"
      ],
      "text/plain": [
       "   fixed acidity  volatile acidity  citric acid  residual sugar  chlorides  \\\n",
       "0            7.4              0.70         0.00             1.9      0.076   \n",
       "1            7.8              0.88         0.00             2.6      0.098   \n",
       "2            7.8              0.76         0.04             2.3      0.092   \n",
       "3           11.2              0.28         0.56             1.9      0.075   \n",
       "4            7.4              0.70         0.00             1.9      0.076   \n",
       "\n",
       "   free sulfur dioxide  total sulfur dioxide  density    pH  sulphates  \\\n",
       "0                 11.0                  34.0   0.9978  3.51       0.56   \n",
       "1                 25.0                  67.0   0.9968  3.20       0.68   \n",
       "2                 15.0                  54.0   0.9970  3.26       0.65   \n",
       "3                 17.0                  60.0   0.9980  3.16       0.58   \n",
       "4                 11.0                  34.0   0.9978  3.51       0.56   \n",
       "\n",
       "   alcohol  quality  label  \n",
       "0      9.4        5      0  \n",
       "1      9.8        5      0  \n",
       "2      9.8        5      0  \n",
       "3      9.8        6      1  \n",
       "4      9.4        5      0  "
      ]
     },
     "execution_count": 134,
     "metadata": {},
     "output_type": "execute_result"
    }
   ],
   "source": [
    "df.head()"
   ]
  },
  {
   "cell_type": "code",
   "execution_count": 47,
   "id": "f1db0b65",
   "metadata": {},
   "outputs": [
    {
     "name": "stdout",
     "output_type": "stream",
     "text": [
      "<class 'pandas.core.frame.DataFrame'>\n",
      "RangeIndex: 1599 entries, 0 to 1598\n",
      "Data columns (total 13 columns):\n",
      " #   Column                Non-Null Count  Dtype  \n",
      "---  ------                --------------  -----  \n",
      " 0   fixed acidity         1599 non-null   float64\n",
      " 1   volatile acidity      1599 non-null   float64\n",
      " 2   citric acid           1599 non-null   float64\n",
      " 3   residual sugar        1599 non-null   float64\n",
      " 4   chlorides             1599 non-null   float64\n",
      " 5   free sulfur dioxide   1599 non-null   float64\n",
      " 6   total sulfur dioxide  1599 non-null   float64\n",
      " 7   density               1599 non-null   float64\n",
      " 8   pH                    1599 non-null   float64\n",
      " 9   sulphates             1599 non-null   float64\n",
      " 10  alcohol               1599 non-null   float64\n",
      " 11  quality               1599 non-null   int64  \n",
      " 12  label                 1599 non-null   int32  \n",
      "dtypes: float64(11), int32(1), int64(1)\n",
      "memory usage: 156.3 KB\n"
     ]
    }
   ],
   "source": [
    "df.info()"
   ]
  },
  {
   "cell_type": "code",
   "execution_count": 135,
   "id": "9d6913c5",
   "metadata": {},
   "outputs": [],
   "source": [
    "q1=df['quality'].quantile(q=.25)"
   ]
  },
  {
   "cell_type": "code",
   "execution_count": 136,
   "id": "ff294fae",
   "metadata": {},
   "outputs": [
    {
     "data": {
      "text/plain": [
       "5.0"
      ]
     },
     "execution_count": 136,
     "metadata": {},
     "output_type": "execute_result"
    }
   ],
   "source": [
    "q1"
   ]
  },
  {
   "cell_type": "code",
   "execution_count": 137,
   "id": "81e16590",
   "metadata": {},
   "outputs": [],
   "source": [
    "q3=df['quality'].quantile(q=.75)"
   ]
  },
  {
   "cell_type": "code",
   "execution_count": 138,
   "id": "f3874178",
   "metadata": {},
   "outputs": [
    {
     "data": {
      "text/plain": [
       "6.0"
      ]
     },
     "execution_count": 138,
     "metadata": {},
     "output_type": "execute_result"
    }
   ],
   "source": [
    "q3"
   ]
  },
  {
   "cell_type": "code",
   "execution_count": 139,
   "id": "f5615079",
   "metadata": {},
   "outputs": [],
   "source": [
    "iqr=q3-q1"
   ]
  },
  {
   "cell_type": "code",
   "execution_count": 140,
   "id": "cf34bf37",
   "metadata": {},
   "outputs": [
    {
     "data": {
      "text/plain": [
       "1.0"
      ]
     },
     "execution_count": 140,
     "metadata": {},
     "output_type": "execute_result"
    }
   ],
   "source": [
    "iqr"
   ]
  },
  {
   "cell_type": "code",
   "execution_count": 141,
   "id": "b712c77e",
   "metadata": {},
   "outputs": [],
   "source": [
    "df['quality']=df['quality'].astype('float')"
   ]
  },
  {
   "cell_type": "code",
   "execution_count": 124,
   "id": "c3d1ce99",
   "metadata": {},
   "outputs": [
    {
     "data": {
      "text/html": [
       "<div>\n",
       "<style scoped>\n",
       "    .dataframe tbody tr th:only-of-type {\n",
       "        vertical-align: middle;\n",
       "    }\n",
       "\n",
       "    .dataframe tbody tr th {\n",
       "        vertical-align: top;\n",
       "    }\n",
       "\n",
       "    .dataframe thead th {\n",
       "        text-align: right;\n",
       "    }\n",
       "</style>\n",
       "<table border=\"1\" class=\"dataframe\">\n",
       "  <thead>\n",
       "    <tr style=\"text-align: right;\">\n",
       "      <th></th>\n",
       "      <th>fixed acidity</th>\n",
       "      <th>volatile acidity</th>\n",
       "      <th>citric acid</th>\n",
       "      <th>residual sugar</th>\n",
       "      <th>chlorides</th>\n",
       "      <th>free sulfur dioxide</th>\n",
       "      <th>total sulfur dioxide</th>\n",
       "      <th>density</th>\n",
       "      <th>pH</th>\n",
       "      <th>sulphates</th>\n",
       "      <th>alcohol</th>\n",
       "      <th>quality</th>\n",
       "      <th>label</th>\n",
       "    </tr>\n",
       "  </thead>\n",
       "  <tbody>\n",
       "    <tr>\n",
       "      <th>0</th>\n",
       "      <td>7.4</td>\n",
       "      <td>0.70</td>\n",
       "      <td>0.00</td>\n",
       "      <td>1.9</td>\n",
       "      <td>0.076</td>\n",
       "      <td>11.0</td>\n",
       "      <td>34.0</td>\n",
       "      <td>0.9978</td>\n",
       "      <td>3.51</td>\n",
       "      <td>0.56</td>\n",
       "      <td>9.4</td>\n",
       "      <td>5.0</td>\n",
       "      <td>5.0</td>\n",
       "    </tr>\n",
       "    <tr>\n",
       "      <th>1</th>\n",
       "      <td>7.8</td>\n",
       "      <td>0.88</td>\n",
       "      <td>0.00</td>\n",
       "      <td>2.6</td>\n",
       "      <td>0.098</td>\n",
       "      <td>25.0</td>\n",
       "      <td>67.0</td>\n",
       "      <td>0.9968</td>\n",
       "      <td>3.20</td>\n",
       "      <td>0.68</td>\n",
       "      <td>9.8</td>\n",
       "      <td>5.0</td>\n",
       "      <td>5.0</td>\n",
       "    </tr>\n",
       "    <tr>\n",
       "      <th>2</th>\n",
       "      <td>7.8</td>\n",
       "      <td>0.76</td>\n",
       "      <td>0.04</td>\n",
       "      <td>2.3</td>\n",
       "      <td>0.092</td>\n",
       "      <td>15.0</td>\n",
       "      <td>54.0</td>\n",
       "      <td>0.9970</td>\n",
       "      <td>3.26</td>\n",
       "      <td>0.65</td>\n",
       "      <td>9.8</td>\n",
       "      <td>5.0</td>\n",
       "      <td>5.0</td>\n",
       "    </tr>\n",
       "    <tr>\n",
       "      <th>3</th>\n",
       "      <td>11.2</td>\n",
       "      <td>0.28</td>\n",
       "      <td>0.56</td>\n",
       "      <td>1.9</td>\n",
       "      <td>0.075</td>\n",
       "      <td>17.0</td>\n",
       "      <td>60.0</td>\n",
       "      <td>0.9980</td>\n",
       "      <td>3.16</td>\n",
       "      <td>0.58</td>\n",
       "      <td>9.8</td>\n",
       "      <td>6.0</td>\n",
       "      <td>6.0</td>\n",
       "    </tr>\n",
       "    <tr>\n",
       "      <th>4</th>\n",
       "      <td>7.4</td>\n",
       "      <td>0.70</td>\n",
       "      <td>0.00</td>\n",
       "      <td>1.9</td>\n",
       "      <td>0.076</td>\n",
       "      <td>11.0</td>\n",
       "      <td>34.0</td>\n",
       "      <td>0.9978</td>\n",
       "      <td>3.51</td>\n",
       "      <td>0.56</td>\n",
       "      <td>9.4</td>\n",
       "      <td>5.0</td>\n",
       "      <td>5.0</td>\n",
       "    </tr>\n",
       "  </tbody>\n",
       "</table>\n",
       "</div>"
      ],
      "text/plain": [
       "   fixed acidity  volatile acidity  citric acid  residual sugar  chlorides  \\\n",
       "0            7.4              0.70         0.00             1.9      0.076   \n",
       "1            7.8              0.88         0.00             2.6      0.098   \n",
       "2            7.8              0.76         0.04             2.3      0.092   \n",
       "3           11.2              0.28         0.56             1.9      0.075   \n",
       "4            7.4              0.70         0.00             1.9      0.076   \n",
       "\n",
       "   free sulfur dioxide  total sulfur dioxide  density    pH  sulphates  \\\n",
       "0                 11.0                  34.0   0.9978  3.51       0.56   \n",
       "1                 25.0                  67.0   0.9968  3.20       0.68   \n",
       "2                 15.0                  54.0   0.9970  3.26       0.65   \n",
       "3                 17.0                  60.0   0.9980  3.16       0.58   \n",
       "4                 11.0                  34.0   0.9978  3.51       0.56   \n",
       "\n",
       "   alcohol  quality  label  \n",
       "0      9.4      5.0    5.0  \n",
       "1      9.8      5.0    5.0  \n",
       "2      9.8      5.0    5.0  \n",
       "3      9.8      6.0    6.0  \n",
       "4      9.4      5.0    5.0  "
      ]
     },
     "execution_count": 124,
     "metadata": {},
     "output_type": "execute_result"
    }
   ],
   "source": [
    "df.head()"
   ]
  },
  {
   "cell_type": "code",
   "execution_count": 142,
   "id": "9b980b70",
   "metadata": {},
   "outputs": [],
   "source": [
    "df.loc[df['quality']>5,['label']]=1 "
   ]
  },
  {
   "cell_type": "code",
   "execution_count": 143,
   "id": "80497590",
   "metadata": {},
   "outputs": [],
   "source": [
    "df.loc[df['quality']<6,['label']]=0"
   ]
  },
  {
   "cell_type": "code",
   "execution_count": 144,
   "id": "7eeff33f",
   "metadata": {},
   "outputs": [
    {
     "data": {
      "text/html": [
       "<div>\n",
       "<style scoped>\n",
       "    .dataframe tbody tr th:only-of-type {\n",
       "        vertical-align: middle;\n",
       "    }\n",
       "\n",
       "    .dataframe tbody tr th {\n",
       "        vertical-align: top;\n",
       "    }\n",
       "\n",
       "    .dataframe thead th {\n",
       "        text-align: right;\n",
       "    }\n",
       "</style>\n",
       "<table border=\"1\" class=\"dataframe\">\n",
       "  <thead>\n",
       "    <tr style=\"text-align: right;\">\n",
       "      <th></th>\n",
       "      <th>fixed acidity</th>\n",
       "      <th>volatile acidity</th>\n",
       "      <th>citric acid</th>\n",
       "      <th>residual sugar</th>\n",
       "      <th>chlorides</th>\n",
       "      <th>free sulfur dioxide</th>\n",
       "      <th>total sulfur dioxide</th>\n",
       "      <th>density</th>\n",
       "      <th>pH</th>\n",
       "      <th>sulphates</th>\n",
       "      <th>alcohol</th>\n",
       "      <th>quality</th>\n",
       "      <th>label</th>\n",
       "    </tr>\n",
       "  </thead>\n",
       "  <tbody>\n",
       "    <tr>\n",
       "      <th>0</th>\n",
       "      <td>7.4</td>\n",
       "      <td>0.70</td>\n",
       "      <td>0.00</td>\n",
       "      <td>1.9</td>\n",
       "      <td>0.076</td>\n",
       "      <td>11.0</td>\n",
       "      <td>34.0</td>\n",
       "      <td>0.9978</td>\n",
       "      <td>3.51</td>\n",
       "      <td>0.56</td>\n",
       "      <td>9.4</td>\n",
       "      <td>5.0</td>\n",
       "      <td>0</td>\n",
       "    </tr>\n",
       "    <tr>\n",
       "      <th>1</th>\n",
       "      <td>7.8</td>\n",
       "      <td>0.88</td>\n",
       "      <td>0.00</td>\n",
       "      <td>2.6</td>\n",
       "      <td>0.098</td>\n",
       "      <td>25.0</td>\n",
       "      <td>67.0</td>\n",
       "      <td>0.9968</td>\n",
       "      <td>3.20</td>\n",
       "      <td>0.68</td>\n",
       "      <td>9.8</td>\n",
       "      <td>5.0</td>\n",
       "      <td>0</td>\n",
       "    </tr>\n",
       "    <tr>\n",
       "      <th>2</th>\n",
       "      <td>7.8</td>\n",
       "      <td>0.76</td>\n",
       "      <td>0.04</td>\n",
       "      <td>2.3</td>\n",
       "      <td>0.092</td>\n",
       "      <td>15.0</td>\n",
       "      <td>54.0</td>\n",
       "      <td>0.9970</td>\n",
       "      <td>3.26</td>\n",
       "      <td>0.65</td>\n",
       "      <td>9.8</td>\n",
       "      <td>5.0</td>\n",
       "      <td>0</td>\n",
       "    </tr>\n",
       "    <tr>\n",
       "      <th>3</th>\n",
       "      <td>11.2</td>\n",
       "      <td>0.28</td>\n",
       "      <td>0.56</td>\n",
       "      <td>1.9</td>\n",
       "      <td>0.075</td>\n",
       "      <td>17.0</td>\n",
       "      <td>60.0</td>\n",
       "      <td>0.9980</td>\n",
       "      <td>3.16</td>\n",
       "      <td>0.58</td>\n",
       "      <td>9.8</td>\n",
       "      <td>6.0</td>\n",
       "      <td>1</td>\n",
       "    </tr>\n",
       "    <tr>\n",
       "      <th>4</th>\n",
       "      <td>7.4</td>\n",
       "      <td>0.70</td>\n",
       "      <td>0.00</td>\n",
       "      <td>1.9</td>\n",
       "      <td>0.076</td>\n",
       "      <td>11.0</td>\n",
       "      <td>34.0</td>\n",
       "      <td>0.9978</td>\n",
       "      <td>3.51</td>\n",
       "      <td>0.56</td>\n",
       "      <td>9.4</td>\n",
       "      <td>5.0</td>\n",
       "      <td>0</td>\n",
       "    </tr>\n",
       "  </tbody>\n",
       "</table>\n",
       "</div>"
      ],
      "text/plain": [
       "   fixed acidity  volatile acidity  citric acid  residual sugar  chlorides  \\\n",
       "0            7.4              0.70         0.00             1.9      0.076   \n",
       "1            7.8              0.88         0.00             2.6      0.098   \n",
       "2            7.8              0.76         0.04             2.3      0.092   \n",
       "3           11.2              0.28         0.56             1.9      0.075   \n",
       "4            7.4              0.70         0.00             1.9      0.076   \n",
       "\n",
       "   free sulfur dioxide  total sulfur dioxide  density    pH  sulphates  \\\n",
       "0                 11.0                  34.0   0.9978  3.51       0.56   \n",
       "1                 25.0                  67.0   0.9968  3.20       0.68   \n",
       "2                 15.0                  54.0   0.9970  3.26       0.65   \n",
       "3                 17.0                  60.0   0.9980  3.16       0.58   \n",
       "4                 11.0                  34.0   0.9978  3.51       0.56   \n",
       "\n",
       "   alcohol  quality  label  \n",
       "0      9.4      5.0      0  \n",
       "1      9.8      5.0      0  \n",
       "2      9.8      5.0      0  \n",
       "3      9.8      6.0      1  \n",
       "4      9.4      5.0      0  "
      ]
     },
     "execution_count": 144,
     "metadata": {},
     "output_type": "execute_result"
    }
   ],
   "source": [
    "df.head()"
   ]
  },
  {
   "cell_type": "code",
   "execution_count": 145,
   "id": "2c3bc5cd",
   "metadata": {},
   "outputs": [],
   "source": [
    "not_real=df.loc[df['quality']>q1-1.5]"
   ]
  },
  {
   "cell_type": "code",
   "execution_count": 146,
   "id": "a25fcc8d",
   "metadata": {},
   "outputs": [
    {
     "data": {
      "text/plain": [
       "(1589, 13)"
      ]
     },
     "execution_count": 146,
     "metadata": {},
     "output_type": "execute_result"
    }
   ],
   "source": [
    "not_real.shape"
   ]
  },
  {
   "cell_type": "code",
   "execution_count": 147,
   "id": "b800094e",
   "metadata": {},
   "outputs": [],
   "source": [
    "not_real=df.loc[df['quality']<q3+1.5]"
   ]
  },
  {
   "cell_type": "code",
   "execution_count": 148,
   "id": "e577ab23",
   "metadata": {},
   "outputs": [
    {
     "data": {
      "text/plain": [
       "(1581, 13)"
      ]
     },
     "execution_count": 148,
     "metadata": {},
     "output_type": "execute_result"
    }
   ],
   "source": [
    "not_real.shape"
   ]
  },
  {
   "cell_type": "code",
   "execution_count": 149,
   "id": "a4a4394b",
   "metadata": {},
   "outputs": [
    {
     "data": {
      "text/plain": [
       "<seaborn.axisgrid.FacetGrid at 0x1dab8d926a0>"
      ]
     },
     "execution_count": 149,
     "metadata": {},
     "output_type": "execute_result"
    },
    {
     "data": {
      "image/png": "[encoded data removed]",
      "text/plain": [
       "<Figure size 360x360 with 1 Axes>"
      ]
     },
     "metadata": {
      "needs_background": "light"
     },
     "output_type": "display_data"
    }
   ],
   "source": [
    "sns.displot(not_real['quality'])"
   ]
  },
  {
   "cell_type": "code",
   "execution_count": 150,
   "id": "3cd404ed",
   "metadata": {},
   "outputs": [
    {
     "data": {
      "text/html": [
       "<div>\n",
       "<style scoped>\n",
       "    .dataframe tbody tr th:only-of-type {\n",
       "        vertical-align: middle;\n",
       "    }\n",
       "\n",
       "    .dataframe tbody tr th {\n",
       "        vertical-align: top;\n",
       "    }\n",
       "\n",
       "    .dataframe thead th {\n",
       "        text-align: right;\n",
       "    }\n",
       "</style>\n",
       "<table border=\"1\" class=\"dataframe\">\n",
       "  <thead>\n",
       "    <tr style=\"text-align: right;\">\n",
       "      <th></th>\n",
       "      <th>fixed acidity</th>\n",
       "      <th>volatile acidity</th>\n",
       "      <th>citric acid</th>\n",
       "      <th>residual sugar</th>\n",
       "      <th>chlorides</th>\n",
       "      <th>free sulfur dioxide</th>\n",
       "      <th>total sulfur dioxide</th>\n",
       "      <th>density</th>\n",
       "      <th>pH</th>\n",
       "      <th>sulphates</th>\n",
       "      <th>alcohol</th>\n",
       "      <th>quality</th>\n",
       "      <th>label</th>\n",
       "    </tr>\n",
       "  </thead>\n",
       "  <tbody>\n",
       "    <tr>\n",
       "      <th>0</th>\n",
       "      <td>7.4</td>\n",
       "      <td>0.70</td>\n",
       "      <td>0.00</td>\n",
       "      <td>1.9</td>\n",
       "      <td>0.076</td>\n",
       "      <td>11.0</td>\n",
       "      <td>34.0</td>\n",
       "      <td>0.9978</td>\n",
       "      <td>3.51</td>\n",
       "      <td>0.56</td>\n",
       "      <td>9.4</td>\n",
       "      <td>5.0</td>\n",
       "      <td>0</td>\n",
       "    </tr>\n",
       "    <tr>\n",
       "      <th>1</th>\n",
       "      <td>7.8</td>\n",
       "      <td>0.88</td>\n",
       "      <td>0.00</td>\n",
       "      <td>2.6</td>\n",
       "      <td>0.098</td>\n",
       "      <td>25.0</td>\n",
       "      <td>67.0</td>\n",
       "      <td>0.9968</td>\n",
       "      <td>3.20</td>\n",
       "      <td>0.68</td>\n",
       "      <td>9.8</td>\n",
       "      <td>5.0</td>\n",
       "      <td>0</td>\n",
       "    </tr>\n",
       "    <tr>\n",
       "      <th>2</th>\n",
       "      <td>7.8</td>\n",
       "      <td>0.76</td>\n",
       "      <td>0.04</td>\n",
       "      <td>2.3</td>\n",
       "      <td>0.092</td>\n",
       "      <td>15.0</td>\n",
       "      <td>54.0</td>\n",
       "      <td>0.9970</td>\n",
       "      <td>3.26</td>\n",
       "      <td>0.65</td>\n",
       "      <td>9.8</td>\n",
       "      <td>5.0</td>\n",
       "      <td>0</td>\n",
       "    </tr>\n",
       "    <tr>\n",
       "      <th>3</th>\n",
       "      <td>11.2</td>\n",
       "      <td>0.28</td>\n",
       "      <td>0.56</td>\n",
       "      <td>1.9</td>\n",
       "      <td>0.075</td>\n",
       "      <td>17.0</td>\n",
       "      <td>60.0</td>\n",
       "      <td>0.9980</td>\n",
       "      <td>3.16</td>\n",
       "      <td>0.58</td>\n",
       "      <td>9.8</td>\n",
       "      <td>6.0</td>\n",
       "      <td>1</td>\n",
       "    </tr>\n",
       "    <tr>\n",
       "      <th>4</th>\n",
       "      <td>7.4</td>\n",
       "      <td>0.70</td>\n",
       "      <td>0.00</td>\n",
       "      <td>1.9</td>\n",
       "      <td>0.076</td>\n",
       "      <td>11.0</td>\n",
       "      <td>34.0</td>\n",
       "      <td>0.9978</td>\n",
       "      <td>3.51</td>\n",
       "      <td>0.56</td>\n",
       "      <td>9.4</td>\n",
       "      <td>5.0</td>\n",
       "      <td>0</td>\n",
       "    </tr>\n",
       "  </tbody>\n",
       "</table>\n",
       "</div>"
      ],
      "text/plain": [
       "   fixed acidity  volatile acidity  citric acid  residual sugar  chlorides  \\\n",
       "0            7.4              0.70         0.00             1.9      0.076   \n",
       "1            7.8              0.88         0.00             2.6      0.098   \n",
       "2            7.8              0.76         0.04             2.3      0.092   \n",
       "3           11.2              0.28         0.56             1.9      0.075   \n",
       "4            7.4              0.70         0.00             1.9      0.076   \n",
       "\n",
       "   free sulfur dioxide  total sulfur dioxide  density    pH  sulphates  \\\n",
       "0                 11.0                  34.0   0.9978  3.51       0.56   \n",
       "1                 25.0                  67.0   0.9968  3.20       0.68   \n",
       "2                 15.0                  54.0   0.9970  3.26       0.65   \n",
       "3                 17.0                  60.0   0.9980  3.16       0.58   \n",
       "4                 11.0                  34.0   0.9978  3.51       0.56   \n",
       "\n",
       "   alcohol  quality  label  \n",
       "0      9.4      5.0      0  \n",
       "1      9.8      5.0      0  \n",
       "2      9.8      5.0      0  \n",
       "3      9.8      6.0      1  \n",
       "4      9.4      5.0      0  "
      ]
     },
     "execution_count": 150,
     "metadata": {},
     "output_type": "execute_result"
    }
   ],
   "source": [
    "not_real.head()"
   ]
  },
  {
   "cell_type": "code",
   "execution_count": 151,
   "id": "fd5faaca",
   "metadata": {},
   "outputs": [
    {
     "data": {
      "text/plain": [
       "<seaborn.axisgrid.FacetGrid at 0x1dab8d21040>"
      ]
     },
     "execution_count": 151,
     "metadata": {},
     "output_type": "execute_result"
    },
    {
     "data": {
      "image/png": "[encoded data removed]",
      "text/plain": [
       "<Figure size 360x360 with 1 Axes>"
      ]
     },
     "metadata": {
      "needs_background": "light"
     },
     "output_type": "display_data"
    }
   ],
   "source": [
    "sns.displot(not_real['label'])"
   ]
  },
  {
   "cell_type": "code",
   "execution_count": 152,
   "id": "5965d7e8",
   "metadata": {},
   "outputs": [
    {
     "data": {
      "text/plain": [
       "fixed acidity            7.90000\n",
       "volatile acidity         0.52000\n",
       "citric acid              0.26000\n",
       "residual sugar           2.20000\n",
       "chlorides                0.07900\n",
       "free sulfur dioxide     14.00000\n",
       "total sulfur dioxide    38.00000\n",
       "density                  0.99675\n",
       "pH                       3.31000\n",
       "sulphates                0.62000\n",
       "alcohol                 10.10000\n",
       "quality                  6.00000\n",
       "label                    1.00000\n",
       "dtype: float64"
      ]
     },
     "execution_count": 152,
     "metadata": {},
     "output_type": "execute_result"
    }
   ],
   "source": [
    "not_real.median()"
   ]
  },
  {
   "cell_type": "code",
   "execution_count": 153,
   "id": "e69d6d91",
   "metadata": {},
   "outputs": [
    {
     "data": {
      "text/plain": [
       "<AxesSubplot:>"
      ]
     },
     "execution_count": 153,
     "metadata": {},
     "output_type": "execute_result"
    },
    {
     "data": {
      "image/png": "[encoded data removed]",
      "text/plain": [
       "<Figure size 432x288 with 1 Axes>"
      ]
     },
     "metadata": {
      "needs_background": "light"
     },
     "output_type": "display_data"
    }
   ],
   "source": [
    "sns.boxplot(data=not_real['quality'])"
   ]
  },
  {
   "cell_type": "code",
   "execution_count": 157,
   "id": "59a4547f",
   "metadata": {},
   "outputs": [
    {
     "data": {
      "text/plain": [
       "<seaborn.axisgrid.FacetGrid at 0x1dab8d79460>"
      ]
     },
     "execution_count": 157,
     "metadata": {},
     "output_type": "execute_result"
    },
    {
     "data": {
      "image/png": "[encoded data removed]",
      "text/plain": [
       "<Figure size 360x360 with 1 Axes>"
      ]
     },
     "metadata": {
      "needs_background": "light"
     },
     "output_type": "display_data"
    }
   ],
   "source": [
    "sns.displot(not_real['fixed acidity'])"
   ]
  },
  {
   "cell_type": "code",
   "execution_count": 158,
   "id": "2a43c92f",
   "metadata": {},
   "outputs": [
    {
     "data": {
      "text/plain": [
       "<seaborn.axisgrid.FacetGrid at 0x1dac815d850>"
      ]
     },
     "execution_count": 158,
     "metadata": {},
     "output_type": "execute_result"
    },
    {
     "data": {
      "image/png": "[encoded data removed]",
      "text/plain": [
       "<Figure size 360x360 with 1 Axes>"
      ]
     },
     "metadata": {
      "needs_background": "light"
     },
     "output_type": "display_data"
    }
   ],
   "source": [
    "sns.displot(not_real['volatile acidity'])"
   ]
  },
  {
   "cell_type": "code",
   "execution_count": 159,
   "id": "8791a21b",
   "metadata": {},
   "outputs": [
    {
     "data": {
      "text/plain": [
       "<seaborn.axisgrid.FacetGrid at 0x1dac8165670>"
      ]
     },
     "execution_count": 159,
     "metadata": {},
     "output_type": "execute_result"
    },
    {
     "data": {
      "image/png": "[encoded data removed]",
      "text/plain": [
       "<Figure size 360x360 with 1 Axes>"
      ]
     },
     "metadata": {
      "needs_background": "light"
     },
     "output_type": "display_data"
    }
   ],
   "source": [
    "sns.displot(not_real['citric acid'])"
   ]
  },
  {
   "cell_type": "code",
   "execution_count": 160,
   "id": "d011c572",
   "metadata": {},
   "outputs": [
    {
     "data": {
      "text/plain": [
       "<seaborn.axisgrid.FacetGrid at 0x1dac68fd7c0>"
      ]
     },
     "execution_count": 160,
     "metadata": {},
     "output_type": "execute_result"
    },
    {
     "data": {
      "image/png": "[encoded data removed]",
      "text/plain": [
       "<Figure size 360x360 with 1 Axes>"
      ]
     },
     "metadata": {
      "needs_background": "light"
     },
     "output_type": "display_data"
    }
   ],
   "source": [
    "sns.displot(not_real['residual sugar'])"
   ]
  },
  {
   "cell_type": "code",
   "execution_count": 161,
   "id": "5c3bc50c",
   "metadata": {},
   "outputs": [
    {
     "data": {
      "text/plain": [
       "<seaborn.axisgrid.FacetGrid at 0x1dac693eb50>"
      ]
     },
     "execution_count": 161,
     "metadata": {},
     "output_type": "execute_result"
    },
    {
     "data": {
      "image/png": "[encoded data removed]",
      "text/plain": [
       "<Figure size 360x360 with 1 Axes>"
      ]
     },
     "metadata": {
      "needs_background": "light"
     },
     "output_type": "display_data"
    }
   ],
   "source": [
    "sns.displot(not_real['chlorides'])"
   ]
  },
  {
   "cell_type": "code",
   "execution_count": 162,
   "id": "1e00e8ad",
   "metadata": {},
   "outputs": [
    {
     "data": {
      "text/plain": [
       "<seaborn.axisgrid.FacetGrid at 0x1dabc16c370>"
      ]
     },
     "execution_count": 162,
     "metadata": {},
     "output_type": "execute_result"
    },
    {
     "data": {
      "image/png": "[encoded data removed]",
      "text/plain": [
       "<Figure size 360x360 with 1 Axes>"
      ]
     },
     "metadata": {
      "needs_background": "light"
     },
     "output_type": "display_data"
    }
   ],
   "source": [
    "sns.displot(not_real['free sulfur dioxide'])"
   ]
  },
  {
   "cell_type": "code",
   "execution_count": 163,
   "id": "1a1d26e1",
   "metadata": {},
   "outputs": [
    {
     "data": {
      "text/plain": [
       "<seaborn.axisgrid.FacetGrid at 0x1dab8fbb9d0>"
      ]
     },
     "execution_count": 163,
     "metadata": {},
     "output_type": "execute_result"
    },
    {
     "data": {
      "image/png": "[encoded data removed]",
      "text/plain": [
       "<Figure size 360x360 with 1 Axes>"
      ]
     },
     "metadata": {
      "needs_background": "light"
     },
     "output_type": "display_data"
    }
   ],
   "source": [
    "sns.displot(not_real['total sulfur dioxide'])"
   ]
  },
  {
   "cell_type": "code",
   "execution_count": 164,
   "id": "aac5d620",
   "metadata": {},
   "outputs": [
    {
     "data": {
      "text/plain": [
       "<seaborn.axisgrid.FacetGrid at 0x1dac6b0c3a0>"
      ]
     },
     "execution_count": 164,
     "metadata": {},
     "output_type": "execute_result"
    },
    {
     "data": {
      "image/png": "[encoded data removed]",
      "text/plain": [
       "<Figure size 360x360 with 1 Axes>"
      ]
     },
     "metadata": {
      "needs_background": "light"
     },
     "output_type": "display_data"
    }
   ],
   "source": [
    "sns.displot(not_real['density'])"
   ]
  },
  {
   "cell_type": "code",
   "execution_count": 165,
   "id": "6812f9f3",
   "metadata": {},
   "outputs": [
    {
     "data": {
      "text/plain": [
       "<seaborn.axisgrid.FacetGrid at 0x1dac8fb5c40>"
      ]
     },
     "execution_count": 165,
     "metadata": {},
     "output_type": "execute_result"
    },
    {
     "data": {
      "image/png": "[encoded data removed]",
      "text/plain": [
       "<Figure size 360x360 with 1 Axes>"
      ]
     },
     "metadata": {
      "needs_background": "light"
     },
     "output_type": "display_data"
    }
   ],
   "source": [
    "sns.displot(not_real['pH'])"
   ]
  },
  {
   "cell_type": "code",
   "execution_count": 166,
   "id": "39d2b8a5",
   "metadata": {},
   "outputs": [
    {
     "data": {
      "text/plain": [
       "<seaborn.axisgrid.FacetGrid at 0x1dac69c3d90>"
      ]
     },
     "execution_count": 166,
     "metadata": {},
     "output_type": "execute_result"
    },
    {
     "data": {
      "image/png": "[encoded data removed]",
      "text/plain": [
       "<Figure size 360x360 with 1 Axes>"
      ]
     },
     "metadata": {
      "needs_background": "light"
     },
     "output_type": "display_data"
    }
   ],
   "source": [
    "sns.displot(not_real['sulphates'])"
   ]
  },
  {
   "cell_type": "code",
   "execution_count": 167,
   "id": "a233a3fc",
   "metadata": {},
   "outputs": [
    {
     "data": {
      "text/plain": [
       "<seaborn.axisgrid.FacetGrid at 0x1dac91c0d60>"
      ]
     },
     "execution_count": 167,
     "metadata": {},
     "output_type": "execute_result"
    },
    {
     "data": {
      "image/png": "[encoded data removed]",
      "text/plain": [
       "<Figure size 360x360 with 1 Axes>"
      ]
     },
     "metadata": {
      "needs_background": "light"
     },
     "output_type": "display_data"
    }
   ],
   "source": [
    "sns.displot(not_real['alcohol'])"
   ]
  },
  {
   "cell_type": "code",
   "execution_count": 168,
   "id": "c0f2b3e4",
   "metadata": {},
   "outputs": [],
   "source": [
    "corr=not_real.corr()"
   ]
  },
  {
   "cell_type": "code",
   "execution_count": 169,
   "id": "7a8fe766",
   "metadata": {},
   "outputs": [
    {
     "data": {
      "text/html": [
       "<div>\n",
       "<style scoped>\n",
       "    .dataframe tbody tr th:only-of-type {\n",
       "        vertical-align: middle;\n",
       "    }\n",
       "\n",
       "    .dataframe tbody tr th {\n",
       "        vertical-align: top;\n",
       "    }\n",
       "\n",
       "    .dataframe thead th {\n",
       "        text-align: right;\n",
       "    }\n",
       "</style>\n",
       "<table border=\"1\" class=\"dataframe\">\n",
       "  <thead>\n",
       "    <tr style=\"text-align: right;\">\n",
       "      <th></th>\n",
       "      <th>fixed acidity</th>\n",
       "      <th>volatile acidity</th>\n",
       "      <th>citric acid</th>\n",
       "      <th>residual sugar</th>\n",
       "      <th>chlorides</th>\n",
       "      <th>free sulfur dioxide</th>\n",
       "      <th>total sulfur dioxide</th>\n",
       "      <th>density</th>\n",
       "      <th>pH</th>\n",
       "      <th>sulphates</th>\n",
       "      <th>alcohol</th>\n",
       "      <th>quality</th>\n",
       "      <th>label</th>\n",
       "    </tr>\n",
       "  </thead>\n",
       "  <tbody>\n",
       "    <tr>\n",
       "      <th>fixed acidity</th>\n",
       "      <td>1.000000</td>\n",
       "      <td>-0.254388</td>\n",
       "      <td>0.669488</td>\n",
       "      <td>0.110619</td>\n",
       "      <td>0.092966</td>\n",
       "      <td>-0.150916</td>\n",
       "      <td>-0.108684</td>\n",
       "      <td>0.669051</td>\n",
       "      <td>-0.680385</td>\n",
       "      <td>0.186729</td>\n",
       "      <td>-0.058520</td>\n",
       "      <td>0.126625</td>\n",
       "      <td>0.094815</td>\n",
       "    </tr>\n",
       "    <tr>\n",
       "      <th>volatile acidity</th>\n",
       "      <td>-0.254388</td>\n",
       "      <td>1.000000</td>\n",
       "      <td>-0.550883</td>\n",
       "      <td>0.002765</td>\n",
       "      <td>0.059944</td>\n",
       "      <td>-0.012707</td>\n",
       "      <td>0.071626</td>\n",
       "      <td>0.021360</td>\n",
       "      <td>0.230175</td>\n",
       "      <td>-0.258925</td>\n",
       "      <td>-0.202512</td>\n",
       "      <td>-0.392791</td>\n",
       "      <td>-0.318547</td>\n",
       "    </tr>\n",
       "    <tr>\n",
       "      <th>citric acid</th>\n",
       "      <td>0.669488</td>\n",
       "      <td>-0.550883</td>\n",
       "      <td>1.000000</td>\n",
       "      <td>0.141030</td>\n",
       "      <td>0.206373</td>\n",
       "      <td>-0.055011</td>\n",
       "      <td>0.043767</td>\n",
       "      <td>0.366672</td>\n",
       "      <td>-0.537969</td>\n",
       "      <td>0.313428</td>\n",
       "      <td>0.107755</td>\n",
       "      <td>0.218351</td>\n",
       "      <td>0.154541</td>\n",
       "    </tr>\n",
       "    <tr>\n",
       "      <th>residual sugar</th>\n",
       "      <td>0.110619</td>\n",
       "      <td>0.002765</td>\n",
       "      <td>0.141030</td>\n",
       "      <td>1.000000</td>\n",
       "      <td>0.054881</td>\n",
       "      <td>0.192217</td>\n",
       "      <td>0.207655</td>\n",
       "      <td>0.354330</td>\n",
       "      <td>-0.084872</td>\n",
       "      <td>0.005363</td>\n",
       "      <td>0.040087</td>\n",
       "      <td>0.013546</td>\n",
       "      <td>-0.002478</td>\n",
       "    </tr>\n",
       "    <tr>\n",
       "      <th>chlorides</th>\n",
       "      <td>0.092966</td>\n",
       "      <td>0.059944</td>\n",
       "      <td>0.206373</td>\n",
       "      <td>0.054881</td>\n",
       "      <td>1.000000</td>\n",
       "      <td>0.004829</td>\n",
       "      <td>0.046941</td>\n",
       "      <td>0.197487</td>\n",
       "      <td>-0.267082</td>\n",
       "      <td>0.377023</td>\n",
       "      <td>-0.218308</td>\n",
       "      <td>-0.121665</td>\n",
       "      <td>-0.105859</td>\n",
       "    </tr>\n",
       "    <tr>\n",
       "      <th>free sulfur dioxide</th>\n",
       "      <td>-0.150916</td>\n",
       "      <td>-0.012707</td>\n",
       "      <td>-0.055011</td>\n",
       "      <td>0.192217</td>\n",
       "      <td>0.004829</td>\n",
       "      <td>1.000000</td>\n",
       "      <td>0.667247</td>\n",
       "      <td>-0.017406</td>\n",
       "      <td>0.067495</td>\n",
       "      <td>0.056098</td>\n",
       "      <td>-0.071420</td>\n",
       "      <td>-0.044898</td>\n",
       "      <td>-0.059798</td>\n",
       "    </tr>\n",
       "    <tr>\n",
       "      <th>total sulfur dioxide</th>\n",
       "      <td>-0.108684</td>\n",
       "      <td>0.071626</td>\n",
       "      <td>0.043767</td>\n",
       "      <td>0.207655</td>\n",
       "      <td>0.046941</td>\n",
       "      <td>0.667247</td>\n",
       "      <td>1.000000</td>\n",
       "      <td>0.075197</td>\n",
       "      <td>-0.073391</td>\n",
       "      <td>0.046421</td>\n",
       "      <td>-0.208092</td>\n",
       "      <td>-0.181698</td>\n",
       "      <td>-0.229832</td>\n",
       "    </tr>\n",
       "    <tr>\n",
       "      <th>density</th>\n",
       "      <td>0.669051</td>\n",
       "      <td>0.021360</td>\n",
       "      <td>0.366672</td>\n",
       "      <td>0.354330</td>\n",
       "      <td>0.197487</td>\n",
       "      <td>-0.017406</td>\n",
       "      <td>0.075197</td>\n",
       "      <td>1.000000</td>\n",
       "      <td>-0.340448</td>\n",
       "      <td>0.156584</td>\n",
       "      <td>-0.489578</td>\n",
       "      <td>-0.157531</td>\n",
       "      <td>-0.153105</td>\n",
       "    </tr>\n",
       "    <tr>\n",
       "      <th>pH</th>\n",
       "      <td>-0.680385</td>\n",
       "      <td>0.230175</td>\n",
       "      <td>-0.537969</td>\n",
       "      <td>-0.084872</td>\n",
       "      <td>-0.267082</td>\n",
       "      <td>0.067495</td>\n",
       "      <td>-0.073391</td>\n",
       "      <td>-0.340448</td>\n",
       "      <td>1.000000</td>\n",
       "      <td>-0.198322</td>\n",
       "      <td>0.205912</td>\n",
       "      <td>-0.051280</td>\n",
       "      <td>-0.000247</td>\n",
       "    </tr>\n",
       "    <tr>\n",
       "      <th>sulphates</th>\n",
       "      <td>0.186729</td>\n",
       "      <td>-0.258925</td>\n",
       "      <td>0.313428</td>\n",
       "      <td>0.005363</td>\n",
       "      <td>0.377023</td>\n",
       "      <td>0.056098</td>\n",
       "      <td>0.046421</td>\n",
       "      <td>0.156584</td>\n",
       "      <td>-0.198322</td>\n",
       "      <td>1.000000</td>\n",
       "      <td>0.086048</td>\n",
       "      <td>0.243123</td>\n",
       "      <td>0.213291</td>\n",
       "    </tr>\n",
       "    <tr>\n",
       "      <th>alcohol</th>\n",
       "      <td>-0.058520</td>\n",
       "      <td>-0.202512</td>\n",
       "      <td>0.107755</td>\n",
       "      <td>0.040087</td>\n",
       "      <td>-0.218308</td>\n",
       "      <td>-0.071420</td>\n",
       "      <td>-0.208092</td>\n",
       "      <td>-0.489578</td>\n",
       "      <td>0.205912</td>\n",
       "      <td>0.086048</td>\n",
       "      <td>1.000000</td>\n",
       "      <td>0.455889</td>\n",
       "      <td>0.429300</td>\n",
       "    </tr>\n",
       "    <tr>\n",
       "      <th>quality</th>\n",
       "      <td>0.126625</td>\n",
       "      <td>-0.392791</td>\n",
       "      <td>0.218351</td>\n",
       "      <td>0.013546</td>\n",
       "      <td>-0.121665</td>\n",
       "      <td>-0.044898</td>\n",
       "      <td>-0.181698</td>\n",
       "      <td>-0.157531</td>\n",
       "      <td>-0.051280</td>\n",
       "      <td>0.243123</td>\n",
       "      <td>0.455889</td>\n",
       "      <td>1.000000</td>\n",
       "      <td>0.864540</td>\n",
       "    </tr>\n",
       "    <tr>\n",
       "      <th>label</th>\n",
       "      <td>0.094815</td>\n",
       "      <td>-0.318547</td>\n",
       "      <td>0.154541</td>\n",
       "      <td>-0.002478</td>\n",
       "      <td>-0.105859</td>\n",
       "      <td>-0.059798</td>\n",
       "      <td>-0.229832</td>\n",
       "      <td>-0.153105</td>\n",
       "      <td>-0.000247</td>\n",
       "      <td>0.213291</td>\n",
       "      <td>0.429300</td>\n",
       "      <td>0.864540</td>\n",
       "      <td>1.000000</td>\n",
       "    </tr>\n",
       "  </tbody>\n",
       "</table>\n",
       "</div>"
      ],
      "text/plain": [
       "                      fixed acidity  volatile acidity  citric acid  \\\n",
       "fixed acidity              1.000000         -0.254388     0.669488   \n",
       "volatile acidity          -0.254388          1.000000    -0.550883   \n",
       "citric acid                0.669488         -0.550883     1.000000   \n",
       "residual sugar             0.110619          0.002765     0.141030   \n",
       "chlorides                  0.092966          0.059944     0.206373   \n",
       "free sulfur dioxide       -0.150916         -0.012707    -0.055011   \n",
       "total sulfur dioxide      -0.108684          0.071626     0.043767   \n",
       "density                    0.669051          0.021360     0.366672   \n",
       "pH                        -0.680385          0.230175    -0.537969   \n",
       "sulphates                  0.186729         -0.258925     0.313428   \n",
       "alcohol                   -0.058520         -0.202512     0.107755   \n",
       "quality                    0.126625         -0.392791     0.218351   \n",
       "label                      0.094815         -0.318547     0.154541   \n",
       "\n",
       "                      residual sugar  chlorides  free sulfur dioxide  \\\n",
       "fixed acidity               0.110619   0.092966            -0.150916   \n",
       "volatile acidity            0.002765   0.059944            -0.012707   \n",
       "citric acid                 0.141030   0.206373            -0.055011   \n",
       "residual sugar              1.000000   0.054881             0.192217   \n",
       "chlorides                   0.054881   1.000000             0.004829   \n",
       "free sulfur dioxide         0.192217   0.004829             1.000000   \n",
       "total sulfur dioxide        0.207655   0.046941             0.667247   \n",
       "density                     0.354330   0.197487            -0.017406   \n",
       "pH                         -0.084872  -0.267082             0.067495   \n",
       "sulphates                   0.005363   0.377023             0.056098   \n",
       "alcohol                     0.040087  -0.218308            -0.071420   \n",
       "quality                     0.013546  -0.121665            -0.044898   \n",
       "label                      -0.002478  -0.105859            -0.059798   \n",
       "\n",
       "                      total sulfur dioxide   density        pH  sulphates  \\\n",
       "fixed acidity                    -0.108684  0.669051 -0.680385   0.186729   \n",
       "volatile acidity                  0.071626  0.021360  0.230175  -0.258925   \n",
       "citric acid                       0.043767  0.366672 -0.537969   0.313428   \n",
       "residual sugar                    0.207655  0.354330 -0.084872   0.005363   \n",
       "chlorides                         0.046941  0.197487 -0.267082   0.377023   \n",
       "free sulfur dioxide               0.667247 -0.017406  0.067495   0.056098   \n",
       "total sulfur dioxide              1.000000  0.075197 -0.073391   0.046421   \n",
       "density                           0.075197  1.000000 -0.340448   0.156584   \n",
       "pH                               -0.073391 -0.340448  1.000000  -0.198322   \n",
       "sulphates                         0.046421  0.156584 -0.198322   1.000000   \n",
       "alcohol                          -0.208092 -0.489578  0.205912   0.086048   \n",
       "quality                          -0.181698 -0.157531 -0.051280   0.243123   \n",
       "label                            -0.229832 -0.153105 -0.000247   0.213291   \n",
       "\n",
       "                       alcohol   quality     label  \n",
       "fixed acidity        -0.058520  0.126625  0.094815  \n",
       "volatile acidity     -0.202512 -0.392791 -0.318547  \n",
       "citric acid           0.107755  0.218351  0.154541  \n",
       "residual sugar        0.040087  0.013546 -0.002478  \n",
       "chlorides            -0.218308 -0.121665 -0.105859  \n",
       "free sulfur dioxide  -0.071420 -0.044898 -0.059798  \n",
       "total sulfur dioxide -0.208092 -0.181698 -0.229832  \n",
       "density              -0.489578 -0.157531 -0.153105  \n",
       "pH                    0.205912 -0.051280 -0.000247  \n",
       "sulphates             0.086048  0.243123  0.213291  \n",
       "alcohol               1.000000  0.455889  0.429300  \n",
       "quality               0.455889  1.000000  0.864540  \n",
       "label                 0.429300  0.864540  1.000000  "
      ]
     },
     "execution_count": 169,
     "metadata": {},
     "output_type": "execute_result"
    }
   ],
   "source": [
    "corr"
   ]
  },
  {
   "cell_type": "code",
   "execution_count": 170,
   "id": "429cc2e9",
   "metadata": {},
   "outputs": [
    {
     "data": {
      "text/html": [
       "<style type=\"text/css\">\n",
       "#T_c999b_row0_col0, #T_c999b_row1_col1, #T_c999b_row2_col2, #T_c999b_row3_col3, #T_c999b_row4_col4, #T_c999b_row5_col5, #T_c999b_row6_col6, #T_c999b_row7_col7, #T_c999b_row8_col8, #T_c999b_row9_col9, #T_c999b_row10_col10, #T_c999b_row11_col11, #T_c999b_row12_col12 {\n",
       "  background-color: #b40426;\n",
       "  color: #f1f1f1;\n",
       "}\n",
       "#T_c999b_row0_col1, #T_c999b_row6_col10, #T_c999b_row8_col5, #T_c999b_row9_col1 {\n",
       "  background-color: #779af7;\n",
       "  color: #f1f1f1;\n",
       "}\n",
       "#T_c999b_row0_col2 {\n",
       "  background-color: #f08a6c;\n",
       "  color: #f1f1f1;\n",
       "}\n",
       "#T_c999b_row0_col3, #T_c999b_row4_col10, #T_c999b_row9_col5 {\n",
       "  background-color: #7597f6;\n",
       "  color: #f1f1f1;\n",
       "}\n",
       "#T_c999b_row0_col4 {\n",
       "  background-color: #98b9ff;\n",
       "  color: #000000;\n",
       "}\n",
       "#T_c999b_row0_col5, #T_c999b_row0_col8, #T_c999b_row1_col2, #T_c999b_row1_col9, #T_c999b_row1_col11, #T_c999b_row1_col12, #T_c999b_row2_col1, #T_c999b_row7_col10, #T_c999b_row8_col0, #T_c999b_row8_col3, #T_c999b_row8_col4, #T_c999b_row10_col7, #T_c999b_row12_col6 {\n",
       "  background-color: #3b4cc0;\n",
       "  color: #f1f1f1;\n",
       "}\n",
       "#T_c999b_row0_col6, #T_c999b_row8_col7 {\n",
       "  background-color: #5977e3;\n",
       "  color: #f1f1f1;\n",
       "}\n",
       "#T_c999b_row0_col7 {\n",
       "  background-color: #f18d6f;\n",
       "  color: #f1f1f1;\n",
       "}\n",
       "#T_c999b_row0_col9, #T_c999b_row3_col8 {\n",
       "  background-color: #b1cbfc;\n",
       "  color: #000000;\n",
       "}\n",
       "#T_c999b_row0_col10, #T_c999b_row3_col11 {\n",
       "  background-color: #9bbcff;\n",
       "  color: #000000;\n",
       "}\n",
       "#T_c999b_row0_col11, #T_c999b_row2_col4, #T_c999b_row11_col8 {\n",
       "  background-color: #b7cff9;\n",
       "  color: #000000;\n",
       "}\n",
       "#T_c999b_row0_col12, #T_c999b_row5_col0 {\n",
       "  background-color: #a3c2fe;\n",
       "  color: #000000;\n",
       "}\n",
       "#T_c999b_row1_col0, #T_c999b_row5_col9 {\n",
       "  background-color: #8db0fe;\n",
       "  color: #000000;\n",
       "}\n",
       "#T_c999b_row1_col3, #T_c999b_row12_col5 {\n",
       "  background-color: #536edd;\n",
       "  color: #f1f1f1;\n",
       "}\n",
       "#T_c999b_row1_col4 {\n",
       "  background-color: #90b2fe;\n",
       "  color: #000000;\n",
       "}\n",
       "#T_c999b_row1_col5 {\n",
       "  background-color: #5f7fe8;\n",
       "  color: #f1f1f1;\n",
       "}\n",
       "#T_c999b_row1_col6, #T_c999b_row4_col8, #T_c999b_row6_col9, #T_c999b_row8_col11 {\n",
       "  background-color: #8badfd;\n",
       "  color: #000000;\n",
       "}\n",
       "#T_c999b_row1_col7, #T_c999b_row6_col0 {\n",
       "  background-color: #adc9fd;\n",
       "  color: #000000;\n",
       "}\n",
       "#T_c999b_row1_col8 {\n",
       "  background-color: #e7d7ce;\n",
       "  color: #000000;\n",
       "}\n",
       "#T_c999b_row1_col10, #T_c999b_row4_col11 {\n",
       "  background-color: #799cf8;\n",
       "  color: #f1f1f1;\n",
       "}\n",
       "#T_c999b_row2_col0, #T_c999b_row7_col0 {\n",
       "  background-color: #ed8366;\n",
       "  color: #f1f1f1;\n",
       "}\n",
       "#T_c999b_row2_col3, #T_c999b_row3_col9 {\n",
       "  background-color: #7ea1fa;\n",
       "  color: #f1f1f1;\n",
       "}\n",
       "#T_c999b_row2_col5, #T_c999b_row2_col8, #T_c999b_row9_col3 {\n",
       "  background-color: #5470de;\n",
       "  color: #f1f1f1;\n",
       "}\n",
       "#T_c999b_row2_col6 {\n",
       "  background-color: #82a6fb;\n",
       "  color: #f1f1f1;\n",
       "}\n",
       "#T_c999b_row2_col7 {\n",
       "  background-color: #eed0c0;\n",
       "  color: #000000;\n",
       "}\n",
       "#T_c999b_row2_col9, #T_c999b_row9_col11, #T_c999b_row12_col2 {\n",
       "  background-color: #d1dae9;\n",
       "  color: #000000;\n",
       "}\n",
       "#T_c999b_row2_col10, #T_c999b_row6_col1, #T_c999b_row11_col9 {\n",
       "  background-color: #c0d4f5;\n",
       "  color: #000000;\n",
       "}\n",
       "#T_c999b_row2_col11 {\n",
       "  background-color: #ccd9ed;\n",
       "  color: #000000;\n",
       "}\n",
       "#T_c999b_row2_col12, #T_c999b_row3_col1, #T_c999b_row3_col6, #T_c999b_row3_col10 {\n",
       "  background-color: #b2ccfb;\n",
       "  color: #000000;\n",
       "}\n",
       "#T_c999b_row3_col0 {\n",
       "  background-color: #d5dbe5;\n",
       "  color: #000000;\n",
       "}\n",
       "#T_c999b_row3_col2 {\n",
       "  background-color: #cedaeb;\n",
       "  color: #000000;\n",
       "}\n",
       "#T_c999b_row3_col4, #T_c999b_row5_col3 {\n",
       "  background-color: #8fb1fe;\n",
       "  color: #000000;\n",
       "}\n",
       "#T_c999b_row3_col5 {\n",
       "  background-color: #9ebeff;\n",
       "  color: #000000;\n",
       "}\n",
       "#T_c999b_row3_col7, #T_c999b_row10_col12 {\n",
       "  background-color: #edd2c3;\n",
       "  color: #000000;\n",
       "}\n",
       "#T_c999b_row3_col12, #T_c999b_row8_col12 {\n",
       "  background-color: #89acfd;\n",
       "  color: #000000;\n",
       "}\n",
       "#T_c999b_row4_col0 {\n",
       "  background-color: #d2dbe8;\n",
       "  color: #000000;\n",
       "}\n",
       "#T_c999b_row4_col1 {\n",
       "  background-color: #bed2f6;\n",
       "  color: #000000;\n",
       "}\n",
       "#T_c999b_row4_col2 {\n",
       "  background-color: #d9dce1;\n",
       "  color: #000000;\n",
       "}\n",
       "#T_c999b_row4_col3, #T_c999b_row7_col12, #T_c999b_row8_col6, #T_c999b_row12_col4 {\n",
       "  background-color: #6282ea;\n",
       "  color: #f1f1f1;\n",
       "}\n",
       "#T_c999b_row4_col5 {\n",
       "  background-color: #6485ec;\n",
       "  color: #f1f1f1;\n",
       "}\n",
       "#T_c999b_row4_col6, #T_c999b_row9_col6, #T_c999b_row10_col1, #T_c999b_row11_col7, #T_c999b_row12_col7 {\n",
       "  background-color: #84a7fc;\n",
       "  color: #f1f1f1;\n",
       "}\n",
       "#T_c999b_row4_col7, #T_c999b_row12_col0 {\n",
       "  background-color: #d3dbe7;\n",
       "  color: #000000;\n",
       "}\n",
       "#T_c999b_row4_col9 {\n",
       "  background-color: #dedcdb;\n",
       "  color: #000000;\n",
       "}\n",
       "#T_c999b_row4_col12 {\n",
       "  background-color: #6e90f2;\n",
       "  color: #f1f1f1;\n",
       "}\n",
       "#T_c999b_row5_col1 {\n",
       "  background-color: #aec9fc;\n",
       "  color: #000000;\n",
       "}\n",
       "#T_c999b_row5_col2, #T_c999b_row5_col7 {\n",
       "  background-color: #a5c3fe;\n",
       "  color: #000000;\n",
       "}\n",
       "#T_c999b_row5_col4 {\n",
       "  background-color: #80a3fa;\n",
       "  color: #f1f1f1;\n",
       "}\n",
       "#T_c999b_row5_col6 {\n",
       "  background-color: #f6a283;\n",
       "  color: #000000;\n",
       "}\n",
       "#T_c999b_row5_col8 {\n",
       "  background-color: #cdd9ec;\n",
       "  color: #000000;\n",
       "}\n",
       "#T_c999b_row5_col10 {\n",
       "  background-color: #97b8ff;\n",
       "  color: #000000;\n",
       "}\n",
       "#T_c999b_row5_col11, #T_c999b_row6_col4, #T_c999b_row7_col6 {\n",
       "  background-color: #8caffe;\n",
       "  color: #000000;\n",
       "}\n",
       "#T_c999b_row5_col12 {\n",
       "  background-color: #7a9df8;\n",
       "  color: #f1f1f1;\n",
       "}\n",
       "#T_c999b_row6_col2, #T_c999b_row9_col10 {\n",
       "  background-color: #bbd1f8;\n",
       "  color: #000000;\n",
       "}\n",
       "#T_c999b_row6_col3 {\n",
       "  background-color: #94b6ff;\n",
       "  color: #000000;\n",
       "}\n",
       "#T_c999b_row6_col5 {\n",
       "  background-color: #f7a98b;\n",
       "  color: #000000;\n",
       "}\n",
       "#T_c999b_row6_col7 {\n",
       "  background-color: #bad0f8;\n",
       "  color: #000000;\n",
       "}\n",
       "#T_c999b_row6_col8 {\n",
       "  background-color: #b3cdfb;\n",
       "  color: #000000;\n",
       "}\n",
       "#T_c999b_row6_col11, #T_c999b_row12_col1 {\n",
       "  background-color: #6a8bef;\n",
       "  color: #f1f1f1;\n",
       "}\n",
       "#T_c999b_row6_col12, #T_c999b_row10_col5 {\n",
       "  background-color: #4f69d9;\n",
       "  color: #f1f1f1;\n",
       "}\n",
       "#T_c999b_row7_col1, #T_c999b_row10_col0 {\n",
       "  background-color: #b6cefa;\n",
       "  color: #000000;\n",
       "}\n",
       "#T_c999b_row7_col2 {\n",
       "  background-color: #f1cdba;\n",
       "  color: #000000;\n",
       "}\n",
       "#T_c999b_row7_col3, #T_c999b_row9_col12, #T_c999b_row12_col8 {\n",
       "  background-color: #c1d4f4;\n",
       "  color: #000000;\n",
       "}\n",
       "#T_c999b_row7_col4 {\n",
       "  background-color: #b5cdfa;\n",
       "  color: #000000;\n",
       "}\n",
       "#T_c999b_row7_col5, #T_c999b_row10_col3, #T_c999b_row11_col4 {\n",
       "  background-color: #5e7de7;\n",
       "  color: #f1f1f1;\n",
       "}\n",
       "#T_c999b_row7_col8 {\n",
       "  background-color: #7b9ff9;\n",
       "  color: #f1f1f1;\n",
       "}\n",
       "#T_c999b_row7_col9 {\n",
       "  background-color: #a9c6fd;\n",
       "  color: #000000;\n",
       "}\n",
       "#T_c999b_row7_col11 {\n",
       "  background-color: #7093f3;\n",
       "  color: #f1f1f1;\n",
       "}\n",
       "#T_c999b_row8_col1 {\n",
       "  background-color: #dddcdc;\n",
       "  color: #000000;\n",
       "}\n",
       "#T_c999b_row8_col2 {\n",
       "  background-color: #3d50c3;\n",
       "  color: #f1f1f1;\n",
       "}\n",
       "#T_c999b_row8_col9 {\n",
       "  background-color: #4961d2;\n",
       "  color: #f1f1f1;\n",
       "}\n",
       "#T_c999b_row8_col10 {\n",
       "  background-color: #d4dbe6;\n",
       "  color: #000000;\n",
       "}\n",
       "#T_c999b_row9_col0 {\n",
       "  background-color: #e1dad6;\n",
       "  color: #000000;\n",
       "}\n",
       "#T_c999b_row9_col2 {\n",
       "  background-color: #ead4c8;\n",
       "  color: #000000;\n",
       "}\n",
       "#T_c999b_row9_col4 {\n",
       "  background-color: #dfdbd9;\n",
       "  color: #000000;\n",
       "}\n",
       "#T_c999b_row9_col7 {\n",
       "  background-color: #cbd8ee;\n",
       "  color: #000000;\n",
       "}\n",
       "#T_c999b_row9_col8 {\n",
       "  background-color: #9abbff;\n",
       "  color: #000000;\n",
       "}\n",
       "#T_c999b_row10_col2 {\n",
       "  background-color: #c7d7f0;\n",
       "  color: #000000;\n",
       "}\n",
       "#T_c999b_row10_col4 {\n",
       "  background-color: #455cce;\n",
       "  color: #f1f1f1;\n",
       "}\n",
       "#T_c999b_row10_col6 {\n",
       "  background-color: #3f53c6;\n",
       "  color: #f1f1f1;\n",
       "}\n",
       "#T_c999b_row10_col8 {\n",
       "  background-color: #e4d9d2;\n",
       "  color: #000000;\n",
       "}\n",
       "#T_c999b_row10_col9 {\n",
       "  background-color: #96b7ff;\n",
       "  color: #000000;\n",
       "}\n",
       "#T_c999b_row10_col11 {\n",
       "  background-color: #f2c9b4;\n",
       "  color: #000000;\n",
       "}\n",
       "#T_c999b_row11_col0 {\n",
       "  background-color: #d7dce3;\n",
       "  color: #000000;\n",
       "}\n",
       "#T_c999b_row11_col1 {\n",
       "  background-color: #5a78e4;\n",
       "  color: #f1f1f1;\n",
       "}\n",
       "#T_c999b_row11_col2 {\n",
       "  background-color: #dbdcde;\n",
       "  color: #000000;\n",
       "}\n",
       "#T_c999b_row11_col3, #T_c999b_row11_col5 {\n",
       "  background-color: #5673e0;\n",
       "  color: #f1f1f1;\n",
       "}\n",
       "#T_c999b_row11_col6 {\n",
       "  background-color: #465ecf;\n",
       "  color: #f1f1f1;\n",
       "}\n",
       "#T_c999b_row11_col10 {\n",
       "  background-color: #f5c1a9;\n",
       "  color: #000000;\n",
       "}\n",
       "#T_c999b_row11_col12 {\n",
       "  background-color: #d75445;\n",
       "  color: #f1f1f1;\n",
       "}\n",
       "#T_c999b_row12_col3 {\n",
       "  background-color: #516ddb;\n",
       "  color: #f1f1f1;\n",
       "}\n",
       "#T_c999b_row12_col9 {\n",
       "  background-color: #b9d0f9;\n",
       "  color: #000000;\n",
       "}\n",
       "#T_c999b_row12_col10 {\n",
       "  background-color: #f3c7b1;\n",
       "  color: #000000;\n",
       "}\n",
       "#T_c999b_row12_col11 {\n",
       "  background-color: #d55042;\n",
       "  color: #f1f1f1;\n",
       "}\n",
       "</style>\n",
       "<table id=\"T_c999b\">\n",
       "  <thead>\n",
       "    <tr>\n",
       "      <th class=\"blank level0\" >&nbsp;</th>\n",
       "      <th id=\"T_c999b_level0_col0\" class=\"col_heading level0 col0\" >fixed acidity</th>\n",
       "      <th id=\"T_c999b_level0_col1\" class=\"col_heading level0 col1\" >volatile acidity</th>\n",
       "      <th id=\"T_c999b_level0_col2\" class=\"col_heading level0 col2\" >citric acid</th>\n",
       "      <th id=\"T_c999b_level0_col3\" class=\"col_heading level0 col3\" >residual sugar</th>\n",
       "      <th id=\"T_c999b_level0_col4\" class=\"col_heading level0 col4\" >chlorides</th>\n",
       "      <th id=\"T_c999b_level0_col5\" class=\"col_heading level0 col5\" >free sulfur dioxide</th>\n",
       "      <th id=\"T_c999b_level0_col6\" class=\"col_heading level0 col6\" >total sulfur dioxide</th>\n",
       "      <th id=\"T_c999b_level0_col7\" class=\"col_heading level0 col7\" >density</th>\n",
       "      <th id=\"T_c999b_level0_col8\" class=\"col_heading level0 col8\" >pH</th>\n",
       "      <th id=\"T_c999b_level0_col9\" class=\"col_heading level0 col9\" >sulphates</th>\n",
       "      <th id=\"T_c999b_level0_col10\" class=\"col_heading level0 col10\" >alcohol</th>\n",
       "      <th id=\"T_c999b_level0_col11\" class=\"col_heading level0 col11\" >quality</th>\n",
       "      <th id=\"T_c999b_level0_col12\" class=\"col_heading level0 col12\" >label</th>\n",
       "    </tr>\n",
       "  </thead>\n",
       "  <tbody>\n",
       "    <tr>\n",
       "      <th id=\"T_c999b_level0_row0\" class=\"row_heading level0 row0\" >fixed acidity</th>\n",
       "      <td id=\"T_c999b_row0_col0\" class=\"data row0 col0\" >1.000000</td>\n",
       "      <td id=\"T_c999b_row0_col1\" class=\"data row0 col1\" >-0.254388</td>\n",
       "      <td id=\"T_c999b_row0_col2\" class=\"data row0 col2\" >0.669488</td>\n",
       "      <td id=\"T_c999b_row0_col3\" class=\"data row0 col3\" >0.110619</td>\n",
       "      <td id=\"T_c999b_row0_col4\" class=\"data row0 col4\" >0.092966</td>\n",
       "      <td id=\"T_c999b_row0_col5\" class=\"data row0 col5\" >-0.150916</td>\n",
       "      <td id=\"T_c999b_row0_col6\" class=\"data row0 col6\" >-0.108684</td>\n",
       "      <td id=\"T_c999b_row0_col7\" class=\"data row0 col7\" >0.669051</td>\n",
       "      <td id=\"T_c999b_row0_col8\" class=\"data row0 col8\" >-0.680385</td>\n",
       "      <td id=\"T_c999b_row0_col9\" class=\"data row0 col9\" >0.186729</td>\n",
       "      <td id=\"T_c999b_row0_col10\" class=\"data row0 col10\" >-0.058520</td>\n",
       "      <td id=\"T_c999b_row0_col11\" class=\"data row0 col11\" >0.126625</td>\n",
       "      <td id=\"T_c999b_row0_col12\" class=\"data row0 col12\" >0.094815</td>\n",
       "    </tr>\n",
       "    <tr>\n",
       "      <th id=\"T_c999b_level0_row1\" class=\"row_heading level0 row1\" >volatile acidity</th>\n",
       "      <td id=\"T_c999b_row1_col0\" class=\"data row1 col0\" >-0.254388</td>\n",
       "      <td id=\"T_c999b_row1_col1\" class=\"data row1 col1\" >1.000000</td>\n",
       "      <td id=\"T_c999b_row1_col2\" class=\"data row1 col2\" >-0.550883</td>\n",
       "      <td id=\"T_c999b_row1_col3\" class=\"data row1 col3\" >0.002765</td>\n",
       "      <td id=\"T_c999b_row1_col4\" class=\"data row1 col4\" >0.059944</td>\n",
       "      <td id=\"T_c999b_row1_col5\" class=\"data row1 col5\" >-0.012707</td>\n",
       "      <td id=\"T_c999b_row1_col6\" class=\"data row1 col6\" >0.071626</td>\n",
       "      <td id=\"T_c999b_row1_col7\" class=\"data row1 col7\" >0.021360</td>\n",
       "      <td id=\"T_c999b_row1_col8\" class=\"data row1 col8\" >0.230175</td>\n",
       "      <td id=\"T_c999b_row1_col9\" class=\"data row1 col9\" >-0.258925</td>\n",
       "      <td id=\"T_c999b_row1_col10\" class=\"data row1 col10\" >-0.202512</td>\n",
       "      <td id=\"T_c999b_row1_col11\" class=\"data row1 col11\" >-0.392791</td>\n",
       "      <td id=\"T_c999b_row1_col12\" class=\"data row1 col12\" >-0.318547</td>\n",
       "    </tr>\n",
       "    <tr>\n",
       "      <th id=\"T_c999b_level0_row2\" class=\"row_heading level0 row2\" >citric acid</th>\n",
       "      <td id=\"T_c999b_row2_col0\" class=\"data row2 col0\" >0.669488</td>\n",
       "      <td id=\"T_c999b_row2_col1\" class=\"data row2 col1\" >-0.550883</td>\n",
       "      <td id=\"T_c999b_row2_col2\" class=\"data row2 col2\" >1.000000</td>\n",
       "      <td id=\"T_c999b_row2_col3\" class=\"data row2 col3\" >0.141030</td>\n",
       "      <td id=\"T_c999b_row2_col4\" class=\"data row2 col4\" >0.206373</td>\n",
       "      <td id=\"T_c999b_row2_col5\" class=\"data row2 col5\" >-0.055011</td>\n",
       "      <td id=\"T_c999b_row2_col6\" class=\"data row2 col6\" >0.043767</td>\n",
       "      <td id=\"T_c999b_row2_col7\" class=\"data row2 col7\" >0.366672</td>\n",
       "      <td id=\"T_c999b_row2_col8\" class=\"data row2 col8\" >-0.537969</td>\n",
       "      <td id=\"T_c999b_row2_col9\" class=\"data row2 col9\" >0.313428</td>\n",
       "      <td id=\"T_c999b_row2_col10\" class=\"data row2 col10\" >0.107755</td>\n",
       "      <td id=\"T_c999b_row2_col11\" class=\"data row2 col11\" >0.218351</td>\n",
       "      <td id=\"T_c999b_row2_col12\" class=\"data row2 col12\" >0.154541</td>\n",
       "    </tr>\n",
       "    <tr>\n",
       "      <th id=\"T_c999b_level0_row3\" class=\"row_heading level0 row3\" >residual sugar</th>\n",
       "      <td id=\"T_c999b_row3_col0\" class=\"data row3 col0\" >0.110619</td>\n",
       "      <td id=\"T_c999b_row3_col1\" class=\"data row3 col1\" >0.002765</td>\n",
       "      <td id=\"T_c999b_row3_col2\" class=\"data row3 col2\" >0.141030</td>\n",
       "      <td id=\"T_c999b_row3_col3\" class=\"data row3 col3\" >1.000000</td>\n",
       "      <td id=\"T_c999b_row3_col4\" class=\"data row3 col4\" >0.054881</td>\n",
       "      <td id=\"T_c999b_row3_col5\" class=\"data row3 col5\" >0.192217</td>\n",
       "      <td id=\"T_c999b_row3_col6\" class=\"data row3 col6\" >0.207655</td>\n",
       "      <td id=\"T_c999b_row3_col7\" class=\"data row3 col7\" >0.354330</td>\n",
       "      <td id=\"T_c999b_row3_col8\" class=\"data row3 col8\" >-0.084872</td>\n",
       "      <td id=\"T_c999b_row3_col9\" class=\"data row3 col9\" >0.005363</td>\n",
       "      <td id=\"T_c999b_row3_col10\" class=\"data row3 col10\" >0.040087</td>\n",
       "      <td id=\"T_c999b_row3_col11\" class=\"data row3 col11\" >0.013546</td>\n",
       "      <td id=\"T_c999b_row3_col12\" class=\"data row3 col12\" >-0.002478</td>\n",
       "    </tr>\n",
       "    <tr>\n",
       "      <th id=\"T_c999b_level0_row4\" class=\"row_heading level0 row4\" >chlorides</th>\n",
       "      <td id=\"T_c999b_row4_col0\" class=\"data row4 col0\" >0.092966</td>\n",
       "      <td id=\"T_c999b_row4_col1\" class=\"data row4 col1\" >0.059944</td>\n",
       "      <td id=\"T_c999b_row4_col2\" class=\"data row4 col2\" >0.206373</td>\n",
       "      <td id=\"T_c999b_row4_col3\" class=\"data row4 col3\" >0.054881</td>\n",
       "      <td id=\"T_c999b_row4_col4\" class=\"data row4 col4\" >1.000000</td>\n",
       "      <td id=\"T_c999b_row4_col5\" class=\"data row4 col5\" >0.004829</td>\n",
       "      <td id=\"T_c999b_row4_col6\" class=\"data row4 col6\" >0.046941</td>\n",
       "      <td id=\"T_c999b_row4_col7\" class=\"data row4 col7\" >0.197487</td>\n",
       "      <td id=\"T_c999b_row4_col8\" class=\"data row4 col8\" >-0.267082</td>\n",
       "      <td id=\"T_c999b_row4_col9\" class=\"data row4 col9\" >0.377023</td>\n",
       "      <td id=\"T_c999b_row4_col10\" class=\"data row4 col10\" >-0.218308</td>\n",
       "      <td id=\"T_c999b_row4_col11\" class=\"data row4 col11\" >-0.121665</td>\n",
       "      <td id=\"T_c999b_row4_col12\" class=\"data row4 col12\" >-0.105859</td>\n",
       "    </tr>\n",
       "    <tr>\n",
       "      <th id=\"T_c999b_level0_row5\" class=\"row_heading level0 row5\" >free sulfur dioxide</th>\n",
       "      <td id=\"T_c999b_row5_col0\" class=\"data row5 col0\" >-0.150916</td>\n",
       "      <td id=\"T_c999b_row5_col1\" class=\"data row5 col1\" >-0.012707</td>\n",
       "      <td id=\"T_c999b_row5_col2\" class=\"data row5 col2\" >-0.055011</td>\n",
       "      <td id=\"T_c999b_row5_col3\" class=\"data row5 col3\" >0.192217</td>\n",
       "      <td id=\"T_c999b_row5_col4\" class=\"data row5 col4\" >0.004829</td>\n",
       "      <td id=\"T_c999b_row5_col5\" class=\"data row5 col5\" >1.000000</td>\n",
       "      <td id=\"T_c999b_row5_col6\" class=\"data row5 col6\" >0.667247</td>\n",
       "      <td id=\"T_c999b_row5_col7\" class=\"data row5 col7\" >-0.017406</td>\n",
       "      <td id=\"T_c999b_row5_col8\" class=\"data row5 col8\" >0.067495</td>\n",
       "      <td id=\"T_c999b_row5_col9\" class=\"data row5 col9\" >0.056098</td>\n",
       "      <td id=\"T_c999b_row5_col10\" class=\"data row5 col10\" >-0.071420</td>\n",
       "      <td id=\"T_c999b_row5_col11\" class=\"data row5 col11\" >-0.044898</td>\n",
       "      <td id=\"T_c999b_row5_col12\" class=\"data row5 col12\" >-0.059798</td>\n",
       "    </tr>\n",
       "    <tr>\n",
       "      <th id=\"T_c999b_level0_row6\" class=\"row_heading level0 row6\" >total sulfur dioxide</th>\n",
       "      <td id=\"T_c999b_row6_col0\" class=\"data row6 col0\" >-0.108684</td>\n",
       "      <td id=\"T_c999b_row6_col1\" class=\"data row6 col1\" >0.071626</td>\n",
       "      <td id=\"T_c999b_row6_col2\" class=\"data row6 col2\" >0.043767</td>\n",
       "      <td id=\"T_c999b_row6_col3\" class=\"data row6 col3\" >0.207655</td>\n",
       "      <td id=\"T_c999b_row6_col4\" class=\"data row6 col4\" >0.046941</td>\n",
       "      <td id=\"T_c999b_row6_col5\" class=\"data row6 col5\" >0.667247</td>\n",
       "      <td id=\"T_c999b_row6_col6\" class=\"data row6 col6\" >1.000000</td>\n",
       "      <td id=\"T_c999b_row6_col7\" class=\"data row6 col7\" >0.075197</td>\n",
       "      <td id=\"T_c999b_row6_col8\" class=\"data row6 col8\" >-0.073391</td>\n",
       "      <td id=\"T_c999b_row6_col9\" class=\"data row6 col9\" >0.046421</td>\n",
       "      <td id=\"T_c999b_row6_col10\" class=\"data row6 col10\" >-0.208092</td>\n",
       "      <td id=\"T_c999b_row6_col11\" class=\"data row6 col11\" >-0.181698</td>\n",
       "      <td id=\"T_c999b_row6_col12\" class=\"data row6 col12\" >-0.229832</td>\n",
       "    </tr>\n",
       "    <tr>\n",
       "      <th id=\"T_c999b_level0_row7\" class=\"row_heading level0 row7\" >density</th>\n",
       "      <td id=\"T_c999b_row7_col0\" class=\"data row7 col0\" >0.669051</td>\n",
       "      <td id=\"T_c999b_row7_col1\" class=\"data row7 col1\" >0.021360</td>\n",
       "      <td id=\"T_c999b_row7_col2\" class=\"data row7 col2\" >0.366672</td>\n",
       "      <td id=\"T_c999b_row7_col3\" class=\"data row7 col3\" >0.354330</td>\n",
       "      <td id=\"T_c999b_row7_col4\" class=\"data row7 col4\" >0.197487</td>\n",
       "      <td id=\"T_c999b_row7_col5\" class=\"data row7 col5\" >-0.017406</td>\n",
       "      <td id=\"T_c999b_row7_col6\" class=\"data row7 col6\" >0.075197</td>\n",
       "      <td id=\"T_c999b_row7_col7\" class=\"data row7 col7\" >1.000000</td>\n",
       "      <td id=\"T_c999b_row7_col8\" class=\"data row7 col8\" >-0.340448</td>\n",
       "      <td id=\"T_c999b_row7_col9\" class=\"data row7 col9\" >0.156584</td>\n",
       "      <td id=\"T_c999b_row7_col10\" class=\"data row7 col10\" >-0.489578</td>\n",
       "      <td id=\"T_c999b_row7_col11\" class=\"data row7 col11\" >-0.157531</td>\n",
       "      <td id=\"T_c999b_row7_col12\" class=\"data row7 col12\" >-0.153105</td>\n",
       "    </tr>\n",
       "    <tr>\n",
       "      <th id=\"T_c999b_level0_row8\" class=\"row_heading level0 row8\" >pH</th>\n",
       "      <td id=\"T_c999b_row8_col0\" class=\"data row8 col0\" >-0.680385</td>\n",
       "      <td id=\"T_c999b_row8_col1\" class=\"data row8 col1\" >0.230175</td>\n",
       "      <td id=\"T_c999b_row8_col2\" class=\"data row8 col2\" >-0.537969</td>\n",
       "      <td id=\"T_c999b_row8_col3\" class=\"data row8 col3\" >-0.084872</td>\n",
       "      <td id=\"T_c999b_row8_col4\" class=\"data row8 col4\" >-0.267082</td>\n",
       "      <td id=\"T_c999b_row8_col5\" class=\"data row8 col5\" >0.067495</td>\n",
       "      <td id=\"T_c999b_row8_col6\" class=\"data row8 col6\" >-0.073391</td>\n",
       "      <td id=\"T_c999b_row8_col7\" class=\"data row8 col7\" >-0.340448</td>\n",
       "      <td id=\"T_c999b_row8_col8\" class=\"data row8 col8\" >1.000000</td>\n",
       "      <td id=\"T_c999b_row8_col9\" class=\"data row8 col9\" >-0.198322</td>\n",
       "      <td id=\"T_c999b_row8_col10\" class=\"data row8 col10\" >0.205912</td>\n",
       "      <td id=\"T_c999b_row8_col11\" class=\"data row8 col11\" >-0.051280</td>\n",
       "      <td id=\"T_c999b_row8_col12\" class=\"data row8 col12\" >-0.000247</td>\n",
       "    </tr>\n",
       "    <tr>\n",
       "      <th id=\"T_c999b_level0_row9\" class=\"row_heading level0 row9\" >sulphates</th>\n",
       "      <td id=\"T_c999b_row9_col0\" class=\"data row9 col0\" >0.186729</td>\n",
       "      <td id=\"T_c999b_row9_col1\" class=\"data row9 col1\" >-0.258925</td>\n",
       "      <td id=\"T_c999b_row9_col2\" class=\"data row9 col2\" >0.313428</td>\n",
       "      <td id=\"T_c999b_row9_col3\" class=\"data row9 col3\" >0.005363</td>\n",
       "      <td id=\"T_c999b_row9_col4\" class=\"data row9 col4\" >0.377023</td>\n",
       "      <td id=\"T_c999b_row9_col5\" class=\"data row9 col5\" >0.056098</td>\n",
       "      <td id=\"T_c999b_row9_col6\" class=\"data row9 col6\" >0.046421</td>\n",
       "      <td id=\"T_c999b_row9_col7\" class=\"data row9 col7\" >0.156584</td>\n",
       "      <td id=\"T_c999b_row9_col8\" class=\"data row9 col8\" >-0.198322</td>\n",
       "      <td id=\"T_c999b_row9_col9\" class=\"data row9 col9\" >1.000000</td>\n",
       "      <td id=\"T_c999b_row9_col10\" class=\"data row9 col10\" >0.086048</td>\n",
       "      <td id=\"T_c999b_row9_col11\" class=\"data row9 col11\" >0.243123</td>\n",
       "      <td id=\"T_c999b_row9_col12\" class=\"data row9 col12\" >0.213291</td>\n",
       "    </tr>\n",
       "    <tr>\n",
       "      <th id=\"T_c999b_level0_row10\" class=\"row_heading level0 row10\" >alcohol</th>\n",
       "      <td id=\"T_c999b_row10_col0\" class=\"data row10 col0\" >-0.058520</td>\n",
       "      <td id=\"T_c999b_row10_col1\" class=\"data row10 col1\" >-0.202512</td>\n",
       "      <td id=\"T_c999b_row10_col2\" class=\"data row10 col2\" >0.107755</td>\n",
       "      <td id=\"T_c999b_row10_col3\" class=\"data row10 col3\" >0.040087</td>\n",
       "      <td id=\"T_c999b_row10_col4\" class=\"data row10 col4\" >-0.218308</td>\n",
       "      <td id=\"T_c999b_row10_col5\" class=\"data row10 col5\" >-0.071420</td>\n",
       "      <td id=\"T_c999b_row10_col6\" class=\"data row10 col6\" >-0.208092</td>\n",
       "      <td id=\"T_c999b_row10_col7\" class=\"data row10 col7\" >-0.489578</td>\n",
       "      <td id=\"T_c999b_row10_col8\" class=\"data row10 col8\" >0.205912</td>\n",
       "      <td id=\"T_c999b_row10_col9\" class=\"data row10 col9\" >0.086048</td>\n",
       "      <td id=\"T_c999b_row10_col10\" class=\"data row10 col10\" >1.000000</td>\n",
       "      <td id=\"T_c999b_row10_col11\" class=\"data row10 col11\" >0.455889</td>\n",
       "      <td id=\"T_c999b_row10_col12\" class=\"data row10 col12\" >0.429300</td>\n",
       "    </tr>\n",
       "    <tr>\n",
       "      <th id=\"T_c999b_level0_row11\" class=\"row_heading level0 row11\" >quality</th>\n",
       "      <td id=\"T_c999b_row11_col0\" class=\"data row11 col0\" >0.126625</td>\n",
       "      <td id=\"T_c999b_row11_col1\" class=\"data row11 col1\" >-0.392791</td>\n",
       "      <td id=\"T_c999b_row11_col2\" class=\"data row11 col2\" >0.218351</td>\n",
       "      <td id=\"T_c999b_row11_col3\" class=\"data row11 col3\" >0.013546</td>\n",
       "      <td id=\"T_c999b_row11_col4\" class=\"data row11 col4\" >-0.121665</td>\n",
       "      <td id=\"T_c999b_row11_col5\" class=\"data row11 col5\" >-0.044898</td>\n",
       "      <td id=\"T_c999b_row11_col6\" class=\"data row11 col6\" >-0.181698</td>\n",
       "      <td id=\"T_c999b_row11_col7\" class=\"data row11 col7\" >-0.157531</td>\n",
       "      <td id=\"T_c999b_row11_col8\" class=\"data row11 col8\" >-0.051280</td>\n",
       "      <td id=\"T_c999b_row11_col9\" class=\"data row11 col9\" >0.243123</td>\n",
       "      <td id=\"T_c999b_row11_col10\" class=\"data row11 col10\" >0.455889</td>\n",
       "      <td id=\"T_c999b_row11_col11\" class=\"data row11 col11\" >1.000000</td>\n",
       "      <td id=\"T_c999b_row11_col12\" class=\"data row11 col12\" >0.864540</td>\n",
       "    </tr>\n",
       "    <tr>\n",
       "      <th id=\"T_c999b_level0_row12\" class=\"row_heading level0 row12\" >label</th>\n",
       "      <td id=\"T_c999b_row12_col0\" class=\"data row12 col0\" >0.094815</td>\n",
       "      <td id=\"T_c999b_row12_col1\" class=\"data row12 col1\" >-0.318547</td>\n",
       "      <td id=\"T_c999b_row12_col2\" class=\"data row12 col2\" >0.154541</td>\n",
       "      <td id=\"T_c999b_row12_col3\" class=\"data row12 col3\" >-0.002478</td>\n",
       "      <td id=\"T_c999b_row12_col4\" class=\"data row12 col4\" >-0.105859</td>\n",
       "      <td id=\"T_c999b_row12_col5\" class=\"data row12 col5\" >-0.059798</td>\n",
       "      <td id=\"T_c999b_row12_col6\" class=\"data row12 col6\" >-0.229832</td>\n",
       "      <td id=\"T_c999b_row12_col7\" class=\"data row12 col7\" >-0.153105</td>\n",
       "      <td id=\"T_c999b_row12_col8\" class=\"data row12 col8\" >-0.000247</td>\n",
       "      <td id=\"T_c999b_row12_col9\" class=\"data row12 col9\" >0.213291</td>\n",
       "      <td id=\"T_c999b_row12_col10\" class=\"data row12 col10\" >0.429300</td>\n",
       "      <td id=\"T_c999b_row12_col11\" class=\"data row12 col11\" >0.864540</td>\n",
       "      <td id=\"T_c999b_row12_col12\" class=\"data row12 col12\" >1.000000</td>\n",
       "    </tr>\n",
       "  </tbody>\n",
       "</table>\n"
      ],
      "text/plain": [
       "<pandas.io.formats.style.Styler at 0x1dac9292220>"
      ]
     },
     "execution_count": 170,
     "metadata": {},
     "output_type": "execute_result"
    }
   ],
   "source": [
    "corr.style.background_gradient(cmap='coolwarm')"
   ]
  },
  {
   "cell_type": "code",
   "execution_count": 171,
   "id": "ad2c847b",
   "metadata": {},
   "outputs": [
    {
     "data": {
      "text/plain": [
       "1    837\n",
       "0    744\n",
       "Name: label, dtype: int64"
      ]
     },
     "execution_count": 171,
     "metadata": {},
     "output_type": "execute_result"
    }
   ],
   "source": [
    "not_real['label'].value_counts()"
   ]
  },
  {
   "cell_type": "code",
   "execution_count": null,
   "id": "3b9bacdd",
   "metadata": {},
   "outputs": [],
   "source": []
  }
 ],
 "metadata": {
  "kernelspec": {
   "display_name": "Python 3 (ipykernel)",
   "language": "python",
   "name": "python3"
  },
  "language_info": {
   "codemirror_mode": {
    "name": "ipython",
    "version": 3
   },
   "file_extension": ".py",
   "mimetype": "text/x-python",
   "name": "python",
   "nbconvert_exporter": "python",
   "pygments_lexer": "ipython3",
   "version": "3.9.12"
  }
 },
 "nbformat": 4,
 "nbformat_minor": 5
}
