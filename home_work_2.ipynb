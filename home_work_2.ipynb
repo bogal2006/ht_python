{
 "cells": [
  {
   "cell_type": "markdown",
   "id": "a952e35d",
   "metadata": {},
   "source": [
    "### Домашнее задание тема 2 ML"
   ]
  },
  {
   "cell_type": "code",
   "execution_count": 3,
   "id": "eda50586",
   "metadata": {},
   "outputs": [],
   "source": [
    "import requests\n",
    "from bs4 import BeautifulSoup as bs\n",
    "import pandas as pd\n",
    "from datetime import datetime\n",
    "import time"
   ]
  },
  {
   "cell_type": "code",
   "execution_count": 4,
   "id": "ac2ca0eb",
   "metadata": {},
   "outputs": [],
   "source": [
    "URL_Template='https://openphish.com/' "
   ]
  },
  {
   "cell_type": "code",
   "execution_count": 5,
   "id": "57e99265",
   "metadata": {},
   "outputs": [],
   "source": [
    "result_dict={'url':[], 'target_brand':[], 'time':[]}"
   ]
  },
  {
   "cell_type": "code",
   "execution_count": 31,
   "id": "c67d4834",
   "metadata": {},
   "outputs": [],
   "source": [
    "def timerequest():\n",
    "    print(f'начало парсинга {datetime.now()}')\n",
    "    time_counter=0    \n",
    "    while time_counter<12:\n",
    "        r=requests.get(URL_Template)\n",
    "        soup=bs(r.text,'lxml')\n",
    "        targeted_brand=soup.find_all('tr' )\n",
    "        for tb in targeted_brand:\n",
    "            result_dict['url'].append(tb.text.strip().split('\\n')[0])\n",
    "            result_dict['target_brand'].append(tb.text.strip().split('\\n')[1])\n",
    "            result_dict['time'].append(tb.text.strip().split('\\n')[2])\n",
    "        time.sleep(300)\n",
    "        time_counter+=1\n",
    "        print('прошло 5 минут')\n",
    "    print(f'конец парсинга {datetime.now()}')\n",
    "    \n",
    "    "
   ]
  },
  {
   "cell_type": "code",
   "execution_count": 32,
   "id": "023836c4",
   "metadata": {},
   "outputs": [
    {
     "name": "stdout",
     "output_type": "stream",
     "text": [
      "начало парсинга 2023-01-28 19:42:22.836977\n",
      "прошло 5 минут\n",
      "прошло 5 минут\n",
      "прошло 5 минут\n",
      "прошло 5 минут\n",
      "прошло 5 минут\n",
      "прошло 5 минут\n",
      "прошло 5 минут\n",
      "прошло 5 минут\n",
      "прошло 5 минут\n",
      "прошло 5 минут\n",
      "прошло 5 минут\n",
      "прошло 5 минут\n",
      "конец парсинга 2023-01-28 20:42:28.214056\n"
     ]
    }
   ],
   "source": [
    "timerequest()"
   ]
  },
  {
   "cell_type": "code",
   "execution_count": 64,
   "id": "76549431",
   "metadata": {},
   "outputs": [],
   "source": [
    "df=pd.DataFrame(data=result_dict)"
   ]
  },
  {
   "cell_type": "code",
   "execution_count": 80,
   "id": "ce5ad182",
   "metadata": {},
   "outputs": [],
   "source": [
    "not_df=df.drop_duplicates(subset=['url'])"
   ]
  },
  {
   "cell_type": "code",
   "execution_count": 83,
   "id": "f02dff11",
   "metadata": {},
   "outputs": [],
   "source": [
    "not_df.to_csv('home_work2_ml1.csv')"
   ]
  },
  {
   "cell_type": "code",
   "execution_count": 84,
   "id": "dd51fa48",
   "metadata": {},
   "outputs": [
    {
     "data": {
      "text/plain": [
       "(60, 3)"
      ]
     },
     "execution_count": 84,
     "metadata": {},
     "output_type": "execute_result"
    }
   ],
   "source": [
    "not_df.shape"
   ]
  },
  {
   "cell_type": "code",
   "execution_count": 85,
   "id": "7fc7a753",
   "metadata": {},
   "outputs": [
    {
     "data": {
      "text/html": [
       "<div>\n",
       "<style scoped>\n",
       "    .dataframe tbody tr th:only-of-type {\n",
       "        vertical-align: middle;\n",
       "    }\n",
       "\n",
       "    .dataframe tbody tr th {\n",
       "        vertical-align: top;\n",
       "    }\n",
       "\n",
       "    .dataframe thead th {\n",
       "        text-align: right;\n",
       "    }\n",
       "</style>\n",
       "<table border=\"1\" class=\"dataframe\">\n",
       "  <thead>\n",
       "    <tr style=\"text-align: right;\">\n",
       "      <th></th>\n",
       "      <th>url</th>\n",
       "      <th>target_brand</th>\n",
       "      <th>time</th>\n",
       "    </tr>\n",
       "  </thead>\n",
       "  <tbody>\n",
       "    <tr>\n",
       "      <th>0</th>\n",
       "      <td>Phishing URL</td>\n",
       "      <td>Targeted Brand</td>\n",
       "      <td>Time</td>\n",
       "    </tr>\n",
       "    <tr>\n",
       "      <th>1</th>\n",
       "      <td>http://eailmreef.weebly.com/</td>\n",
       "      <td>Generic/Spear Phishing</td>\n",
       "      <td>14:26:50</td>\n",
       "    </tr>\n",
       "    <tr>\n",
       "      <th>2</th>\n",
       "      <td>http://packag.track-servic.karpati.wdsite.hu/</td>\n",
       "      <td>DHL Airways, Inc.</td>\n",
       "      <td>14:26:43</td>\n",
       "    </tr>\n",
       "    <tr>\n",
       "      <th>3</th>\n",
       "      <td>http://moritadigital.com/</td>\n",
       "      <td>Netflix Inc.</td>\n",
       "      <td>14:24:34</td>\n",
       "    </tr>\n",
       "    <tr>\n",
       "      <th>4</th>\n",
       "      <td>http://amazon8801.com/</td>\n",
       "      <td>Amazon.com Inc.</td>\n",
       "      <td>14:23:46</td>\n",
       "    </tr>\n",
       "  </tbody>\n",
       "</table>\n",
       "</div>"
      ],
      "text/plain": [
       "                                             url            target_brand  \\\n",
       "0                                   Phishing URL          Targeted Brand   \n",
       "1                   http://eailmreef.weebly.com/  Generic/Spear Phishing   \n",
       "2  http://packag.track-servic.karpati.wdsite.hu/       DHL Airways, Inc.   \n",
       "3                      http://moritadigital.com/            Netflix Inc.   \n",
       "4                         http://amazon8801.com/         Amazon.com Inc.   \n",
       "\n",
       "       time  \n",
       "0      Time  \n",
       "1  14:26:50  \n",
       "2  14:26:43  \n",
       "3  14:24:34  \n",
       "4  14:23:46  "
      ]
     },
     "execution_count": 85,
     "metadata": {},
     "output_type": "execute_result"
    }
   ],
   "source": [
    "not_df.head()"
   ]
  },
  {
   "cell_type": "code",
   "execution_count": 86,
   "id": "242a586b",
   "metadata": {},
   "outputs": [
    {
     "data": {
      "text/plain": [
       "Generic/Spear Phishing                  7\n",
       "Office365                               6\n",
       "Crypto/Wallet                           3\n",
       "Facebook, Inc.                          3\n",
       "DHL Airways, Inc.                       2\n",
       "Outlook                                 2\n",
       "BPER Banca                              2\n",
       "Tencent                                 2\n",
       "WhatsApp                                2\n",
       "Itau Unibanco S.A                       2\n",
       "Commonwealth Bank of Australia          1\n",
       "Credit Industriel et Commercial S.A.    1\n",
       "Nordea Bank                             1\n",
       "Adobe Inc.                              1\n",
       "Targeted Brand                          1\n",
       "La Banque postale                       1\n",
       "Square, Inc.                            1\n",
       "ETC personal card                       1\n",
       "Alibaba                                 1\n",
       "Societe Generale                        1\n",
       "Australian Taxation Office              1\n",
       "Bell Canada                             1\n",
       "Navy Federal Credit Union               1\n",
       "Coinbase                                1\n",
       "Volksbank                               1\n",
       "Poste Italiane S.p.A                    1\n",
       "Canada Post                             1\n",
       "Monte dei Paschi Di Siena               1\n",
       "Dropbox, Inc.                           1\n",
       "Credit Agricole S.A.                    1\n",
       "Bendigo and Adelaide Bank               1\n",
       "Apple Inc.                              1\n",
       "RBFCU                                   1\n",
       "AEON Financial Service                  1\n",
       "Uphold                                  1\n",
       "Lojas Renner                            1\n",
       "Amazon.com Inc.                         1\n",
       "Netflix Inc.                            1\n",
       "Garena                                  1\n",
       "Name: target_brand, dtype: int64"
      ]
     },
     "execution_count": 86,
     "metadata": {},
     "output_type": "execute_result"
    }
   ],
   "source": [
    "not_df['target_brand'].value_counts()"
   ]
  },
  {
   "cell_type": "code",
   "execution_count": 87,
   "id": "3a2c2500",
   "metadata": {},
   "outputs": [
    {
     "data": {
      "text/plain": [
       "(60,)"
      ]
     },
     "execution_count": 87,
     "metadata": {},
     "output_type": "execute_result"
    }
   ],
   "source": [
    "not_df['url'].shape"
   ]
  },
  {
   "cell_type": "code",
   "execution_count": null,
   "id": "a9edc3e5",
   "metadata": {},
   "outputs": [],
   "source": []
  }
 ],
 "metadata": {
  "kernelspec": {
   "display_name": "Python 3 (ipykernel)",
   "language": "python",
   "name": "python3"
  },
  "language_info": {
   "codemirror_mode": {
    "name": "ipython",
    "version": 3
   },
   "file_extension": ".py",
   "mimetype": "text/x-python",
   "name": "python",
   "nbconvert_exporter": "python",
   "pygments_lexer": "ipython3",
   "version": "3.9.12"
  }
 },
 "nbformat": 4,
 "nbformat_minor": 5
}
