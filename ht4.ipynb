{
 "cells": [
  {
   "cell_type": "markdown",
   "id": "a6255bca",
   "metadata": {},
   "source": [
    "### Тема 4\n"
   ]
  },
  {
   "cell_type": "markdown",
   "id": "e0774d12",
   "metadata": {},
   "source": [
    "### Задание 1"
   ]
  },
  {
   "cell_type": "code",
   "execution_count": 10,
   "id": "12bd4314",
   "metadata": {},
   "outputs": [
    {
     "name": "stdout",
     "output_type": "stream",
     "text": [
      "Введите команду:p\n",
      "Введите номер документа:10006\n",
      "Владелец документа:Аристарх Павлов\n",
      "Введите команду:p\n",
      "Введите номер документа:1001\n",
      "Владелец документа: владелец не найден\n",
      "Введите команду:q\n"
     ]
    }
   ],
   "source": [
    "\n",
    "documents = [\n",
    " {'type': 'passport', 'number': '2207 876234', 'name': 'Василий Гупкин'},\n",
    " {'type': 'invoice', 'number': '11-2', 'name': 'Геннадий Покемонов'},\n",
    " {'type': 'insurance', 'number': '10006', 'name': 'Аристарх Павлов'}\n",
    "]\n",
    "\n",
    "directories = {\n",
    " '1': ['2207 876234', '11-2'],\n",
    " '2': ['10006'],\n",
    " '3': []\n",
    "}\n",
    "\n",
    "def enter_letter ():\n",
    "    \"\"\"\n",
    "    input letter - instruction\n",
    "    \"\"\"\n",
    "    user_input = str(input('Введите команду:'))\n",
    "    return user_input\n",
    "\n",
    "def enter_number_doc():\n",
    "    \"\"\"\n",
    "    input number document - instruction\n",
    "    \"\"\"\n",
    "    user_input = str(input('Введите номер документа:'))\n",
    "    return user_input\n",
    "\n",
    "\n",
    "while True:\n",
    "    a=enter_letter()  # команда p или q\n",
    "    if a=='q':\n",
    "        break\n",
    "    elif a=='p':\n",
    "        command=enter_number_doc() # сохранение номера папки\n",
    "        find_status=False          # переменная статуса найден номер папки или нет\n",
    "        for dict_ in documents:\n",
    "            if dict_['number']==command:            # если номер папки есть в списке, то выводим фамилию из этого списка\n",
    "                print('Владелец документа:'+dict_['name'])\n",
    "                find_status=True\n",
    "                break\n",
    "        if find_status!=True:\n",
    "                print('Владелец документа: владелец не найден')\n",
    "        \n",
    "            \n",
    "                    \n",
    "        \n",
    "                \n",
    "    \n",
    "      "
   ]
  },
  {
   "cell_type": "markdown",
   "id": "1b685f9a",
   "metadata": {},
   "source": [
    "### Задание 2"
   ]
  },
  {
   "cell_type": "code",
   "execution_count": 9,
   "id": "37a26d99",
   "metadata": {},
   "outputs": [
    {
     "name": "stdout",
     "output_type": "stream",
     "text": [
      "Введите команду:s\n",
      "Введите номер документа:10006\n",
      "Документ хранится на полке: 2\n",
      "Введите команду:s\n",
      "Введите номер документа:1006\n",
      "Документ не найден\n",
      "Введите команду:q\n"
     ]
    }
   ],
   "source": [
    "documents = [\n",
    " {'type': 'passport', 'number': '2207 876234', 'name': 'Василий Гупкин'},\n",
    " {'type': 'invoice', 'number': '11-2', 'name': 'Геннадий Покемонов'},\n",
    " {'type': 'insurance', 'number': '10006', 'name': 'Аристарх Павлов'}\n",
    "]\n",
    "\n",
    "directories = {\n",
    " '1': ['2207 876234', '11-2'],\n",
    " '2': ['10006'],\n",
    " '3': []\n",
    "}\n",
    "\n",
    "def enter_letter ():\n",
    "    \"\"\"\n",
    "    input letter - instruction\n",
    "    \"\"\"\n",
    "    user_input = str(input('Введите команду:'))\n",
    "    return user_input\n",
    "\n",
    "def enter_number_doc():\n",
    "    \"\"\"\n",
    "    input number document - instruction\n",
    "    \"\"\"\n",
    "    user_input = str(input('Введите номер документа:'))\n",
    "    return user_input\n",
    "\n",
    "while True:\n",
    "    a=enter_letter()  # команда p или q\n",
    "    if a=='q':\n",
    "            \n",
    "        break\n",
    "    elif a=='s':\n",
    "        find_status=False\n",
    "        command=enter_number_doc() # сохранение номера папки\n",
    "        for keys,check in directories.items():\n",
    "            if command in check:    # если номер документа есть в списке\n",
    "                print('Документ хранится на полке: ' + keys)  # вывести ключ найденного документа\n",
    "                find_status=True\n",
    "                break\n",
    "        if find_status!=True:\n",
    "                print('Документ не найден')\n",
    "        \n",
    "                \n",
    "              \n",
    "            \n",
    "        \n"
   ]
  }
 ],
 "metadata": {
  "kernelspec": {
   "display_name": "Python 3 (ipykernel)",
   "language": "python",
   "name": "python3"
  },
  "language_info": {
   "codemirror_mode": {
    "name": "ipython",
    "version": 3
   },
   "file_extension": ".py",
   "mimetype": "text/x-python",
   "name": "python",
   "nbconvert_exporter": "python",
   "pygments_lexer": "ipython3",
   "version": "3.9.12"
  }
 },
 "nbformat": 4,
 "nbformat_minor": 5
}
