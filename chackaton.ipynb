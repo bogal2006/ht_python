{
 "cells": [
  {
   "cell_type": "code",
   "execution_count": 1,
   "id": "6cd44ac4",
   "metadata": {},
   "outputs": [],
   "source": [
    "import pandas as pd\n",
    "import numpy as np\n",
    "\n",
    "import matplotlib.pyplot as plt\n",
    "import seaborn as sns\n",
    "\n",
    "\n",
    "from sklearn.model_selection import train_test_split\n",
    "from sklearn.utils import shuffle\n",
    "from sklearn.metrics import accuracy_score, precision_score, recall_score, confusion_matrix\n",
    "from sklearn.preprocessing import OneHotEncoder"
   ]
  },
  {
   "cell_type": "code",
   "execution_count": 5,
   "id": "68f4b000",
   "metadata": {},
   "outputs": [],
   "source": [
    "import os"
   ]
  },
  {
   "cell_type": "code",
   "execution_count": 18,
   "id": "76d42b12",
   "metadata": {},
   "outputs": [],
   "source": [
    "#Custom Explore Function\n",
    "def explore(dataframe):\n",
    "    # Shape\n",
    "    print(\"Total Records: \", dataframe.shape[0])\n",
    "          \n",
    "    #Check Missing/Null\n",
    "    x = dataframe.columns[dataframe.isnull().any()].tolist()   \n",
    "    if not x:\n",
    "        print(\"No Missing/Null Records\")\n",
    "    else:        \n",
    "        print(\"Found Missing Records\")"
   ]
  },
  {
   "cell_type": "code",
   "execution_count": 8,
   "id": "1300f1bc",
   "metadata": {},
   "outputs": [
    {
     "data": {
      "text/plain": [
       "['.anaconda',\n",
       " '.android',\n",
       " '.cache',\n",
       " '.conda',\n",
       " '.condarc',\n",
       " '.config',\n",
       " '.continuum',\n",
       " '.eclipse',\n",
       " '.esd_auth',\n",
       " '.fontconfig',\n",
       " '.gimp-2.8',\n",
       " '.gitconfig',\n",
       " '.gitignore',\n",
       " '.idlerc',\n",
       " '.ipynb_checkpoints',\n",
       " '.ipython',\n",
       " '.jupyter',\n",
       " '.matplotlib',\n",
       " '.Origin',\n",
       " '.packettracer',\n",
       " '.pluto.tv',\n",
       " '.pytest_cache',\n",
       " '.QtWebEngineProcess',\n",
       " '.swt',\n",
       " '.thumbnails',\n",
       " '.VirtualBox',\n",
       " '02_03. Datatypes and loops.ipynb',\n",
       " '04_Functions.ipynb',\n",
       " '10_testing.ipynb',\n",
       " '11_asyncio.ipynb',\n",
       " '11_asyncio_1.ipynb',\n",
       " '11_threads_processes.ipynb',\n",
       " '3D Objects',\n",
       " '7. Python class.ipynb',\n",
       " '8. netology_regex.ipynb',\n",
       " 'all_28_10_2022.csv',\n",
       " 'all_file_d.csv',\n",
       " 'AppData',\n",
       " 'Application Data',\n",
       " 'archive_novouralsk.csv',\n",
       " 'ChClFile_nsm.dat',\n",
       " 'Cisco Packet Tracer 8.1.1',\n",
       " 'Contacts',\n",
       " 'Cookies',\n",
       " 'designer.py',\n",
       " 'Desktop',\n",
       " 'Documents',\n",
       " 'Downloads',\n",
       " 'dublicate_file.csv',\n",
       " 'edb_languagepack.exe',\n",
       " 'edb_languagepack_3.exe',\n",
       " 'edb_npgsql.exe',\n",
       " 'edb_pgagent_pg15.exe',\n",
       " 'edb_pgjdbc.exe',\n",
       " 'edb_psqlodbc.exe',\n",
       " 'employee.py',\n",
       " 'exchange.py',\n",
       " 'exchange_1.ipynb',\n",
       " 'Favorites',\n",
       " 'Find_duble_file.ipynb',\n",
       " 'funnel.csv',\n",
       " 'Geopy_libs_test.ipynb',\n",
       " 'Hometask_2_1.ipynb',\n",
       " 'Home_Task_10.ipynb',\n",
       " 'home_work2_ml.csv',\n",
       " 'home_work2_ml1.csv',\n",
       " 'home_work2_ml_not.csv',\n",
       " 'home_work_10.ipynb',\n",
       " 'Home_work_10_all_tasks.ipynb',\n",
       " 'home_work_2.ipynb',\n",
       " 'home_work_3_ml.ipynb',\n",
       " 'hse_hometasks_1.ipynb',\n",
       " 'ht4.ipynb',\n",
       " 'Ht_11.ipynb',\n",
       " 'Ht_15.ipynb',\n",
       " 'Ht_3.ipynb',\n",
       " 'Ht_3_1.ipynb',\n",
       " 'Ht_5.ipynb',\n",
       " 'Ht_6.ipynb',\n",
       " 'Ht_7.ipynb',\n",
       " 'Ht_8.ipynb',\n",
       " 'ht_p_1_2.ipynb',\n",
       " 'IntelGraphicsProfiles',\n",
       " 'Lib',\n",
       " 'Links',\n",
       " 'Local Settings',\n",
       " 'MicrosoftEdgeBackups',\n",
       " 'Music',\n",
       " 'NetHood',\n",
       " 'NTUSER.DAT',\n",
       " 'ntuser.dat.LOG1',\n",
       " 'ntuser.dat.LOG2',\n",
       " 'NTUSER.DAT{e35a4c5c-efc8-11ea-a4b5-d79aeb8faabb}.TM.blf',\n",
       " 'NTUSER.DAT{e35a4c5c-efc8-11ea-a4b5-d79aeb8faabb}.TMContainer00000000000000000001.regtrans-ms',\n",
       " 'NTUSER.DAT{e35a4c5c-efc8-11ea-a4b5-d79aeb8faabb}.TMContainer00000000000000000002.regtrans-ms',\n",
       " 'ntuser.ini',\n",
       " 'ntuser.tmp',\n",
       " 'OneDrive',\n",
       " 'OpenVPN',\n",
       " 'open_list.ipynb',\n",
       " 'ovtr',\n",
       " 'path_dublicate.csv',\n",
       " 'personal_programs_python',\n",
       " 'Pictures',\n",
       " 'postgresql_15.exe',\n",
       " 'PrintHood',\n",
       " 'purchase_log.txt',\n",
       " 'purchase_log_2.txt',\n",
       " 'PycharmProjects',\n",
       " 'pyvenv.cfg',\n",
       " 'Recent',\n",
       " 'Saved Games',\n",
       " 'Scripts',\n",
       " 'Searches',\n",
       " 'SendTo',\n",
       " 'seqir.py',\n",
       " 'set_file.csv',\n",
       " 'SkyDrive',\n",
       " 'task_101.py',\n",
       " 'test.ipynb',\n",
       " 'test02102022.txt',\n",
       " 'test28_01.csv',\n",
       " 'tests',\n",
       " 'test_10_2.py',\n",
       " 'test_10_3.py',\n",
       " 'test_28_09_2022.txt',\n",
       " 'test_ch.csv',\n",
       " 'test_check11.py.ipynb',\n",
       " 'test_ex.py',\n",
       " 'test_home_2_ml.ipynb',\n",
       " 'test_lin.py',\n",
       " 'test_palindrom.py',\n",
       " 'test_task_101.py',\n",
       " 'test_untitled2.py',\n",
       " 'Tracing',\n",
       " 'train.csv',\n",
       " 'train_ch.csv',\n",
       " 'Untitled.ipynb',\n",
       " 'untitled.txt',\n",
       " 'Untitled1.ipynb',\n",
       " 'Untitled10.ipynb',\n",
       " 'Untitled11.ipynb',\n",
       " 'Untitled12.ipynb',\n",
       " 'Untitled13.ipynb',\n",
       " 'Untitled14.ipynb',\n",
       " 'Untitled15.ipynb',\n",
       " 'Untitled16.ipynb',\n",
       " 'Untitled17.ipynb',\n",
       " 'Untitled18.ipynb',\n",
       " 'Untitled2.ipynb',\n",
       " 'Untitled3.ipynb',\n",
       " 'Untitled4.ipynb',\n",
       " 'Untitled5.ipynb',\n",
       " 'Untitled6.ipynb',\n",
       " 'Untitled7.ipynb',\n",
       " 'Untitled8.ipynb',\n",
       " 'Untitled9.ipynb',\n",
       " 'Videos',\n",
       " 'visit_log.csv',\n",
       " 'vm_unit',\n",
       " 'winequality-red.csv',\n",
       " 'winequality-white.csv',\n",
       " 'yandex_api.ipynb',\n",
       " '_04. Functions.ipynb',\n",
       " '__pycache__',\n",
       " 'Вебинар_1.ipynb',\n",
       " 'Вебинар_2 statistic.ipynb',\n",
       " 'Вебинар_2.ipynb',\n",
       " 'главное меню',\n",
       " 'домашка хакатон',\n",
       " 'лекция_matlotlib.ipynb',\n",
       " 'Лекция_Numpy.ipynb',\n",
       " 'Лекция_Pandas.ipynb',\n",
       " 'Мои документы',\n",
       " 'практика и блокноты ml_4_5',\n",
       " 'тест_28_09_2022.txt',\n",
       " 'Шаблоны']"
      ]
     },
     "execution_count": 8,
     "metadata": {},
     "output_type": "execute_result"
    }
   ],
   "source": [
    "os.listdir('/Users/я')"
   ]
  },
  {
   "cell_type": "code",
   "execution_count": 10,
   "id": "46178bd6",
   "metadata": {},
   "outputs": [],
   "source": [
    "db=pd.read_csv('/Users/я/train_ch.csv')"
   ]
  },
  {
   "cell_type": "code",
   "execution_count": 11,
   "id": "6b009ce9",
   "metadata": {},
   "outputs": [
    {
     "data": {
      "text/html": [
       "<div>\n",
       "<style scoped>\n",
       "    .dataframe tbody tr th:only-of-type {\n",
       "        vertical-align: middle;\n",
       "    }\n",
       "\n",
       "    .dataframe tbody tr th {\n",
       "        vertical-align: top;\n",
       "    }\n",
       "\n",
       "    .dataframe thead th {\n",
       "        text-align: right;\n",
       "    }\n",
       "</style>\n",
       "<table border=\"1\" class=\"dataframe\">\n",
       "  <thead>\n",
       "    <tr style=\"text-align: right;\">\n",
       "      <th></th>\n",
       "      <th>Id</th>\n",
       "      <th>url</th>\n",
       "      <th>Predicted</th>\n",
       "    </tr>\n",
       "  </thead>\n",
       "  <tbody>\n",
       "    <tr>\n",
       "      <th>0</th>\n",
       "      <td>0</td>\n",
       "      <td>http://banqsuepoy.temp.swtest.ru/pb/assistance...</td>\n",
       "      <td>1</td>\n",
       "    </tr>\n",
       "    <tr>\n",
       "      <th>1</th>\n",
       "      <td>1</td>\n",
       "      <td>https://my.mail.ru/community/mir24.tv/</td>\n",
       "      <td>0</td>\n",
       "    </tr>\n",
       "    <tr>\n",
       "      <th>2</th>\n",
       "      <td>2</td>\n",
       "      <td>https://rmailidtrack-b484fa.ingress-bonde.ewp....</td>\n",
       "      <td>1</td>\n",
       "    </tr>\n",
       "    <tr>\n",
       "      <th>3</th>\n",
       "      <td>3</td>\n",
       "      <td>http://tjvodxie.cn.b2b168.com/m296765p1/</td>\n",
       "      <td>0</td>\n",
       "    </tr>\n",
       "    <tr>\n",
       "      <th>4</th>\n",
       "      <td>4</td>\n",
       "      <td>https://articulate.com/360/review</td>\n",
       "      <td>0</td>\n",
       "    </tr>\n",
       "  </tbody>\n",
       "</table>\n",
       "</div>"
      ],
      "text/plain": [
       "   Id                                                url  Predicted\n",
       "0   0  http://banqsuepoy.temp.swtest.ru/pb/assistance...          1\n",
       "1   1             https://my.mail.ru/community/mir24.tv/          0\n",
       "2   2  https://rmailidtrack-b484fa.ingress-bonde.ewp....          1\n",
       "3   3           http://tjvodxie.cn.b2b168.com/m296765p1/          0\n",
       "4   4                  https://articulate.com/360/review          0"
      ]
     },
     "execution_count": 11,
     "metadata": {},
     "output_type": "execute_result"
    }
   ],
   "source": [
    "db.head()"
   ]
  },
  {
   "cell_type": "code",
   "execution_count": 12,
   "id": "b849b3be",
   "metadata": {},
   "outputs": [
    {
     "data": {
      "text/plain": [
       "185910"
      ]
     },
     "execution_count": 12,
     "metadata": {},
     "output_type": "execute_result"
    }
   ],
   "source": [
    "len(db)"
   ]
  },
  {
   "cell_type": "code",
   "execution_count": 15,
   "id": "997fe25a",
   "metadata": {},
   "outputs": [
    {
     "data": {
      "text/plain": [
       "1    93275\n",
       "0    92635\n",
       "Name: Predicted, dtype: int64"
      ]
     },
     "execution_count": 15,
     "metadata": {},
     "output_type": "execute_result"
    }
   ],
   "source": [
    "db['Predicted'].value_counts()"
   ]
  },
  {
   "cell_type": "code",
   "execution_count": 16,
   "id": "dbb4a4ac",
   "metadata": {},
   "outputs": [
    {
     "data": {
      "image/png": "[encoded data removed]",
      "text/plain": [
       "<Figure size 432x288 with 1 Axes>"
      ]
     },
     "metadata": {
      "needs_background": "light"
     },
     "output_type": "display_data"
    }
   ],
   "source": [
    "sns.countplot(data=db,x='Predicted')\n",
    "plt.show()"
   ]
  },
  {
   "cell_type": "code",
   "execution_count": 17,
   "id": "fb052133",
   "metadata": {},
   "outputs": [
    {
     "data": {
      "text/plain": [
       "count                                                185910\n",
       "unique                                               175579\n",
       "top       https://ceska-posta-be61a7.ingress-erytho.ewp....\n",
       "freq                                                     12\n",
       "Name: url, dtype: object"
      ]
     },
     "execution_count": 17,
     "metadata": {},
     "output_type": "execute_result"
    }
   ],
   "source": [
    "db['url'].describe()"
   ]
  },
  {
   "cell_type": "code",
   "execution_count": 19,
   "id": "be364609",
   "metadata": {},
   "outputs": [
    {
     "name": "stdout",
     "output_type": "stream",
     "text": [
      "Total Records:  185910\n",
      "No Missing/Null Records\n"
     ]
    }
   ],
   "source": [
    "explore(db)"
   ]
  },
  {
   "cell_type": "code",
   "execution_count": 20,
   "id": "ed953935",
   "metadata": {},
   "outputs": [],
   "source": [
    "df=db.drop_duplicates(['url'])"
   ]
  },
  {
   "cell_type": "code",
   "execution_count": 21,
   "id": "c8104fca",
   "metadata": {},
   "outputs": [
    {
     "data": {
      "text/plain": [
       "count                                                175579\n",
       "unique                                               175579\n",
       "top       http://banqsuepoy.temp.swtest.ru/pb/assistance...\n",
       "freq                                                      1\n",
       "Name: url, dtype: object"
      ]
     },
     "execution_count": 21,
     "metadata": {},
     "output_type": "execute_result"
    }
   ],
   "source": [
    "df['url'].describe()"
   ]
  },
  {
   "cell_type": "code",
   "execution_count": 24,
   "id": "5b3cf4eb",
   "metadata": {},
   "outputs": [
    {
     "data": {
      "image/png": "[encoded data removed]",
      "text/plain": [
       "<Figure size 432x288 with 1 Axes>"
      ]
     },
     "metadata": {
      "needs_background": "light"
     },
     "output_type": "display_data"
    }
   ],
   "source": [
    "sns.countplot(data=df,x='Predicted')\n",
    "plt.show()"
   ]
  },
  {
   "cell_type": "code",
   "execution_count": 25,
   "id": "4a808177",
   "metadata": {},
   "outputs": [
    {
     "data": {
      "text/plain": [
       "0    91753\n",
       "1    83826\n",
       "Name: Predicted, dtype: int64"
      ]
     },
     "execution_count": 25,
     "metadata": {},
     "output_type": "execute_result"
    }
   ],
   "source": [
    "df['Predicted'].value_counts()"
   ]
  },
  {
   "cell_type": "markdown",
   "id": "dde446d7",
   "metadata": {},
   "source": [
    "### Извлечение признаков на основе токенизации"
   ]
  },
  {
   "cell_type": "code",
   "execution_count": 22,
   "id": "a61d48de",
   "metadata": {},
   "outputs": [],
   "source": [
    "from nltk.tokenize import RegexpTokenizer\n",
    "from nltk.stem.snowball import SnowballStemmer\n",
    "from sklearn.feature_extraction.text import CountVectorizer\n",
    "from sklearn.model_selection import train_test_split"
   ]
  },
  {
   "cell_type": "markdown",
   "id": "e5522756",
   "metadata": {},
   "source": [
    "### разделим данные на признаки и метки"
   ]
  },
  {
   "cell_type": "code",
   "execution_count": 26,
   "id": "a8d3e74c",
   "metadata": {},
   "outputs": [],
   "source": [
    "X = df[['url']].copy()\n",
    "y = df.Predicted.copy()"
   ]
  },
  {
   "cell_type": "code",
   "execution_count": 27,
   "id": "51810b00",
   "metadata": {},
   "outputs": [],
   "source": [
    "tokenizer = RegexpTokenizer(r'[A-Za-z]+')\n",
    "stemmer = SnowballStemmer(\"english\")\n",
    "cv = CountVectorizer()"
   ]
  },
  {
   "cell_type": "code",
   "execution_count": 28,
   "id": "248f435c",
   "metadata": {},
   "outputs": [],
   "source": [
    "df_test = pd.read_csv(\"/Users/я/test_ch.csv\", sep=\",\")\n",
    "X_test = df_test[['url']].copy()"
   ]
  },
  {
   "cell_type": "code",
   "execution_count": 30,
   "id": "050622d2",
   "metadata": {},
   "outputs": [
    {
     "data": {
      "text/html": [
       "<div>\n",
       "<style scoped>\n",
       "    .dataframe tbody tr th:only-of-type {\n",
       "        vertical-align: middle;\n",
       "    }\n",
       "\n",
       "    .dataframe tbody tr th {\n",
       "        vertical-align: top;\n",
       "    }\n",
       "\n",
       "    .dataframe thead th {\n",
       "        text-align: right;\n",
       "    }\n",
       "</style>\n",
       "<table border=\"1\" class=\"dataframe\">\n",
       "  <thead>\n",
       "    <tr style=\"text-align: right;\">\n",
       "      <th></th>\n",
       "      <th>url</th>\n",
       "    </tr>\n",
       "  </thead>\n",
       "  <tbody>\n",
       "    <tr>\n",
       "      <th>0</th>\n",
       "      <td>http://fb-ads-manager.multimo.co.id/immobilien...</td>\n",
       "    </tr>\n",
       "    <tr>\n",
       "      <th>1</th>\n",
       "      <td>https://www.hamdogs.net/login/wellsfargo/login...</td>\n",
       "    </tr>\n",
       "    <tr>\n",
       "      <th>2</th>\n",
       "      <td>https://help.ubuntu.com/community/UpgradeNotes</td>\n",
       "    </tr>\n",
       "    <tr>\n",
       "      <th>3</th>\n",
       "      <td>https://silverberrygroup.com/wp-admin/network/...</td>\n",
       "    </tr>\n",
       "    <tr>\n",
       "      <th>4</th>\n",
       "      <td>https://af.mil</td>\n",
       "    </tr>\n",
       "    <tr>\n",
       "      <th>...</th>\n",
       "      <td>...</td>\n",
       "    </tr>\n",
       "    <tr>\n",
       "      <th>46473</th>\n",
       "      <td>https://opensoul.me</td>\n",
       "    </tr>\n",
       "    <tr>\n",
       "      <th>46474</th>\n",
       "      <td>https://compag.cz/wp-content/upgrade/redirect/...</td>\n",
       "    </tr>\n",
       "    <tr>\n",
       "      <th>46475</th>\n",
       "      <td>https://66law.cn/www.66law.cn/ganxian/</td>\n",
       "    </tr>\n",
       "    <tr>\n",
       "      <th>46476</th>\n",
       "      <td>https://forum.guns.ru/forumtopics/155.html</td>\n",
       "    </tr>\n",
       "    <tr>\n",
       "      <th>46477</th>\n",
       "      <td>amazon-co-jp-s2lq.top</td>\n",
       "    </tr>\n",
       "  </tbody>\n",
       "</table>\n",
       "<p>46478 rows × 1 columns</p>\n",
       "</div>"
      ],
      "text/plain": [
       "                                                     url\n",
       "0      http://fb-ads-manager.multimo.co.id/immobilien...\n",
       "1      https://www.hamdogs.net/login/wellsfargo/login...\n",
       "2         https://help.ubuntu.com/community/UpgradeNotes\n",
       "3      https://silverberrygroup.com/wp-admin/network/...\n",
       "4                                         https://af.mil\n",
       "...                                                  ...\n",
       "46473                                https://opensoul.me\n",
       "46474  https://compag.cz/wp-content/upgrade/redirect/...\n",
       "46475             https://66law.cn/www.66law.cn/ganxian/\n",
       "46476         https://forum.guns.ru/forumtopics/155.html\n",
       "46477                              amazon-co-jp-s2lq.top\n",
       "\n",
       "[46478 rows x 1 columns]"
      ]
     },
     "execution_count": 30,
     "metadata": {},
     "output_type": "execute_result"
    }
   ],
   "source": [
    "X_test"
   ]
  },
  {
   "cell_type": "code",
   "execution_count": 31,
   "id": "a9ea45a8",
   "metadata": {},
   "outputs": [],
   "source": [
    "def prepare_data(X) :\n",
    "    X['text_tokenized'] = X.url.map(lambda t: tokenizer.tokenize(t))\n",
    "    X['text_stemmed'] = X.text_tokenized.map(lambda t: [stemmer.stem(word) for word in t])\n",
    "    X['text_sent'] = X.text_stemmed.map(lambda t: ' '.join(t))\n",
    "    features = cv.fit_transform(X.text_sent)\n",
    "    return X, features"
   ]
  },
  {
   "cell_type": "code",
   "execution_count": 32,
   "id": "0fbcf9f2",
   "metadata": {},
   "outputs": [],
   "source": [
    "def prepare_data_transform(X) :\n",
    "    X['text_tokenized'] = X.url.map(lambda t: tokenizer.tokenize(t))\n",
    "    X['text_stemmed'] = X.text_tokenized.map(lambda t: [stemmer.stem(word) for word in t])\n",
    "    X['text_sent'] = X.text_stemmed.map(lambda t: ' '.join(t))\n",
    "    features = cv.transform(X.text_sent)\n",
    "    return X, features"
   ]
  },
  {
   "cell_type": "code",
   "execution_count": 33,
   "id": "ada0267e",
   "metadata": {},
   "outputs": [],
   "source": [
    "_, _ = prepare_data(X_test)"
   ]
  },
  {
   "cell_type": "code",
   "execution_count": 34,
   "id": "46600936",
   "metadata": {},
   "outputs": [],
   "source": [
    "X, features = prepare_data_transform(X)"
   ]
  },
  {
   "cell_type": "code",
   "execution_count": 35,
   "id": "ef5c9ddd",
   "metadata": {},
   "outputs": [],
   "source": [
    "from sklearn.ensemble import RandomForestClassifier"
   ]
  },
  {
   "cell_type": "code",
   "execution_count": 36,
   "id": "0a64b613",
   "metadata": {},
   "outputs": [],
   "source": [
    "rfc = RandomForestClassifier(n_estimators = 50, verbose=2)"
   ]
  },
  {
   "cell_type": "code",
   "execution_count": 40,
   "id": "03dd58aa",
   "metadata": {},
   "outputs": [
    {
     "name": "stderr",
     "output_type": "stream",
     "text": [
      "[Parallel(n_jobs=1)]: Using backend SequentialBackend with 1 concurrent workers.\n"
     ]
    },
    {
     "name": "stdout",
     "output_type": "stream",
     "text": [
      "building tree 1 of 50\n"
     ]
    },
    {
     "name": "stderr",
     "output_type": "stream",
     "text": [
      "[Parallel(n_jobs=1)]: Done   1 out of   1 | elapsed:   27.8s remaining:    0.0s\n"
     ]
    },
    {
     "name": "stdout",
     "output_type": "stream",
     "text": [
      "building tree 2 of 50\n",
      "building tree 3 of 50\n",
      "building tree 4 of 50\n",
      "building tree 5 of 50\n",
      "building tree 6 of 50\n",
      "building tree 7 of 50\n",
      "building tree 8 of 50\n",
      "building tree 9 of 50\n",
      "building tree 10 of 50\n",
      "building tree 11 of 50\n",
      "building tree 12 of 50\n",
      "building tree 13 of 50\n",
      "building tree 14 of 50\n",
      "building tree 15 of 50\n",
      "building tree 16 of 50\n",
      "building tree 17 of 50\n",
      "building tree 18 of 50\n",
      "building tree 19 of 50\n",
      "building tree 20 of 50\n",
      "building tree 21 of 50\n",
      "building tree 22 of 50\n",
      "building tree 23 of 50\n",
      "building tree 24 of 50\n",
      "building tree 25 of 50\n",
      "building tree 26 of 50\n",
      "building tree 27 of 50\n",
      "building tree 28 of 50\n",
      "building tree 29 of 50\n",
      "building tree 30 of 50\n",
      "building tree 31 of 50\n",
      "building tree 32 of 50\n",
      "building tree 33 of 50\n",
      "building tree 34 of 50\n",
      "building tree 35 of 50\n",
      "building tree 36 of 50\n",
      "building tree 37 of 50\n",
      "building tree 38 of 50\n",
      "building tree 39 of 50\n",
      "building tree 40 of 50\n",
      "building tree 41 of 50\n",
      "building tree 42 of 50\n",
      "building tree 43 of 50\n",
      "building tree 44 of 50\n",
      "building tree 45 of 50\n",
      "building tree 46 of 50\n",
      "building tree 47 of 50\n",
      "building tree 48 of 50\n",
      "building tree 49 of 50\n",
      "building tree 50 of 50\n"
     ]
    },
    {
     "name": "stderr",
     "output_type": "stream",
     "text": [
      "[Parallel(n_jobs=1)]: Done  50 out of  50 | elapsed: 25.1min finished\n",
      "[Parallel(n_jobs=1)]: Using backend SequentialBackend with 1 concurrent workers.\n",
      "[Parallel(n_jobs=1)]: Done   1 out of   1 | elapsed:    0.1s remaining:    0.0s\n",
      "[Parallel(n_jobs=1)]: Done  50 out of  50 | elapsed:    7.6s finished\n"
     ]
    }
   ],
   "source": [
    "trainX, testX, trainY, testY = train_test_split(features, y, test_size=1-0.8, stratify=y, random_state=42)\n",
    "rfc.fit(trainX, trainY)\n",
    "predY = rfc.predict(testX)\n",
    "accuracy = accuracy_score(testY, predY)\n",
    "precision = precision_score(testY, predY, pos_label=1)\n",
    "recall = recall_score(testY, predY, pos_label=1)"
   ]
  },
  {
   "cell_type": "code",
   "execution_count": 42,
   "id": "38b301d5",
   "metadata": {},
   "outputs": [
    {
     "name": "stdout",
     "output_type": "stream",
     "text": [
      "accuracy = 0.9291206287732088 precision=0.90718767826583 recall= 0.9485833581866985\n"
     ]
    }
   ],
   "source": [
    "print(f\"accuracy = {accuracy} precision={precision} recall= {recall}\")"
   ]
  },
  {
   "cell_type": "code",
   "execution_count": 43,
   "id": "f3dd2412",
   "metadata": {},
   "outputs": [
    {
     "data": {
      "text/plain": [
       "100788    1\n",
       "59675     0\n",
       "131399    1\n",
       "52777     0\n",
       "55990     1\n",
       "         ..\n",
       "51619     1\n",
       "157565    1\n",
       "13311     0\n",
       "95683     1\n",
       "10900     1\n",
       "Name: Predicted, Length: 35116, dtype: int64"
      ]
     },
     "execution_count": 43,
     "metadata": {},
     "output_type": "execute_result"
    }
   ],
   "source": [
    "testY"
   ]
  },
  {
   "cell_type": "code",
   "execution_count": 44,
   "id": "00a00272",
   "metadata": {},
   "outputs": [],
   "source": [
    "X_test, features_test = prepare_data_transform(X_test)"
   ]
  },
  {
   "cell_type": "code",
   "execution_count": 45,
   "id": "c44266a5",
   "metadata": {},
   "outputs": [
    {
     "name": "stderr",
     "output_type": "stream",
     "text": [
      "[Parallel(n_jobs=1)]: Using backend SequentialBackend with 1 concurrent workers.\n",
      "[Parallel(n_jobs=1)]: Done   1 out of   1 | elapsed:    0.2s remaining:    0.0s\n",
      "[Parallel(n_jobs=1)]: Done  50 out of  50 | elapsed:    9.6s finished\n"
     ]
    }
   ],
   "source": [
    "pred_test = rfc.predict(features_test)"
   ]
  },
  {
   "cell_type": "code",
   "execution_count": 46,
   "id": "f2e1587a",
   "metadata": {},
   "outputs": [
    {
     "data": {
      "text/plain": [
       "46478"
      ]
     },
     "execution_count": 46,
     "metadata": {},
     "output_type": "execute_result"
    }
   ],
   "source": [
    "len(pred_test)"
   ]
  },
  {
   "cell_type": "code",
   "execution_count": 53,
   "id": "6ddf9798",
   "metadata": {},
   "outputs": [],
   "source": [
    "submit = pd.DataFrame(pred_test, columns=[\"label\"])"
   ]
  },
  {
   "cell_type": "code",
   "execution_count": 54,
   "id": "9597e259",
   "metadata": {},
   "outputs": [],
   "source": [
    "submit.to_csv(f\"/Users/я/sample_submit_rfc_26.csv\")"
   ]
  },
  {
   "cell_type": "code",
   "execution_count": null,
   "id": "3d0ea45f",
   "metadata": {},
   "outputs": [],
   "source": []
  }
 ],
 "metadata": {
  "kernelspec": {
   "display_name": "Python 3 (ipykernel)",
   "language": "python",
   "name": "python3"
  },
  "language_info": {
   "codemirror_mode": {
    "name": "ipython",
    "version": 3
   },
   "file_extension": ".py",
   "mimetype": "text/x-python",
   "name": "python",
   "nbconvert_exporter": "python",
   "pygments_lexer": "ipython3",
   "version": "3.9.12"
  }
 },
 "nbformat": 4,
 "nbformat_minor": 5
}
