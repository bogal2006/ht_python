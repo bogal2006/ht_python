{
 "cells": [
  {
   "cell_type": "markdown",
   "id": "1c1a75ac",
   "metadata": {},
   "source": [
    "### Домашнее задание по теме 2"
   ]
  },
  {
   "cell_type": "markdown",
   "id": "709f5275",
   "metadata": {},
   "source": [
    "### задача 1"
   ]
  },
  {
   "cell_type": "code",
   "execution_count": 47,
   "id": "7dc90184",
   "metadata": {},
   "outputs": [
    {
     "name": "stdout",
     "output_type": "stream",
     "text": [
      "1. word ='test' Результат:es\n",
      "2. word ='testing' Результат:t\n"
     ]
    }
   ],
   "source": [
    "one_word,second_word='test','testing'\n",
    "\n",
    "word_list_1=list(one_word)     #создаем список для первого слова\n",
    "word_list_2=list(second_word)  #создаем список для второго слова\n",
    "if len(one_word)%2==0:         #если число четное, то ниже парсим две средние буквы\n",
    "    word_result_1=\"\".join(word_list_1[(len(one_word)//2)-1:(len(one_word)//2)+1])\n",
    "else:                          # иначе парсим одну среднюю букву\n",
    "    word_result_1=\"\".join(word_list_1[(len(one_word)//2)])\n",
    "print(\"1. word =\"+'\\''+one_word+'\\''+' Результат:',end='') \n",
    "print(word_result_1)\n",
    "\n",
    "if len(word_list_2)%2==0:\n",
    "    word_result_2=\"\".join(word_list_2[(len(second_word)//2)-1:(len(second_word)//2)+1])\n",
    "else:\n",
    "    word_result_2=\"\".join(word_list_2[(len(second_word)//2)])\n",
    "print(\"2. word =\"+'\\''+second_word+'\\''+' Результат:',end='')\n",
    "print(word_result_2)\n",
    "\n",
    "    \n"
   ]
  }
 ],
 "metadata": {
  "kernelspec": {
   "display_name": "Python 3 (ipykernel)",
   "language": "python",
   "name": "python3"
  },
  "language_info": {
   "codemirror_mode": {
    "name": "ipython",
    "version": 3
   },
   "file_extension": ".py",
   "mimetype": "text/x-python",
   "name": "python",
   "nbconvert_exporter": "python",
   "pygments_lexer": "ipython3",
   "version": "3.9.12"
  }
 },
 "nbformat": 4,
 "nbformat_minor": 5
}
