{
 "cells": [
  {
   "cell_type": "markdown",
   "id": "d19364c4",
   "metadata": {},
   "source": [
    "### Домашнее задание 3"
   ]
  },
  {
   "cell_type": "markdown",
   "id": "2785a375",
   "metadata": {},
   "source": [
    "### Задание 1"
   ]
  },
  {
   "cell_type": "code",
   "execution_count": 18,
   "id": "f58bf2f1",
   "metadata": {},
   "outputs": [
    {
     "name": "stdout",
     "output_type": "stream",
     "text": [
      "{98, 35, 15, 213, 54, 119}\n"
     ]
    }
   ],
   "source": [
    "ids = {'user1': [213, 213, 213, 15, 213], \n",
    "       'user2': [54, 54, 119, 119, 119], \n",
    "       'user3': [213, 98, 98, 35]}\n",
    "\n",
    "a=set(ids['user1']+ids['user2']+ids['user3'])\n",
    "print(a)\n"
   ]
  },
  {
   "cell_type": "markdown",
   "id": "328ef5b2",
   "metadata": {},
   "source": [
    "###  Задание 2"
   ]
  },
  {
   "cell_type": "code",
   "execution_count": null,
   "id": "a21ce93c",
   "metadata": {},
   "outputs": [],
   "source": []
  }
 ],
 "metadata": {
  "kernelspec": {
   "display_name": "Python 3 (ipykernel)",
   "language": "python",
   "name": "python3"
  },
  "language_info": {
   "codemirror_mode": {
    "name": "ipython",
    "version": 3
   },
   "file_extension": ".py",
   "mimetype": "text/x-python",
   "name": "python",
   "nbconvert_exporter": "python",
   "pygments_lexer": "ipython3",
   "version": "3.9.12"
  }
 },
 "nbformat": 4,
 "nbformat_minor": 5
}
