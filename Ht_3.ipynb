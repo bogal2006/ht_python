{
 "cells": [
  {
   "cell_type": "markdown",
   "id": "d19364c4",
   "metadata": {},
   "source": [
    "### Домашнее задание 3"
   ]
  },
  {
   "cell_type": "markdown",
   "id": "2785a375",
   "metadata": {},
   "source": [
    "### Задание 1"
   ]
  },
  {
   "cell_type": "code",
   "execution_count": 18,
   "id": "f58bf2f1",
   "metadata": {},
   "outputs": [
    {
     "name": "stdout",
     "output_type": "stream",
     "text": [
      "{98, 35, 15, 213, 54, 119}\n"
     ]
    }
   ],
   "source": [
    "ids = {'user1': [213, 213, 213, 15, 213], \n",
    "       'user2': [54, 54, 119, 119, 119], \n",
    "       'user3': [213, 98, 98, 35]}\n",
    "\n",
    "a=set(ids['user1']+ids['user2']+ids['user3'])\n",
    "print(a)\n"
   ]
  },
  {
   "cell_type": "markdown",
   "id": "328ef5b2",
   "metadata": {},
   "source": [
    "###  Задание 2"
   ]
  },
  {
   "cell_type": "code",
   "execution_count": 11,
   "id": "a21ce93c",
   "metadata": {},
   "outputs": [
    {
     "name": "stdout",
     "output_type": "stream",
     "text": [
      "Поисковых запросов, содержащих 2 слов(а): 42.86%\n",
      "Поисковых запросов, содержащих 3 слов(а): 57.14%\n"
     ]
    }
   ],
   "source": [
    "queries = [\n",
    "    'смотреть сериалы онлайн',\n",
    "    'новости спорта',\n",
    "    'афиша кино',\n",
    "    'курс доллара',\n",
    "    'сериалы этим летом',\n",
    "    'курс по питону',\n",
    "    'сериалы про спорт',\n",
    "]\n",
    "sum_values_queries=len(queries)\n",
    "queries_item=[] # список для хранения количества слов в каждой ячейке \n",
    "for i in queries:\n",
    "    queries_item.append(len(i.split(' '))) \n",
    "result_to_work=queries_item.count(2)  # количество запросов с двумя словами\n",
    "result_three_work=queries_item.count(3) # количество запросов с тремя словами\n",
    "result_prozent_2_work=round(result_to_work/sum_values_queries*100,2)\n",
    "result_prozent_3_work=round(result_three_work/sum_values_queries*100,2)\n",
    "print('Поисковых запросов, содержащих 2 слов(а): '+str(result_prozent_2_work)+'%') \n",
    "print('Поисковых запросов, содержащих 3 слов(а): '+str(result_prozent_3_work)+'%') \n",
    "\n",
    "\n",
    "\n"
   ]
  },
  {
   "cell_type": "markdown",
   "id": "fb13edab",
   "metadata": {},
   "source": [
    "###  Задание 3"
   ]
  },
  {
   "cell_type": "code",
   "execution_count": 14,
   "id": "500b551f",
   "metadata": {},
   "outputs": [
    {
     "data": {
      "text/plain": [
       "{'vk': {'revenue': 103, 'cost': 98, 'ROI': 5.1},\n",
       " 'yandex': {'revenue': 179, 'cost': 153, 'ROI': 16.99},\n",
       " 'facebook': {'revenue': 103, 'cost': 110, 'ROI': -6.36},\n",
       " 'adwords': {'revenue': 35, 'cost': 34, 'ROI': 2.94},\n",
       " 'twitter': {'revenue': 11, 'cost': 24, 'ROI': -54.17}}"
      ]
     },
     "execution_count": 14,
     "metadata": {},
     "output_type": "execute_result"
    }
   ],
   "source": [
    "results = {\n",
    "    'vk': {'revenue': 103, 'cost': 98},\n",
    "    'yandex': {'revenue': 179, 'cost': 153},\n",
    "    'facebook': {'revenue': 103, 'cost': 110},\n",
    "    'adwords': {'revenue': 35, 'cost': 34},\n",
    "    'twitter': {'revenue': 11, 'cost': 24},\n",
    "}\n",
    "for revenue, roi in results.items():\n",
    "    roi['ROI']  =  round((results[revenue]['revenue']/results[revenue]['cost']-1)*100,2)\n",
    "   \n",
    "results    \n",
    "    \n",
    "   # results['vk']['ROI']=round((results['vk']['revenue']/results['vk']['cost']-1)*100,2) #расчет и добавление ROI\n",
    "\n",
    "\n"
   ]
  },
  {
   "cell_type": "markdown",
   "id": "cc7e7055",
   "metadata": {},
   "source": [
    "### Задание 4"
   ]
  },
  {
   "cell_type": "code",
   "execution_count": 33,
   "id": "27a416c2",
   "metadata": {},
   "outputs": [
    {
     "name": "stdout",
     "output_type": "stream",
     "text": [
      "vk\n"
     ]
    }
   ],
   "source": [
    "stats = {'facebook': 55, 'yandex': 115, 'vk': 120, 'google': 99, 'email': 42, 'ok': 98}\n",
    "# добавить все значения в список, выбрать максимальный, выдать ключ максимального значения\n",
    "a=[] # список всех ключей словаря\n",
    "b=[] #список всех значений словаря\n",
    "for key,values in stats.items():\n",
    "    a.append(key)  # добавление в список ключей\n",
    "    b.append(values) # добавление в список значений\n",
    "print(a[b.index(max(b))]) # находим максимальное значения списка значений и по его индексу находим значения ключа \n",
    "   \n",
    "\n"
   ]
  }
 ],
 "metadata": {
  "kernelspec": {
   "display_name": "Python 3 (ipykernel)",
   "language": "python",
   "name": "python3"
  },
  "language_info": {
   "codemirror_mode": {
    "name": "ipython",
    "version": 3
   },
   "file_extension": ".py",
   "mimetype": "text/x-python",
   "name": "python",
   "nbconvert_exporter": "python",
   "pygments_lexer": "ipython3",
   "version": "3.9.12"
  }
 },
 "nbformat": 4,
 "nbformat_minor": 5
}
