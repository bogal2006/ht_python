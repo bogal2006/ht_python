{
 "cells": [
  {
   "cell_type": "markdown",
   "id": "102090c9",
   "metadata": {},
   "source": [
    "### Домашнее задание по теме 1 "
   ]
  },
  {
   "cell_type": "markdown",
   "id": "cfe215e3",
   "metadata": {},
   "source": [
    "### задание 1"
   ]
  },
  {
   "cell_type": "code",
   "execution_count": 6,
   "id": "b512fe7a",
   "metadata": {},
   "outputs": [
    {
     "name": "stdout",
     "output_type": "stream",
     "text": [
      "year =  2020\n",
      "Результат:\n",
      "Високосный год\n"
     ]
    }
   ],
   "source": [
    "year=2020\n",
    "print(\"year = \",year)\n",
    "print(\"Результат:\")\n",
    "if year==2020:\n",
    "    print(\"Високосный год\")\n",
    "else:\n",
    "    print(\"Обычный год\")\n",
    "        \n",
    "    "
   ]
  },
  {
   "cell_type": "markdown",
   "id": "59e6b478",
   "metadata": {},
   "source": [
    "### задание 2"
   ]
  },
  {
   "cell_type": "code",
   "execution_count": 9,
   "id": "51efe98e",
   "metadata": {},
   "outputs": [
    {
     "name": "stdout",
     "output_type": "stream",
     "text": [
      "number =  123321\n",
      "Результат:\n",
      "Счастливый билет\n"
     ]
    }
   ],
   "source": [
    "ticket_number=123321\n",
    "print(\"number = \",ticket_number)\n",
    "print(\"Результат:\")\n",
    "first_number=ticket_number//100000  #выделяем первое число в номере\n",
    "second_number=ticket_number//10000%10 #выделяем второе число в номере\n",
    "third_number=ticket_number//1000%10 #выделяем третье число в номере\n",
    "fourth_number=ticket_number//100%10 #выделяем четвертое число в номере\n",
    "fifth_number=ticket_number//10%10 #выделяем пятое число в номере\n",
    "sixth_number=ticket_number%10 #выделяем шестое число в номере\n",
    "if first_number+second_number+third_number==fourth_number+fifth_number+sixth_number:  #сверяем сумму первых и последних 3х чисел номера\n",
    "    print(\"Счастливый билет\")\n",
    "else:\n",
    "    print(\"Несчастливый билет\")"
   ]
  }
 ],
 "metadata": {
  "kernelspec": {
   "display_name": "Python 3 (ipykernel)",
   "language": "python",
   "name": "python3"
  },
  "language_info": {
   "codemirror_mode": {
    "name": "ipython",
    "version": 3
   },
   "file_extension": ".py",
   "mimetype": "text/x-python",
   "name": "python",
   "nbconvert_exporter": "python",
   "pygments_lexer": "ipython3",
   "version": "3.9.12"
  }
 },
 "nbformat": 4,
 "nbformat_minor": 5
}
