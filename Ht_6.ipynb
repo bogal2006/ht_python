{
 "cells": [
  {
   "cell_type": "markdown",
   "id": "2b236ef4",
   "metadata": {},
   "source": [
    "### Домашнее задание по теме 6"
   ]
  },
  {
   "cell_type": "markdown",
   "id": "66d1d2dd",
   "metadata": {},
   "source": [
    "### Задание 1"
   ]
  },
  {
   "cell_type": "code",
   "execution_count": 13,
   "id": "6f250c15",
   "metadata": {},
   "outputs": [],
   "source": [
    "import datetime as dt\n",
    "from datetime import timedelta\n",
    "import traceback"
   ]
  },
  {
   "cell_type": "code",
   "execution_count": 2,
   "id": "86e4567a",
   "metadata": {},
   "outputs": [
    {
     "data": {
      "text/plain": [
       "datetime.datetime(2002, 10, 2, 0, 0)"
      ]
     },
     "execution_count": 2,
     "metadata": {},
     "output_type": "execute_result"
    }
   ],
   "source": [
    "the_moscow_times='Wednesday, October 2, 2002'\n",
    "dt_the_moscow_times=dt.datetime.strptime(the_moscow_times,'%A, %B %d, %Y')\n",
    "dt_the_moscow_times"
   ]
  },
  {
   "cell_type": "code",
   "execution_count": 4,
   "id": "1849de1a",
   "metadata": {},
   "outputs": [
    {
     "data": {
      "text/plain": [
       "datetime.datetime(2013, 10, 11, 0, 0)"
      ]
     },
     "execution_count": 4,
     "metadata": {},
     "output_type": "execute_result"
    }
   ],
   "source": [
    "the_guardian='Friday, 11.10.13'\n",
    "dt_the_guardian=dt.datetime.strptime(the_guardian,'%A, %d.%m.%y')\n",
    "dt_the_guardian"
   ]
  },
  {
   "cell_type": "code",
   "execution_count": 10,
   "id": "d3fe3665",
   "metadata": {},
   "outputs": [
    {
     "data": {
      "text/plain": [
       "datetime.datetime(1977, 8, 18, 0, 0)"
      ]
     },
     "execution_count": 10,
     "metadata": {},
     "output_type": "execute_result"
    }
   ],
   "source": [
    "daily_news='Thursday, 18 August 1977'\n",
    "dt_daily_news=dt.datetime.strptime(daily_news,'%A, %d %B %Y')\n",
    "dt_daily_news"
   ]
  },
  {
   "cell_type": "markdown",
   "id": "515f747b",
   "metadata": {},
   "source": [
    "### Задание 2"
   ]
  },
  {
   "cell_type": "code",
   "execution_count": 30,
   "id": "566bf1de",
   "metadata": {},
   "outputs": [],
   "source": [
    "def date_range (start_date_string, end_date_string):\n",
    "    list_date=[]\n",
    "    try:\n",
    "        start_date=dt.datetime.strptime(start_date_string,'%Y-%m-%d')\n",
    "        end_date=dt.datetime.strptime(end_date_string,'%Y-%m-%d')\n",
    "        current_dt = start_date\n",
    "        while current_dt<=end_date:\n",
    "            list_date.append(current_dt.strftime('%Y-%m-%d'))\n",
    "            current_dt+=timedelta(days=1)\n",
    "        return list_date\n",
    "    except Exception:\n",
    "        return list_date\n",
    "            \n",
    "        \n",
    "        \n",
    "        \n",
    "        "
   ]
  },
  {
   "cell_type": "code",
   "execution_count": 31,
   "id": "46abe4b2",
   "metadata": {},
   "outputs": [
    {
     "data": {
      "text/plain": [
       "['2022-01-01', '2022-01-02', '2022-01-03']"
      ]
     },
     "execution_count": 31,
     "metadata": {},
     "output_type": "execute_result"
    }
   ],
   "source": [
    "date_range('2022-01-01', '2022-01-03')"
   ]
  },
  {
   "cell_type": "code",
   "execution_count": 32,
   "id": "3d558bc8",
   "metadata": {},
   "outputs": [
    {
     "data": {
      "text/plain": [
       "[]"
      ]
     },
     "execution_count": 32,
     "metadata": {},
     "output_type": "execute_result"
    }
   ],
   "source": [
    "date_range('2022-01-03', '2022-01-01')"
   ]
  }
 ],
 "metadata": {
  "kernelspec": {
   "display_name": "Python 3 (ipykernel)",
   "language": "python",
   "name": "python3"
  },
  "language_info": {
   "codemirror_mode": {
    "name": "ipython",
    "version": 3
   },
   "file_extension": ".py",
   "mimetype": "text/x-python",
   "name": "python",
   "nbconvert_exporter": "python",
   "pygments_lexer": "ipython3",
   "version": "3.9.12"
  }
 },
 "nbformat": 4,
 "nbformat_minor": 5
}
