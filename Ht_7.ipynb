{
 "cells": [
  {
   "cell_type": "markdown",
   "id": "39a12b47",
   "metadata": {},
   "source": [
    "### Домашнее задание по теме 7"
   ]
  },
  {
   "cell_type": "markdown",
   "id": "7ff090e3",
   "metadata": {},
   "source": [
    "### Задание 1"
   ]
  },
  {
   "cell_type": "code",
   "execution_count": 39,
   "id": "2a5f1f3d",
   "metadata": {},
   "outputs": [],
   "source": [
    "import requests\n",
    "class Rate:\n",
    "    \n",
    "    \"\"\"\n",
    "    \n",
    "    \"\"\"\n",
    "    def __init__(self, format_='value', diff=False):\n",
    "        self.format = format_\n",
    "        self.diff=diff      #добавлена переменная diff\n",
    "    \n",
    "    def exchange_rates(self):\n",
    "        \n",
    "        \"\"\"\n",
    "        Возвращает ответ сервиса с информацией о валютах в виде:\n",
    "        \n",
    "        {\n",
    "            'AMD': {\n",
    "                'CharCode': 'AMD',\n",
    "                'ID': 'R01060',\n",
    "                'Name': 'Армянских драмов',\n",
    "                'Nominal': 100,\n",
    "                'NumCode': '051',\n",
    "                'Previous': 14.103,\n",
    "                'Value': 14.0879\n",
    "                },\n",
    "            ...\n",
    "        }\n",
    "        \"\"\"\n",
    "        self.r = requests.get('https://www.cbr-xml-daily.ru/daily_json.js')\n",
    "        return self.r.json()['Valute']\n",
    "    def make_format(self, currency):\n",
    "        \"\"\"\n",
    "        Возвращает информацию о валюте currency в трех вариантах:\n",
    "        - полная информация о валюте при self.format = 'full':\n",
    "        Rate('full').make_format('EUR')\n",
    "        {\n",
    "            'CharCode': 'EUR',\n",
    "            'ID': 'R01239',\n",
    "            'Name': 'Евро',\n",
    "            'Nominal': 1,\n",
    "            'NumCode': '978',\n",
    "            'Previous': 79.6765,\n",
    "            'Value': 79.4966\n",
    "        }\n",
    "        \n",
    "        Rate('value').make_format('EUR')\n",
    "        79.4966\n",
    "        \n",
    "        Rate('value',True) выводит разницу с предыдущим курсом\n",
    "        \"\"\"\n",
    "        response = self.exchange_rates()\n",
    "        \n",
    "        if currency in response:\n",
    "            if self.format == 'full':\n",
    "                return response[currency]\n",
    "            \n",
    "            if self.format == 'value' and self.diff==False:\n",
    "                return response[currency]['Value']\n",
    "            if self.format == 'value' and self.diff==True:\n",
    "                return response [currency]['Value']-response [currency]['Previous']\n",
    "        \n",
    "        return 'Error'\n",
    "    \n",
    "    def eur(self):\n",
    "        \"\"\"Возвращает курс евро на сегодня в формате self.format\"\"\"\n",
    "        return self.make_format('EUR')\n",
    "    \n",
    "    def usd(self):\n",
    "        \"\"\"Возвращает курс доллара на сегодня в формате self.format\"\"\"\n",
    "        return self.make_format('USD')\n",
    "    \n",
    "    def brl(self):\n",
    "        \"\"\"Возвращает курс бразильского реала на сегодня в формате self.format\"\"\"\n",
    "        return self.make_format('BRL')\n",
    "    \n",
    "    \n",
    "    def max_exchange(self):\n",
    "        \"\"\"\n",
    "        функция возвращающая название валюты с максимальным значением курса\n",
    "        \"\"\"\n",
    "        \n",
    "        name_max_exchange='' # переменная с названием валюты с максимальным курсом\n",
    "        response = self.exchange_rates() # получаем словарь с курсами всех валют\n",
    "        list_value_currency=[] # переменная списка курсов валют\n",
    "        for k in response.keys():  # в цикле перебираем и записываем значения курса каждой валюты в список \n",
    "            list_value_currency.append(response.get(k)['Value']/response.get(k)['Nominal']) # для получения курса делим на номинал валюты\n",
    "        max_exchange=max(list_value_currency) # получаем максимальное значение валюты из списка\n",
    "        \n",
    "        for k in response.keys():  # в цикле перебираем значения всех валют пока не будет совпадения с максимальным значением\n",
    "            if response.get(k)['Value']==max_exchange:\n",
    "                name_max_exchange=response.get(k)['Name'] # сохраняем название валюты с максимальным значением\n",
    "                break\n",
    "        return name_max_exchange\n",
    "        \n",
    "        \n",
    "        "
   ]
  },
  {
   "cell_type": "code",
   "execution_count": 26,
   "id": "ad2ea2f4",
   "metadata": {},
   "outputs": [],
   "source": [
    "c=Rate()"
   ]
  },
  {
   "cell_type": "code",
   "execution_count": 28,
   "id": "e4625d74",
   "metadata": {},
   "outputs": [
    {
     "data": {
      "text/plain": [
       "'СДР (специальные права заимствования)'"
      ]
     },
     "execution_count": 28,
     "metadata": {},
     "output_type": "execute_result"
    }
   ],
   "source": [
    "c.max_exchange()"
   ]
  },
  {
   "cell_type": "markdown",
   "id": "57a7d5bc",
   "metadata": {},
   "source": [
    "### Задание 2"
   ]
  },
  {
   "cell_type": "code",
   "execution_count": 29,
   "id": "fcfa05d0",
   "metadata": {},
   "outputs": [],
   "source": [
    "a=Rate()"
   ]
  },
  {
   "cell_type": "code",
   "execution_count": 31,
   "id": "9c0c59f7",
   "metadata": {},
   "outputs": [
    {
     "data": {
      "text/plain": [
       "60.8019"
      ]
     },
     "execution_count": 31,
     "metadata": {},
     "output_type": "execute_result"
    }
   ],
   "source": [
    "a.eur()"
   ]
  },
  {
   "cell_type": "code",
   "execution_count": 35,
   "id": "d5d637b0",
   "metadata": {},
   "outputs": [],
   "source": [
    "b=Rate('full')"
   ]
  },
  {
   "cell_type": "code",
   "execution_count": 36,
   "id": "9ec38246",
   "metadata": {},
   "outputs": [
    {
     "data": {
      "text/plain": [
       "{'ID': 'R01239',\n",
       " 'NumCode': '978',\n",
       " 'CharCode': 'EUR',\n",
       " 'Nominal': 1,\n",
       " 'Name': 'Евро',\n",
       " 'Value': 60.8019,\n",
       " 'Previous': 59.9756}"
      ]
     },
     "execution_count": 36,
     "metadata": {},
     "output_type": "execute_result"
    }
   ],
   "source": [
    "b.eur()"
   ]
  },
  {
   "cell_type": "code",
   "execution_count": 37,
   "id": "8630cb45",
   "metadata": {},
   "outputs": [],
   "source": [
    "d=Rate('value',True)"
   ]
  },
  {
   "cell_type": "code",
   "execution_count": 40,
   "id": "d187b8af",
   "metadata": {},
   "outputs": [
    {
     "data": {
      "text/plain": [
       "0.8263000000000034"
      ]
     },
     "execution_count": 40,
     "metadata": {},
     "output_type": "execute_result"
    }
   ],
   "source": [
    "d.eur()"
   ]
  }
 ],
 "metadata": {
  "kernelspec": {
   "display_name": "Python 3 (ipykernel)",
   "language": "python",
   "name": "python3"
  },
  "language_info": {
   "codemirror_mode": {
    "name": "ipython",
    "version": 3
   },
   "file_extension": ".py",
   "mimetype": "text/x-python",
   "name": "python",
   "nbconvert_exporter": "python",
   "pygments_lexer": "ipython3",
   "version": "3.9.12"
  }
 },
 "nbformat": 4,
 "nbformat_minor": 5
}
