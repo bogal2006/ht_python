{
 "cells": [
  {
   "cell_type": "markdown",
   "id": "46253ee4",
   "metadata": {},
   "source": [
    "### Домашнее задание по теме 7"
   ]
  },
  {
   "cell_type": "markdown",
   "id": "d2aca5af",
   "metadata": {},
   "source": [
    "### Задание 1"
   ]
  },
  {
   "cell_type": "code",
   "execution_count": 18,
   "id": "68206f6f",
   "metadata": {},
   "outputs": [],
   "source": [
    "import requests\n",
    "class Rate:\n",
    "    \n",
    "    \"\"\"\n",
    "    \n",
    "    \"\"\"\n",
    "    def __init__(self, format_='value'):\n",
    "        self.format = format_\n",
    "    \n",
    "    def exchange_rates(self):\n",
    "        \n",
    "        \"\"\"\n",
    "        Возвращает ответ сервиса с информацией о валютах в виде:\n",
    "        \n",
    "        {\n",
    "            'AMD': {\n",
    "                'CharCode': 'AMD',\n",
    "                'ID': 'R01060',\n",
    "                'Name': 'Армянских драмов',\n",
    "                'Nominal': 100,\n",
    "                'NumCode': '051',\n",
    "                'Previous': 14.103,\n",
    "                'Value': 14.0879\n",
    "                },\n",
    "            ...\n",
    "        }\n",
    "        \"\"\"\n",
    "        self.r = requests.get('https://www.cbr-xml-daily.ru/daily_json.js')\n",
    "        return self.r.json()['Valute']\n",
    "    \n",
    "    \n",
    "    def max_exchange(self):\n",
    "        \"\"\"\n",
    "        функция возвращающая название валюты с максимальным значением курса\n",
    "        \"\"\"\n",
    "        \n",
    "        name_max_exchange='' # переменная с названием валюты с максимальным курсом\n",
    "        response = self.exchange_rates() # получаем словарь с курсами всех валют\n",
    "        list_value_currency=[] # переменная списка курсов валют\n",
    "        for k in response.keys():  # в цикле перебираем и записываем значения курса каждой валюты в список \n",
    "            list_value_currency.append(response.get(k)['Value']/response.get(k)['Nominal']) # для получения курса делим на номинал валюты\n",
    "        max_exchange=max(list_value_currency) # получаем максимальное значение валюты из списка\n",
    "        \n",
    "        for k in response.keys():  # в цикле перебираем значения всех валют пока не будет совпадения с максимальным значением\n",
    "            if response.get(k)['Value']==max_exchange:\n",
    "                name_max_exchange=response.get(k)['Name'] # сохраняем название валюты с максимальным значением\n",
    "                break\n",
    "        return name_max_exchange\n",
    "        \n",
    "        \n",
    "        "
   ]
  },
  {
   "cell_type": "code",
   "execution_count": 19,
   "id": "bd1e654a",
   "metadata": {},
   "outputs": [],
   "source": [
    "c=Rate()"
   ]
  },
  {
   "cell_type": "code",
   "execution_count": 21,
   "id": "75389d46",
   "metadata": {},
   "outputs": [
    {
     "data": {
      "text/plain": [
       "'СДР (специальные права заимствования)'"
      ]
     },
     "execution_count": 21,
     "metadata": {},
     "output_type": "execute_result"
    }
   ],
   "source": [
    "c.max_exchange()"
   ]
  }
 ],
 "metadata": {
  "kernelspec": {
   "display_name": "Python 3 (ipykernel)",
   "language": "python",
   "name": "python3"
  },
  "language_info": {
   "codemirror_mode": {
    "name": "ipython",
    "version": 3
   },
   "file_extension": ".py",
   "mimetype": "text/x-python",
   "name": "python",
   "nbconvert_exporter": "python",
   "pygments_lexer": "ipython3",
   "version": "3.9.12"
  }
 },
 "nbformat": 4,
 "nbformat_minor": 5
}
