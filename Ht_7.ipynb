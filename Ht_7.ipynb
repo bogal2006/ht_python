{
 "cells": [
  {
   "cell_type": "markdown",
   "id": "c4b2b912",
   "metadata": {},
   "source": [
    "### Домашнее задание по теме 7"
   ]
  },
  {
   "cell_type": "markdown",
   "id": "837cb7c5",
   "metadata": {},
   "source": [
    "### Задание 1"
   ]
  },
  {
   "cell_type": "code",
   "execution_count": 39,
   "id": "06b932b0",
   "metadata": {},
   "outputs": [],
   "source": [
    "import requests\n",
    "class Rate:\n",
    "    \n",
    "    \"\"\"\n",
    "    \n",
    "    \"\"\"\n",
    "    def __init__(self, format_='value', diff=False):\n",
    "        self.format = format_\n",
    "        self.diff=diff      #добавлена переменная diff\n",
    "    \n",
    "    def exchange_rates(self):\n",
    "        \n",
    "        \"\"\"\n",
    "        Возвращает ответ сервиса с информацией о валютах в виде:\n",
    "        \n",
    "        {\n",
    "            'AMD': {\n",
    "                'CharCode': 'AMD',\n",
    "                'ID': 'R01060',\n",
    "                'Name': 'Армянских драмов',\n",
    "                'Nominal': 100,\n",
    "                'NumCode': '051',\n",
    "                'Previous': 14.103,\n",
    "                'Value': 14.0879\n",
    "                },\n",
    "            ...\n",
    "        }\n",
    "        \"\"\"\n",
    "        self.r = requests.get('https://www.cbr-xml-daily.ru/daily_json.js')\n",
    "        return self.r.json()['Valute']\n",
    "    def make_format(self, currency):\n",
    "        \"\"\"\n",
    "        Возвращает информацию о валюте currency в трех вариантах:\n",
    "        - полная информация о валюте при self.format = 'full':\n",
    "        Rate('full').make_format('EUR')\n",
    "        {\n",
    "            'CharCode': 'EUR',\n",
    "            'ID': 'R01239',\n",
    "            'Name': 'Евро',\n",
    "            'Nominal': 1,\n",
    "            'NumCode': '978',\n",
    "            'Previous': 79.6765,\n",
    "            'Value': 79.4966\n",
    "        }\n",
    "        \n",
    "        Rate('value').make_format('EUR')\n",
    "        79.4966\n",
    "        \n",
    "        Rate('value',True) выводит разницу с предыдущим курсом\n",
    "        \"\"\"\n",
    "        response = self.exchange_rates()\n",
    "        \n",
    "        if currency in response:\n",
    "            if self.format == 'full':\n",
    "                return response[currency]\n",
    "            \n",
    "            if self.format == 'value' and self.diff==False:\n",
    "                return response[currency]['Value']\n",
    "            if self.format == 'value' and self.diff==True:\n",
    "                return response [currency]['Value']-response [currency]['Previous']\n",
    "        \n",
    "        return 'Error'\n",
    "    \n",
    "    def eur(self):\n",
    "        \"\"\"Возвращает курс евро на сегодня в формате self.format\"\"\"\n",
    "        return self.make_format('EUR')\n",
    "    \n",
    "    def usd(self):\n",
    "        \"\"\"Возвращает курс доллара на сегодня в формате self.format\"\"\"\n",
    "        return self.make_format('USD')\n",
    "    \n",
    "    def brl(self):\n",
    "        \"\"\"Возвращает курс бразильского реала на сегодня в формате self.format\"\"\"\n",
    "        return self.make_format('BRL')\n",
    "    \n",
    "    \n",
    "    def max_exchange(self):\n",
    "        \"\"\"\n",
    "        функция возвращающая название валюты с максимальным значением курса\n",
    "        \"\"\"\n",
    "        \n",
    "        name_max_exchange='' # переменная с названием валюты с максимальным курсом\n",
    "        response = self.exchange_rates() # получаем словарь с курсами всех валют\n",
    "        list_value_currency=[] # переменная списка курсов валют\n",
    "        for k in response.keys():  # в цикле перебираем и записываем значения курса каждой валюты в список \n",
    "            list_value_currency.append(response.get(k)['Value']/response.get(k)['Nominal']) # для получения курса делим на номинал валюты\n",
    "        max_exchange=max(list_value_currency) # получаем максимальное значение валюты из списка\n",
    "        \n",
    "        for k in response.keys():  # в цикле перебираем значения всех валют пока не будет совпадения с максимальным значением\n",
    "            if response.get(k)['Value']==max_exchange:\n",
    "                name_max_exchange=response.get(k)['Name'] # сохраняем название валюты с максимальным значением\n",
    "                break\n",
    "        return name_max_exchange\n",
    "        \n",
    "        \n",
    "        "
   ]
  },
  {
   "cell_type": "code",
   "execution_count": 26,
   "id": "a91ecef7",
   "metadata": {},
   "outputs": [],
   "source": [
    "c=Rate()"
   ]
  },
  {
   "cell_type": "code",
   "execution_count": 28,
   "id": "b3f388fa",
   "metadata": {},
   "outputs": [
    {
     "data": {
      "text/plain": [
       "'СДР (специальные права заимствования)'"
      ]
     },
     "execution_count": 28,
     "metadata": {},
     "output_type": "execute_result"
    }
   ],
   "source": [
    "c.max_exchange()"
   ]
  },
  {
   "cell_type": "markdown",
   "id": "e47d5b76",
   "metadata": {},
   "source": [
    "### Задание 2"
   ]
  },
  {
   "cell_type": "code",
   "execution_count": 29,
   "id": "a591c455",
   "metadata": {},
   "outputs": [],
   "source": [
    "a=Rate()"
   ]
  },
  {
   "cell_type": "code",
   "execution_count": 31,
   "id": "5ac3f1e3",
   "metadata": {},
   "outputs": [
    {
     "data": {
      "text/plain": [
       "60.8019"
      ]
     },
     "execution_count": 31,
     "metadata": {},
     "output_type": "execute_result"
    }
   ],
   "source": [
    "a.eur()"
   ]
  },
  {
   "cell_type": "code",
   "execution_count": 35,
   "id": "ad4d576b",
   "metadata": {},
   "outputs": [],
   "source": [
    "b=Rate('full')"
   ]
  },
  {
   "cell_type": "code",
   "execution_count": 36,
   "id": "fc794628",
   "metadata": {},
   "outputs": [
    {
     "data": {
      "text/plain": [
       "{'ID': 'R01239',\n",
       " 'NumCode': '978',\n",
       " 'CharCode': 'EUR',\n",
       " 'Nominal': 1,\n",
       " 'Name': 'Евро',\n",
       " 'Value': 60.8019,\n",
       " 'Previous': 59.9756}"
      ]
     },
     "execution_count": 36,
     "metadata": {},
     "output_type": "execute_result"
    }
   ],
   "source": [
    "b.eur()"
   ]
  },
  {
   "cell_type": "code",
   "execution_count": 37,
   "id": "7563a0cb",
   "metadata": {},
   "outputs": [],
   "source": [
    "d=Rate('value',True)"
   ]
  },
  {
   "cell_type": "code",
   "execution_count": 40,
   "id": "3f963bcd",
   "metadata": {},
   "outputs": [
    {
     "data": {
      "text/plain": [
       "0.8263000000000034"
      ]
     },
     "execution_count": 40,
     "metadata": {},
     "output_type": "execute_result"
    }
   ],
   "source": [
    "d.eur()"
   ]
  },
  {
   "cell_type": "markdown",
   "id": "941cc555",
   "metadata": {},
   "source": [
    "### Задание 3"
   ]
  },
  {
   "cell_type": "code",
   "execution_count": 41,
   "id": "1389edb9",
   "metadata": {},
   "outputs": [],
   "source": [
    "class Employee:\n",
    "    def __init__(self, name, seniority):\n",
    "        self.name = name\n",
    "        self.seniority = seniority\n",
    "        \n",
    "        self.grade = 1\n",
    "    \n",
    "    def grade_up(self):\n",
    "        \"\"\"Повышает уровень сотрудника\"\"\"\n",
    "        self.grade += 1\n",
    "    \n",
    "    def publish_grade(self):\n",
    "        \"\"\"Публикация результатов аккредитации сотрудников\"\"\"\n",
    "        print(self.name, self.grade)\n",
    "    \n",
    "    def check_if_it_is_time_for_upgrade(self):\n",
    "        pass"
   ]
  },
  {
   "cell_type": "code",
   "execution_count": 42,
   "id": "9efa24f4",
   "metadata": {},
   "outputs": [],
   "source": [
    "class Designer(Employee):\n",
    "    def __init__(self, name, seniority,international_award=2): # дизайнер изначально имеет 2 премии\n",
    "        super().__init__(name, seniority)\n",
    "        self.international_award=international_award\n",
    "        \"\"\" добавление по 2 балла за 1 премию \"\"\" \n",
    "        self.seniority=self.international_award*2+self.seniority\n",
    "    \n",
    "    def check_if_it_is_time_for_upgrade(self):\n",
    "        \n",
    "        # для каждой аккредитации увеличиваем счетчик на 1\n",
    "        # пока считаем, что все дизайнеры проходят аккредитацию\n",
    "        self.seniority+=1\n",
    "        \n",
    "        # условие повышения сотрудника после 7 баллов\n",
    "        if self.seniority % 7 == 0:\n",
    "            self.grade_up()\n",
    "        \n",
    "        # публикация результатов\n",
    "        return self.publish_grade()"
   ]
  },
  {
   "cell_type": "code",
   "execution_count": 43,
   "id": "a7b14392",
   "metadata": {},
   "outputs": [],
   "source": [
    "serg=Designer('Сергей',0)"
   ]
  },
  {
   "cell_type": "code",
   "execution_count": 44,
   "id": "fc4a83d3",
   "metadata": {},
   "outputs": [
    {
     "name": "stdout",
     "output_type": "stream",
     "text": [
      "Сергей 1\n",
      "Сергей 1\n",
      "Сергей 2\n",
      "Сергей 2\n",
      "Сергей 2\n",
      "Сергей 2\n",
      "Сергей 2\n",
      "Сергей 2\n",
      "Сергей 2\n",
      "Сергей 3\n",
      "Сергей 3\n",
      "Сергей 3\n",
      "Сергей 3\n",
      "Сергей 3\n",
      "Сергей 3\n",
      "Сергей 3\n",
      "Сергей 4\n",
      "Сергей 4\n",
      "Сергей 4\n",
      "Сергей 4\n"
     ]
    }
   ],
   "source": [
    "for i in range(20):\n",
    "    serg.check_if_it_is_time_for_upgrade()"
   ]
  }
 ],
 "metadata": {
  "kernelspec": {
   "display_name": "Python 3 (ipykernel)",
   "language": "python",
   "name": "python3"
  },
  "language_info": {
   "codemirror_mode": {
    "name": "ipython",
    "version": 3
   },
   "file_extension": ".py",
   "mimetype": "text/x-python",
   "name": "python",
   "nbconvert_exporter": "python",
   "pygments_lexer": "ipython3",
   "version": "3.9.12"
  }
 },
 "nbformat": 4,
 "nbformat_minor": 5
}
