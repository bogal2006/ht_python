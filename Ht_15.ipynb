{
 "cells": [
  {
   "cell_type": "markdown",
   "id": "4dfc7f52",
   "metadata": {},
   "source": [
    "### Домашнее задание по теме 15\n"
   ]
  },
  {
   "cell_type": "markdown",
   "id": "91929518",
   "metadata": {},
   "source": [
    "### Задание 1"
   ]
  },
  {
   "cell_type": "code",
   "execution_count": 1,
   "id": "b6e78ca1",
   "metadata": {},
   "outputs": [],
   "source": [
    "import numpy as np"
   ]
  },
  {
   "cell_type": "code",
   "execution_count": 61,
   "id": "8f4c393d",
   "metadata": {},
   "outputs": [],
   "source": [
    "d=np.array([[1,4,7],[2,5,8],[3,6,9]])\n"
   ]
  },
  {
   "cell_type": "code",
   "execution_count": 110,
   "id": "66b7e3eb",
   "metadata": {},
   "outputs": [],
   "source": [
    "def standard_scaler(x):\n",
    "    \"\"\"функция, которая для двумерного массива \n",
    "    вычитает среднее значение каждого столбца \n",
    "    и делит на стандартное отклонение \n",
    "    того столбца средствами numpy, \n",
    "    не используя циклы\"\"\"\n",
    "    return (x - x.mean(axis=0)) / x.std(axis=0)"
   ]
  },
  {
   "cell_type": "code",
   "execution_count": 111,
   "id": "4fbf8e6f",
   "metadata": {},
   "outputs": [
    {
     "data": {
      "text/plain": [
       "array([[-1.22474487, -1.22474487, -1.22474487],\n",
       "       [ 0.        ,  0.        ,  0.        ],\n",
       "       [ 1.22474487,  1.22474487,  1.22474487]])"
      ]
     },
     "execution_count": 111,
     "metadata": {},
     "output_type": "execute_result"
    }
   ],
   "source": [
    "standard_scaler(d)"
   ]
  },
  {
   "cell_type": "markdown",
   "id": "03e4388f",
   "metadata": {},
   "source": [
    "### Задание 2"
   ]
  },
  {
   "cell_type": "code",
   "execution_count": 112,
   "id": "9af1d1b0",
   "metadata": {},
   "outputs": [],
   "source": [
    "a=np.random.randint(1,100, size=(10,100)) # инициализация матрицы"
   ]
  },
  {
   "cell_type": "code",
   "execution_count": 121,
   "id": "d496c685",
   "metadata": {},
   "outputs": [],
   "source": [
    "def get_corcoefs(x):\n",
    "    k=np.corrcoef(x) #получаем коэфициенты\n",
    "    t=np.triu(k) # выделяем только значимые значения \n",
    "    return t.reshape(-1,) # разворачиваем в вектор\n",
    "    "
   ]
  },
  {
   "cell_type": "code",
   "execution_count": 122,
   "id": "582c17aa",
   "metadata": {},
   "outputs": [
    {
     "data": {
      "text/plain": [
       "array([ 1.        ,  0.03597754, -0.06966772, -0.03694884, -0.03912259,\n",
       "        0.03522622, -0.03392216,  0.02051441,  0.13716512, -0.01989432,\n",
       "        0.        ,  1.        ,  0.05194177, -0.00768073,  0.1168531 ,\n",
       "        0.0017687 , -0.10154037, -0.10432328, -0.20369634, -0.1297429 ,\n",
       "        0.        ,  0.        ,  1.        , -0.00172052,  0.23160296,\n",
       "       -0.18049084, -0.05740927, -0.09496757, -0.20096441,  0.03732413,\n",
       "        0.        ,  0.        ,  0.        ,  1.        ,  0.05431912,\n",
       "        0.1370581 , -0.10757611,  0.04054223, -0.04901402, -0.07110621,\n",
       "        0.        ,  0.        ,  0.        ,  0.        ,  1.        ,\n",
       "        0.03638945, -0.16263442,  0.0408953 , -0.01989316, -0.11659529,\n",
       "        0.        ,  0.        ,  0.        ,  0.        ,  0.        ,\n",
       "        1.        ,  0.00633907,  0.04102439, -0.01756514, -0.19403011,\n",
       "        0.        ,  0.        ,  0.        ,  0.        ,  0.        ,\n",
       "        0.        ,  1.        ,  0.08964651,  0.03539521, -0.07186387,\n",
       "        0.        ,  0.        ,  0.        ,  0.        ,  0.        ,\n",
       "        0.        ,  0.        ,  1.        ,  0.07786507, -0.06133811,\n",
       "        0.        ,  0.        ,  0.        ,  0.        ,  0.        ,\n",
       "        0.        ,  0.        ,  0.        ,  1.        ,  0.21830697,\n",
       "        0.        ,  0.        ,  0.        ,  0.        ,  0.        ,\n",
       "        0.        ,  0.        ,  0.        ,  0.        ,  1.        ])"
      ]
     },
     "execution_count": 122,
     "metadata": {},
     "output_type": "execute_result"
    }
   ],
   "source": [
    "get_corcoefs(a)"
   ]
  },
  {
   "cell_type": "code",
   "execution_count": null,
   "id": "5ebd8d18",
   "metadata": {},
   "outputs": [],
   "source": []
  }
 ],
 "metadata": {
  "kernelspec": {
   "display_name": "Python 3 (ipykernel)",
   "language": "python",
   "name": "python3"
  },
  "language_info": {
   "codemirror_mode": {
    "name": "ipython",
    "version": 3
   },
   "file_extension": ".py",
   "mimetype": "text/x-python",
   "name": "python",
   "nbconvert_exporter": "python",
   "pygments_lexer": "ipython3",
   "version": "3.9.12"
  }
 },
 "nbformat": 4,
 "nbformat_minor": 5
}
