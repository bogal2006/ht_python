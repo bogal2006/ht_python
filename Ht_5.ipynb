{
 "cells": [
  {
   "cell_type": "markdown",
   "id": "c5f3b6f6",
   "metadata": {},
   "source": [
    "### Домашнее задание по теме 5\n"
   ]
  },
  {
   "cell_type": "markdown",
   "id": "d6d09ed1",
   "metadata": {},
   "source": [
    "### Задание 1"
   ]
  },
  {
   "cell_type": "code",
   "execution_count": 68,
   "id": "83ece245",
   "metadata": {},
   "outputs": [],
   "source": [
    "import json\n"
   ]
  },
  {
   "cell_type": "code",
   "execution_count": 107,
   "id": "030f60a5",
   "metadata": {},
   "outputs": [
    {
     "name": "stdout",
     "output_type": "stream",
     "text": [
      "{'user_id': 'user_id', 'category': 'category'}\n",
      "{'category': 'Продукты', 'user_id': '1840e0b9d4'}\n"
     ]
    }
   ],
   "source": [
    "with open('purchase_log.txt','r',encoding='utf-8') as f:\n",
    "    for i in range(2):\n",
    "        dict_=json.loads(f.readline())\n",
    "        print(dict_)\n",
    "       \n",
    "        \n",
    "        \n",
    "    \n",
    "      "
   ]
  }
 ],
 "metadata": {
  "kernelspec": {
   "display_name": "Python 3 (ipykernel)",
   "language": "python",
   "name": "python3"
  },
  "language_info": {
   "codemirror_mode": {
    "name": "ipython",
    "version": 3
   },
   "file_extension": ".py",
   "mimetype": "text/x-python",
   "name": "python",
   "nbconvert_exporter": "python",
   "pygments_lexer": "ipython3",
   "version": "3.9.12"
  }
 },
 "nbformat": 4,
 "nbformat_minor": 5
}
