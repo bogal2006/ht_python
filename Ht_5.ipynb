{
 "cells": [
  {
   "cell_type": "markdown",
   "id": "c5f3b6f6",
   "metadata": {},
   "source": [
    "### Домашнее задание по теме 5\n"
   ]
  },
  {
   "cell_type": "markdown",
   "id": "d6d09ed1",
   "metadata": {},
   "source": [
    "### Задание 1"
   ]
  },
  {
   "cell_type": "code",
   "execution_count": 67,
   "id": "83ece245",
   "metadata": {},
   "outputs": [],
   "source": [
    "import json\n"
   ]
  },
  {
   "cell_type": "code",
   "execution_count": 69,
   "id": "030f60a5",
   "metadata": {},
   "outputs": [
    {
     "name": "stdout",
     "output_type": "stream",
     "text": [
      "{'user_id': 'user_id', 'category': 'category'}\n",
      "{'user_id': '1840e0b9d4', 'category': 'Продукты'}\n",
      "{'user_id': '4e4f90fcfb', 'category': 'Электроника'}\n",
      "{'user_id': 'afea8d72fc', 'category': 'Электроника'}\n"
     ]
    }
   ],
   "source": [
    "with open('purchase_log.txt','r',encoding='utf-8') as f:\n",
    "    for i in range(4):\n",
    "        dict_=json.loads(f.readline())\n",
    "        print(dict_)\n",
    "       \n",
    "       \n",
    "        \n",
    "        \n",
    "    \n",
    "      "
   ]
  },
  {
   "cell_type": "markdown",
   "id": "a0c962d7",
   "metadata": {},
   "source": [
    "### Задание 2"
   ]
  },
  {
   "cell_type": "code",
   "execution_count": 70,
   "id": "c27321ed",
   "metadata": {},
   "outputs": [],
   "source": [
    "def extract_from_file_retutn_dict():\n",
    "    \"\"\"\n",
    "    функция извлекающая из файла  purchase_log.txt строки и создает из них словарь\n",
    "    \n",
    "    \"\"\"\n",
    "    extract_list=[]\n",
    "    extract_dict={}\n",
    "    with open('purchase_log.txt','r',encoding='utf-8') as w:\n",
    "        for line in w:\n",
    "            dict_=json.loads(w.readline())# извлекаем из строки словарь\n",
    "            k,l=dict_.values()\n",
    "            extract_dict[k]=l\n",
    "        return extract_dict    \n",
    "    \n",
    "            \n",
    "    \n",
    "            \n",
    "            \n",
    "        \n",
    "    "
   ]
  },
  {
   "cell_type": "code",
   "execution_count": 71,
   "id": "744408b4",
   "metadata": {},
   "outputs": [],
   "source": [
    "with open('funnel.csv','w') as w:\n",
    "    w.write('user_id,source,category\\n')\n",
    "    with open('visit_log.csv','r',encoding='utf-8') as c:\n",
    "        d=extract_from_file_retutn_dict() # извлекли строки в словарь из файла purchase_log.txt \n",
    "        i=0\n",
    "        for line in c:\n",
    "            visit_log_list=c.readline().strip().split(',') # считаваем строку из файла и пребразовываем в словарь\n",
    "            if visit_log_list[0] in d: # если id из строки содержится в ключах словаря purchase_log.txt\n",
    "                visit_log_list.append(d.get(visit_log_list[0])) # добавляем категорию покупки в список\n",
    "                visit_log_string=','.join(visit_log_list)  # преобразовываем список в строку\n",
    "                w.write(f'{visit_log_string}\\n')\n",
    "                \n",
    "                  \n",
    "                  \n",
    "      \n",
    "            \n",
    "        \n",
    "      "
   ]
  },
  {
   "cell_type": "code",
   "execution_count": 72,
   "id": "5dc08167",
   "metadata": {},
   "outputs": [
    {
     "name": "stdout",
     "output_type": "stream",
     "text": [
      "user_id,source,category\n",
      "\n",
      "afea8d72fc,other,Электроника\n",
      "\n",
      "9b2ab046f3,other,Электроника\n",
      "\n",
      "44edeffc91,context,Продукты\n",
      "\n",
      "1de31be403,other,Бытовая техника\n",
      "\n"
     ]
    }
   ],
   "source": [
    "with open('funnel.csv','r') as n:\n",
    "    i=0\n",
    "    for str_ in n:\n",
    "        print(str_)\n",
    "        i+=1\n",
    "        if i==5:\n",
    "            break\n",
    "    \n"
   ]
  }
 ],
 "metadata": {
  "kernelspec": {
   "display_name": "Python 3 (ipykernel)",
   "language": "python",
   "name": "python3"
  },
  "language_info": {
   "codemirror_mode": {
    "name": "ipython",
    "version": 3
   },
   "file_extension": ".py",
   "mimetype": "text/x-python",
   "name": "python",
   "nbconvert_exporter": "python",
   "pygments_lexer": "ipython3",
   "version": "3.9.12"
  }
 },
 "nbformat": 4,
 "nbformat_minor": 5
}
