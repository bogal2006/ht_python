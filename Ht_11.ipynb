{
 "cells": [
  {
   "cell_type": "markdown",
   "id": "fa7391aa",
   "metadata": {},
   "source": [
    "### Домашнее задание по теме 11\n"
   ]
  },
  {
   "cell_type": "code",
   "execution_count": 1,
   "id": "77b8ca6a",
   "metadata": {},
   "outputs": [],
   "source": [
    "import asyncio"
   ]
  },
  {
   "cell_type": "code",
   "execution_count": 26,
   "id": "01a37c6b",
   "metadata": {},
   "outputs": [],
   "source": [
    "import requests"
   ]
  },
  {
   "cell_type": "code",
   "execution_count": 5,
   "id": "6b4c90cc",
   "metadata": {},
   "outputs": [],
   "source": [
    "import time"
   ]
  },
  {
   "cell_type": "code",
   "execution_count": 44,
   "id": "18b3167f",
   "metadata": {},
   "outputs": [],
   "source": [
    "async def reqqests_e1(n):\n",
    "    a=requests.get('https://www.e1.ru')\n",
    "    print(f\"Read {len(a.content)} from {a.url} from coroutine {n}\")"
   ]
  },
  {
   "cell_type": "code",
   "execution_count": 45,
   "id": "5454b377",
   "metadata": {},
   "outputs": [],
   "source": [
    "async def reqqests_ura(n):\n",
    "    a=requests.get('https://ura.news')\n",
    "    print(f\"Read {len(a.content)} from {a.url} from coroutine {n} \")"
   ]
  },
  {
   "cell_type": "code",
   "execution_count": 46,
   "id": "07572eec",
   "metadata": {},
   "outputs": [],
   "source": [
    "async def reqqests_obl_gaz(n):\n",
    "    a=requests.get('https://www.oblgazeta.ru')\n",
    "    print(f\"Read {len(a.content)} from {a.url} from coroutine {n}\")"
   ]
  },
  {
   "cell_type": "code",
   "execution_count": 47,
   "id": "bb641531",
   "metadata": {},
   "outputs": [],
   "source": [
    "async def main():\n",
    "    await asyncio.gather(reqqests_e1(1), reqqests_ura(2), reqqests_obl_gaz(3)) \n"
   ]
  },
  {
   "cell_type": "code",
   "execution_count": 49,
   "id": "9eed2d5c",
   "metadata": {},
   "outputs": [
    {
     "name": "stdout",
     "output_type": "stream",
     "text": [
      "Read 929321 from https://www.e1.ru/ from coroutine 1\n",
      "Read 183595 from https://ura.news/ from coroutine 2 \n",
      "Read 91684 from https://www.oblgazeta.ru/ from coroutine 3\n",
      "The program executed in 0.76 seconds.\n"
     ]
    }
   ],
   "source": [
    "s = time.perf_counter()\n",
    "await main()\n",
    "elapsed = time.perf_counter() - s\n",
    "print(f\"The program executed in {elapsed:0.2f} seconds.\")"
   ]
  }
 ],
 "metadata": {
  "kernelspec": {
   "display_name": "Python 3 (ipykernel)",
   "language": "python",
   "name": "python3"
  },
  "language_info": {
   "codemirror_mode": {
    "name": "ipython",
    "version": 3
   },
   "file_extension": ".py",
   "mimetype": "text/x-python",
   "name": "python",
   "nbconvert_exporter": "python",
   "pygments_lexer": "ipython3",
   "version": "3.9.12"
  }
 },
 "nbformat": 4,
 "nbformat_minor": 5
}
